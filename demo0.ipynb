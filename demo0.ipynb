{
  "nbformat": 4,
  "nbformat_minor": 0,
  "metadata": {
    "colab": {
      "provenance": [],
      "gpuType": "T4",
      "mount_file_id": "1p8Ge4_YdsmY0cjY6DSwobNdHm3hlMLtu",
      "authorship_tag": "ABX9TyMzWybibpBvlTMpDDJU1Vyh",
      "include_colab_link": true
    },
    "kernelspec": {
      "name": "python3",
      "display_name": "Python 3"
    },
    "language_info": {
      "name": "python"
    },
    "accelerator": "GPU"
  },
  "cells": [
    {
      "cell_type": "markdown",
      "metadata": {
        "id": "view-in-github",
        "colab_type": "text"
      },
      "source": [
        "<a href=\"https://colab.research.google.com/github/harshitneverdebugs/ZoneWatch/blob/main/demo0.ipynb\" target=\"_parent\"><img src=\"https://colab.research.google.com/assets/colab-badge.svg\" alt=\"Open In Colab\"/></a>"
      ]
    },
    {
      "cell_type": "code",
      "execution_count": null,
      "metadata": {
        "colab": {
          "base_uri": "https://localhost:8080/"
        },
        "id": "rp3sC75BlliH",
        "outputId": "f7cd25de-a13b-4e6e-ee4c-342cc772d0a9"
      },
      "outputs": [
        {
          "output_type": "stream",
          "name": "stdout",
          "text": [
            "Collecting roboflow\n",
            "  Downloading roboflow-1.1.49-py3-none-any.whl.metadata (9.7 kB)\n",
            "Requirement already satisfied: certifi in /usr/local/lib/python3.10/dist-packages (from roboflow) (2024.8.30)\n",
            "Collecting idna==3.7 (from roboflow)\n",
            "  Downloading idna-3.7-py3-none-any.whl.metadata (9.9 kB)\n",
            "Requirement already satisfied: cycler in /usr/local/lib/python3.10/dist-packages (from roboflow) (0.12.1)\n",
            "Requirement already satisfied: kiwisolver>=1.3.1 in /usr/local/lib/python3.10/dist-packages (from roboflow) (1.4.7)\n",
            "Requirement already satisfied: matplotlib in /usr/local/lib/python3.10/dist-packages (from roboflow) (3.8.0)\n",
            "Requirement already satisfied: numpy>=1.18.5 in /usr/local/lib/python3.10/dist-packages (from roboflow) (1.26.4)\n",
            "Requirement already satisfied: opencv-python-headless==4.10.0.84 in /usr/local/lib/python3.10/dist-packages (from roboflow) (4.10.0.84)\n",
            "Requirement already satisfied: Pillow>=7.1.2 in /usr/local/lib/python3.10/dist-packages (from roboflow) (11.0.0)\n",
            "Requirement already satisfied: python-dateutil in /usr/local/lib/python3.10/dist-packages (from roboflow) (2.8.2)\n",
            "Collecting python-dotenv (from roboflow)\n",
            "  Downloading python_dotenv-1.0.1-py3-none-any.whl.metadata (23 kB)\n",
            "Requirement already satisfied: requests in /usr/local/lib/python3.10/dist-packages (from roboflow) (2.32.3)\n",
            "Requirement already satisfied: six in /usr/local/lib/python3.10/dist-packages (from roboflow) (1.16.0)\n",
            "Requirement already satisfied: urllib3>=1.26.6 in /usr/local/lib/python3.10/dist-packages (from roboflow) (2.2.3)\n",
            "Requirement already satisfied: tqdm>=4.41.0 in /usr/local/lib/python3.10/dist-packages (from roboflow) (4.66.6)\n",
            "Requirement already satisfied: PyYAML>=5.3.1 in /usr/local/lib/python3.10/dist-packages (from roboflow) (6.0.2)\n",
            "Requirement already satisfied: requests-toolbelt in /usr/local/lib/python3.10/dist-packages (from roboflow) (1.0.0)\n",
            "Collecting filetype (from roboflow)\n",
            "  Downloading filetype-1.2.0-py2.py3-none-any.whl.metadata (6.5 kB)\n",
            "Requirement already satisfied: contourpy>=1.0.1 in /usr/local/lib/python3.10/dist-packages (from matplotlib->roboflow) (1.3.1)\n",
            "Requirement already satisfied: fonttools>=4.22.0 in /usr/local/lib/python3.10/dist-packages (from matplotlib->roboflow) (4.55.0)\n",
            "Requirement already satisfied: packaging>=20.0 in /usr/local/lib/python3.10/dist-packages (from matplotlib->roboflow) (24.2)\n",
            "Requirement already satisfied: pyparsing>=2.3.1 in /usr/local/lib/python3.10/dist-packages (from matplotlib->roboflow) (3.2.0)\n",
            "Requirement already satisfied: charset-normalizer<4,>=2 in /usr/local/lib/python3.10/dist-packages (from requests->roboflow) (3.4.0)\n",
            "Downloading roboflow-1.1.49-py3-none-any.whl (80 kB)\n",
            "\u001b[2K   \u001b[90m━━━━━━━━━━━━━━━━━━━━━━━━━━━━━━━━━━━━━━━━\u001b[0m \u001b[32m80.9/80.9 kB\u001b[0m \u001b[31m3.6 MB/s\u001b[0m eta \u001b[36m0:00:00\u001b[0m\n",
            "\u001b[?25hDownloading idna-3.7-py3-none-any.whl (66 kB)\n",
            "\u001b[2K   \u001b[90m━━━━━━━━━━━━━━━━━━━━━━━━━━━━━━━━━━━━━━━━\u001b[0m \u001b[32m66.8/66.8 kB\u001b[0m \u001b[31m4.1 MB/s\u001b[0m eta \u001b[36m0:00:00\u001b[0m\n",
            "\u001b[?25hDownloading filetype-1.2.0-py2.py3-none-any.whl (19 kB)\n",
            "Downloading python_dotenv-1.0.1-py3-none-any.whl (19 kB)\n",
            "Installing collected packages: filetype, python-dotenv, idna, roboflow\n",
            "  Attempting uninstall: idna\n",
            "    Found existing installation: idna 3.10\n",
            "    Uninstalling idna-3.10:\n",
            "      Successfully uninstalled idna-3.10\n",
            "Successfully installed filetype-1.2.0 idna-3.7 python-dotenv-1.0.1 roboflow-1.1.49\n",
            "loading Roboflow workspace...\n",
            "loading Roboflow project...\n"
          ]
        },
        {
          "output_type": "stream",
          "name": "stderr",
          "text": [
            "Downloading Dataset Version Zip in vid1-1 to yolov8:: 100%|██████████| 5667/5667 [00:01<00:00, 3224.99it/s]"
          ]
        },
        {
          "output_type": "stream",
          "name": "stdout",
          "text": [
            "\n"
          ]
        },
        {
          "output_type": "stream",
          "name": "stderr",
          "text": [
            "\n",
            "Extracting Dataset Version Zip to vid1-1 in yolov8:: 100%|██████████| 223/223 [00:00<00:00, 7125.18it/s]\n"
          ]
        }
      ],
      "source": [
        "!pip install roboflow\n",
        "\n",
        "from roboflow import Roboflow\n",
        "rf = Roboflow(api_key=\"gdXIKP3144x9M45COAkh\")\n",
        "project = rf.workspace(\"harshit-bjdxj\").project(\"vid1-woahx\")\n",
        "version = project.version(1)\n",
        "dataset = version.download(\"yolov8\")"
      ]
    },
    {
      "cell_type": "code",
      "source": [
        "print(\"Dataset location:\", dataset.location)\n",
        "\n",
        "# Step 6: Check the contents of the downloaded dataset\n",
        "import os\n",
        "\n",
        "# List files in the downloaded dataset directory\n",
        "dataset_path = dataset.location  # The path Roboflow gives\n",
        "files_in_dataset = os.listdir(dataset_path)\n",
        "print(\"Files in dataset:\", files_in_dataset)\n",
        "\n",
        "# Now, let's check the contents of 'train', 'valid', 'test' folders\n",
        "train_dir = os.path.join(dataset_path, 'train')\n",
        "valid_dir = os.path.join(dataset_path, 'valid')\n",
        "test_dir = os.path.join(dataset_path, 'test')\n",
        "\n",
        "print(\"Train folder contents:\", os.listdir(train_dir))\n",
        "print(\"Valid folder contents:\", os.listdir(valid_dir))\n",
        "print(\"Test folder contents:\", os.listdir(test_dir))"
      ],
      "metadata": {
        "colab": {
          "base_uri": "https://localhost:8080/"
        },
        "id": "p9fTUl0imhj1",
        "outputId": "2661ece6-9a15-4405-ba60-addcfa1301f5"
      },
      "execution_count": null,
      "outputs": [
        {
          "output_type": "stream",
          "name": "stdout",
          "text": [
            "Dataset location: /content/vid1-1\n",
            "Files in dataset: ['test', 'data.yaml', 'README.roboflow.txt', 'valid', 'train']\n",
            "Train folder contents: ['labels', 'images']\n",
            "Valid folder contents: ['labels', 'images']\n",
            "Test folder contents: ['labels', 'images']\n"
          ]
        }
      ]
    },
    {
      "cell_type": "code",
      "source": [
        "# Install YOLOv8 (Ultralytics package)\n",
        "!pip install ultralytics"
      ],
      "metadata": {
        "colab": {
          "base_uri": "https://localhost:8080/"
        },
        "id": "CmLNpkl0muJX",
        "outputId": "fcf76a04-31fc-4343-b882-9f9a1d302343"
      },
      "execution_count": null,
      "outputs": [
        {
          "output_type": "stream",
          "name": "stdout",
          "text": [
            "Collecting ultralytics\n",
            "  Downloading ultralytics-8.3.41-py3-none-any.whl.metadata (35 kB)\n",
            "Requirement already satisfied: numpy>=1.23.0 in /usr/local/lib/python3.10/dist-packages (from ultralytics) (1.26.4)\n",
            "Requirement already satisfied: matplotlib>=3.3.0 in /usr/local/lib/python3.10/dist-packages (from ultralytics) (3.8.0)\n",
            "Requirement already satisfied: opencv-python>=4.6.0 in /usr/local/lib/python3.10/dist-packages (from ultralytics) (4.10.0.84)\n",
            "Requirement already satisfied: pillow>=7.1.2 in /usr/local/lib/python3.10/dist-packages (from ultralytics) (11.0.0)\n",
            "Requirement already satisfied: pyyaml>=5.3.1 in /usr/local/lib/python3.10/dist-packages (from ultralytics) (6.0.2)\n",
            "Requirement already satisfied: requests>=2.23.0 in /usr/local/lib/python3.10/dist-packages (from ultralytics) (2.32.3)\n",
            "Requirement already satisfied: scipy>=1.4.1 in /usr/local/lib/python3.10/dist-packages (from ultralytics) (1.13.1)\n",
            "Requirement already satisfied: torch>=1.8.0 in /usr/local/lib/python3.10/dist-packages (from ultralytics) (2.5.1+cu121)\n",
            "Requirement already satisfied: torchvision>=0.9.0 in /usr/local/lib/python3.10/dist-packages (from ultralytics) (0.20.1+cu121)\n",
            "Requirement already satisfied: tqdm>=4.64.0 in /usr/local/lib/python3.10/dist-packages (from ultralytics) (4.66.6)\n",
            "Requirement already satisfied: psutil in /usr/local/lib/python3.10/dist-packages (from ultralytics) (5.9.5)\n",
            "Requirement already satisfied: py-cpuinfo in /usr/local/lib/python3.10/dist-packages (from ultralytics) (9.0.0)\n",
            "Requirement already satisfied: pandas>=1.1.4 in /usr/local/lib/python3.10/dist-packages (from ultralytics) (2.2.2)\n",
            "Requirement already satisfied: seaborn>=0.11.0 in /usr/local/lib/python3.10/dist-packages (from ultralytics) (0.13.2)\n",
            "Collecting ultralytics-thop>=2.0.0 (from ultralytics)\n",
            "  Downloading ultralytics_thop-2.0.12-py3-none-any.whl.metadata (9.4 kB)\n",
            "Requirement already satisfied: contourpy>=1.0.1 in /usr/local/lib/python3.10/dist-packages (from matplotlib>=3.3.0->ultralytics) (1.3.1)\n",
            "Requirement already satisfied: cycler>=0.10 in /usr/local/lib/python3.10/dist-packages (from matplotlib>=3.3.0->ultralytics) (0.12.1)\n",
            "Requirement already satisfied: fonttools>=4.22.0 in /usr/local/lib/python3.10/dist-packages (from matplotlib>=3.3.0->ultralytics) (4.55.0)\n",
            "Requirement already satisfied: kiwisolver>=1.0.1 in /usr/local/lib/python3.10/dist-packages (from matplotlib>=3.3.0->ultralytics) (1.4.7)\n",
            "Requirement already satisfied: packaging>=20.0 in /usr/local/lib/python3.10/dist-packages (from matplotlib>=3.3.0->ultralytics) (24.2)\n",
            "Requirement already satisfied: pyparsing>=2.3.1 in /usr/local/lib/python3.10/dist-packages (from matplotlib>=3.3.0->ultralytics) (3.2.0)\n",
            "Requirement already satisfied: python-dateutil>=2.7 in /usr/local/lib/python3.10/dist-packages (from matplotlib>=3.3.0->ultralytics) (2.8.2)\n",
            "Requirement already satisfied: pytz>=2020.1 in /usr/local/lib/python3.10/dist-packages (from pandas>=1.1.4->ultralytics) (2024.2)\n",
            "Requirement already satisfied: tzdata>=2022.7 in /usr/local/lib/python3.10/dist-packages (from pandas>=1.1.4->ultralytics) (2024.2)\n",
            "Requirement already satisfied: charset-normalizer<4,>=2 in /usr/local/lib/python3.10/dist-packages (from requests>=2.23.0->ultralytics) (3.4.0)\n",
            "Requirement already satisfied: idna<4,>=2.5 in /usr/local/lib/python3.10/dist-packages (from requests>=2.23.0->ultralytics) (3.7)\n",
            "Requirement already satisfied: urllib3<3,>=1.21.1 in /usr/local/lib/python3.10/dist-packages (from requests>=2.23.0->ultralytics) (2.2.3)\n",
            "Requirement already satisfied: certifi>=2017.4.17 in /usr/local/lib/python3.10/dist-packages (from requests>=2.23.0->ultralytics) (2024.8.30)\n",
            "Requirement already satisfied: filelock in /usr/local/lib/python3.10/dist-packages (from torch>=1.8.0->ultralytics) (3.16.1)\n",
            "Requirement already satisfied: typing-extensions>=4.8.0 in /usr/local/lib/python3.10/dist-packages (from torch>=1.8.0->ultralytics) (4.12.2)\n",
            "Requirement already satisfied: networkx in /usr/local/lib/python3.10/dist-packages (from torch>=1.8.0->ultralytics) (3.4.2)\n",
            "Requirement already satisfied: jinja2 in /usr/local/lib/python3.10/dist-packages (from torch>=1.8.0->ultralytics) (3.1.4)\n",
            "Requirement already satisfied: fsspec in /usr/local/lib/python3.10/dist-packages (from torch>=1.8.0->ultralytics) (2024.10.0)\n",
            "Requirement already satisfied: sympy==1.13.1 in /usr/local/lib/python3.10/dist-packages (from torch>=1.8.0->ultralytics) (1.13.1)\n",
            "Requirement already satisfied: mpmath<1.4,>=1.1.0 in /usr/local/lib/python3.10/dist-packages (from sympy==1.13.1->torch>=1.8.0->ultralytics) (1.3.0)\n",
            "Requirement already satisfied: six>=1.5 in /usr/local/lib/python3.10/dist-packages (from python-dateutil>=2.7->matplotlib>=3.3.0->ultralytics) (1.16.0)\n",
            "Requirement already satisfied: MarkupSafe>=2.0 in /usr/local/lib/python3.10/dist-packages (from jinja2->torch>=1.8.0->ultralytics) (3.0.2)\n",
            "Downloading ultralytics-8.3.41-py3-none-any.whl (899 kB)\n",
            "\u001b[2K   \u001b[90m━━━━━━━━━━━━━━━━━━━━━━━━━━━━━━━━━━━━━━━━\u001b[0m \u001b[32m899.1/899.1 kB\u001b[0m \u001b[31m41.8 MB/s\u001b[0m eta \u001b[36m0:00:00\u001b[0m\n",
            "\u001b[?25hDownloading ultralytics_thop-2.0.12-py3-none-any.whl (26 kB)\n",
            "Installing collected packages: ultralytics-thop, ultralytics\n",
            "Successfully installed ultralytics-8.3.41 ultralytics-thop-2.0.12\n"
          ]
        }
      ]
    },
    {
      "cell_type": "code",
      "source": [
        "# Import the necessary package for YOLOv8\n",
        "from ultralytics import YOLO\n",
        "\n",
        "# Initialize YOLOv8 model (using a pre-trained model like yolov8n)\n",
        "model = YOLO('yolov8n.pt')  # You can choose a different model (e.g., yolov8s.pt, yolov8m.pt)\n",
        "\n",
        "# Train the model using the provided data.yaml file\n",
        "model.train(data='/content/vid1-1/data.yaml', epochs=50, imgsz=640)"
      ],
      "metadata": {
        "colab": {
          "base_uri": "https://localhost:8080/"
        },
        "id": "2pRBPPcNm6Lo",
        "outputId": "b8f83cbe-1ae1-4b69-a271-a25ff861a1d2"
      },
      "execution_count": null,
      "outputs": [
        {
          "output_type": "stream",
          "name": "stdout",
          "text": [
            "Creating new Ultralytics Settings v0.0.6 file ✅ \n",
            "View Ultralytics Settings with 'yolo settings' or at '/root/.config/Ultralytics/settings.json'\n",
            "Update Settings with 'yolo settings key=value', i.e. 'yolo settings runs_dir=path/to/dir'. For help see https://docs.ultralytics.com/quickstart/#ultralytics-settings.\n"
          ]
        },
        {
          "output_type": "stream",
          "name": "stderr",
          "text": [
            "100%|██████████| 6.25M/6.25M [00:00<00:00, 142MB/s]\n"
          ]
        },
        {
          "output_type": "stream",
          "name": "stdout",
          "text": [
            "Ultralytics 8.3.41 🚀 Python-3.10.12 torch-2.5.1+cu121 CUDA:0 (Tesla T4, 15102MiB)\n",
            "\u001b[34m\u001b[1mengine/trainer: \u001b[0mtask=detect, mode=train, model=yolov8n.pt, data=/content/vid1-1/data.yaml, epochs=50, time=None, patience=100, batch=16, imgsz=640, save=True, save_period=-1, cache=False, device=None, workers=8, project=None, name=train, exist_ok=False, pretrained=True, optimizer=auto, verbose=True, seed=0, deterministic=True, single_cls=False, rect=False, cos_lr=False, close_mosaic=10, resume=False, amp=True, fraction=1.0, profile=False, freeze=None, multi_scale=False, overlap_mask=True, mask_ratio=4, dropout=0.0, val=True, split=val, save_json=False, save_hybrid=False, conf=None, iou=0.7, max_det=300, half=False, dnn=False, plots=True, source=None, vid_stride=1, stream_buffer=False, visualize=False, augment=False, agnostic_nms=False, classes=None, retina_masks=False, embed=None, show=False, save_frames=False, save_txt=False, save_conf=False, save_crop=False, show_labels=True, show_conf=True, show_boxes=True, line_width=None, format=torchscript, keras=False, optimize=False, int8=False, dynamic=False, simplify=True, opset=None, workspace=None, nms=False, lr0=0.01, lrf=0.01, momentum=0.937, weight_decay=0.0005, warmup_epochs=3.0, warmup_momentum=0.8, warmup_bias_lr=0.1, box=7.5, cls=0.5, dfl=1.5, pose=12.0, kobj=1.0, nbs=64, hsv_h=0.015, hsv_s=0.7, hsv_v=0.4, degrees=0.0, translate=0.1, scale=0.5, shear=0.0, perspective=0.0, flipud=0.0, fliplr=0.5, bgr=0.0, mosaic=1.0, mixup=0.0, copy_paste=0.0, copy_paste_mode=flip, auto_augment=randaugment, erasing=0.4, crop_fraction=1.0, cfg=None, tracker=botsort.yaml, save_dir=runs/detect/train\n"
          ]
        },
        {
          "output_type": "stream",
          "name": "stderr",
          "text": [
            "100%|██████████| 755k/755k [00:00<00:00, 137MB/s]\n"
          ]
        },
        {
          "output_type": "stream",
          "name": "stdout",
          "text": [
            "Overriding model.yaml nc=80 with nc=1\n",
            "\n",
            "                   from  n    params  module                                       arguments                     \n",
            "  0                  -1  1       464  ultralytics.nn.modules.conv.Conv             [3, 16, 3, 2]                 \n",
            "  1                  -1  1      4672  ultralytics.nn.modules.conv.Conv             [16, 32, 3, 2]                \n",
            "  2                  -1  1      7360  ultralytics.nn.modules.block.C2f             [32, 32, 1, True]             \n",
            "  3                  -1  1     18560  ultralytics.nn.modules.conv.Conv             [32, 64, 3, 2]                \n",
            "  4                  -1  2     49664  ultralytics.nn.modules.block.C2f             [64, 64, 2, True]             \n",
            "  5                  -1  1     73984  ultralytics.nn.modules.conv.Conv             [64, 128, 3, 2]               \n",
            "  6                  -1  2    197632  ultralytics.nn.modules.block.C2f             [128, 128, 2, True]           \n",
            "  7                  -1  1    295424  ultralytics.nn.modules.conv.Conv             [128, 256, 3, 2]              \n",
            "  8                  -1  1    460288  ultralytics.nn.modules.block.C2f             [256, 256, 1, True]           \n",
            "  9                  -1  1    164608  ultralytics.nn.modules.block.SPPF            [256, 256, 5]                 \n",
            " 10                  -1  1         0  torch.nn.modules.upsampling.Upsample         [None, 2, 'nearest']          \n",
            " 11             [-1, 6]  1         0  ultralytics.nn.modules.conv.Concat           [1]                           \n",
            " 12                  -1  1    148224  ultralytics.nn.modules.block.C2f             [384, 128, 1]                 \n",
            " 13                  -1  1         0  torch.nn.modules.upsampling.Upsample         [None, 2, 'nearest']          \n",
            " 14             [-1, 4]  1         0  ultralytics.nn.modules.conv.Concat           [1]                           \n",
            " 15                  -1  1     37248  ultralytics.nn.modules.block.C2f             [192, 64, 1]                  \n",
            " 16                  -1  1     36992  ultralytics.nn.modules.conv.Conv             [64, 64, 3, 2]                \n",
            " 17            [-1, 12]  1         0  ultralytics.nn.modules.conv.Concat           [1]                           \n",
            " 18                  -1  1    123648  ultralytics.nn.modules.block.C2f             [192, 128, 1]                 \n",
            " 19                  -1  1    147712  ultralytics.nn.modules.conv.Conv             [128, 128, 3, 2]              \n",
            " 20             [-1, 9]  1         0  ultralytics.nn.modules.conv.Concat           [1]                           \n",
            " 21                  -1  1    493056  ultralytics.nn.modules.block.C2f             [384, 256, 1]                 \n",
            " 22        [15, 18, 21]  1    751507  ultralytics.nn.modules.head.Detect           [1, [64, 128, 256]]           \n",
            "Model summary: 225 layers, 3,011,043 parameters, 3,011,027 gradients, 8.2 GFLOPs\n",
            "\n",
            "Transferred 319/355 items from pretrained weights\n",
            "\u001b[34m\u001b[1mTensorBoard: \u001b[0mStart with 'tensorboard --logdir runs/detect/train', view at http://localhost:6006/\n",
            "Freezing layer 'model.22.dfl.conv.weight'\n",
            "\u001b[34m\u001b[1mAMP: \u001b[0mrunning Automatic Mixed Precision (AMP) checks...\n"
          ]
        },
        {
          "output_type": "stream",
          "name": "stderr",
          "text": [
            "100%|██████████| 5.35M/5.35M [00:00<00:00, 136MB/s]\n"
          ]
        },
        {
          "output_type": "stream",
          "name": "stdout",
          "text": [
            "WARNING ⚠️ NMS time limit 2.400s exceeded\n",
            "\u001b[34m\u001b[1mAMP: \u001b[0mchecks passed ✅\n"
          ]
        },
        {
          "output_type": "stream",
          "name": "stderr",
          "text": [
            "\u001b[34m\u001b[1mtrain: \u001b[0mScanning /content/vid1-1/train/labels... 74 images, 0 backgrounds, 0 corrupt: 100%|██████████| 74/74 [00:00<00:00, 491.95it/s]"
          ]
        },
        {
          "output_type": "stream",
          "name": "stdout",
          "text": [
            "\u001b[34m\u001b[1mtrain: \u001b[0mNew cache created: /content/vid1-1/train/labels.cache\n"
          ]
        },
        {
          "output_type": "stream",
          "name": "stderr",
          "text": [
            "\n"
          ]
        },
        {
          "output_type": "stream",
          "name": "stdout",
          "text": [
            "\u001b[34m\u001b[1malbumentations: \u001b[0mBlur(p=0.01, blur_limit=(3, 7)), MedianBlur(p=0.01, blur_limit=(3, 7)), ToGray(p=0.01, num_output_channels=3, method='weighted_average'), CLAHE(p=0.01, clip_limit=(1.0, 4.0), tile_grid_size=(8, 8))\n"
          ]
        },
        {
          "output_type": "stream",
          "name": "stderr",
          "text": [
            "A new version of Albumentations is available: 1.4.21 (you have 1.4.20). Upgrade using: pip install -U albumentations. To disable automatic update checks, set the environment variable NO_ALBUMENTATIONS_UPDATE to 1.\n",
            "\u001b[34m\u001b[1mval: \u001b[0mScanning /content/vid1-1/valid/labels... 21 images, 0 backgrounds, 0 corrupt: 100%|██████████| 21/21 [00:00<00:00, 329.33it/s]"
          ]
        },
        {
          "output_type": "stream",
          "name": "stdout",
          "text": [
            "\u001b[34m\u001b[1mval: \u001b[0mNew cache created: /content/vid1-1/valid/labels.cache\n"
          ]
        },
        {
          "output_type": "stream",
          "name": "stderr",
          "text": [
            "\n"
          ]
        },
        {
          "output_type": "stream",
          "name": "stdout",
          "text": [
            "Plotting labels to runs/detect/train/labels.jpg... \n",
            "\u001b[34m\u001b[1moptimizer:\u001b[0m 'optimizer=auto' found, ignoring 'lr0=0.01' and 'momentum=0.937' and determining best 'optimizer', 'lr0' and 'momentum' automatically... \n",
            "\u001b[34m\u001b[1moptimizer:\u001b[0m AdamW(lr=0.002, momentum=0.9) with parameter groups 57 weight(decay=0.0), 64 weight(decay=0.0005), 63 bias(decay=0.0)\n",
            "\u001b[34m\u001b[1mTensorBoard: \u001b[0mmodel graph visualization added ✅\n",
            "Image sizes 640 train, 640 val\n",
            "Using 2 dataloader workers\n",
            "Logging results to \u001b[1mruns/detect/train\u001b[0m\n",
            "Starting training for 50 epochs...\n",
            "\n",
            "      Epoch    GPU_mem   box_loss   cls_loss   dfl_loss  Instances       Size\n"
          ]
        },
        {
          "output_type": "stream",
          "name": "stderr",
          "text": [
            "       1/50       2.7G      2.784      3.535      1.778        224        640: 100%|██████████| 5/5 [00:08<00:00,  1.61s/it]\n",
            "                 Class     Images  Instances      Box(P          R      mAP50  mAP50-95): 100%|██████████| 1/1 [00:02<00:00,  2.89s/it]"
          ]
        },
        {
          "output_type": "stream",
          "name": "stdout",
          "text": [
            "                   all         21        437     0.0332      0.478     0.0696     0.0344\n"
          ]
        },
        {
          "output_type": "stream",
          "name": "stderr",
          "text": [
            "\n"
          ]
        },
        {
          "output_type": "stream",
          "name": "stdout",
          "text": [
            "\n",
            "      Epoch    GPU_mem   box_loss   cls_loss   dfl_loss  Instances       Size\n"
          ]
        },
        {
          "output_type": "stream",
          "name": "stderr",
          "text": [
            "       2/50      2.42G      2.226      3.095       1.42        260        640: 100%|██████████| 5/5 [00:01<00:00,  2.77it/s]\n",
            "                 Class     Images  Instances      Box(P          R      mAP50  mAP50-95): 100%|██████████| 1/1 [00:00<00:00,  3.01it/s]"
          ]
        },
        {
          "output_type": "stream",
          "name": "stdout",
          "text": [
            "                   all         21        437     0.0476      0.686      0.181     0.0754\n"
          ]
        },
        {
          "output_type": "stream",
          "name": "stderr",
          "text": [
            "\n"
          ]
        },
        {
          "output_type": "stream",
          "name": "stdout",
          "text": [
            "\n",
            "      Epoch    GPU_mem   box_loss   cls_loss   dfl_loss  Instances       Size\n"
          ]
        },
        {
          "output_type": "stream",
          "name": "stderr",
          "text": [
            "       3/50       2.4G       1.91      1.965      1.165        276        640: 100%|██████████| 5/5 [00:01<00:00,  2.83it/s]\n",
            "                 Class     Images  Instances      Box(P          R      mAP50  mAP50-95): 100%|██████████| 1/1 [00:00<00:00,  2.22it/s]"
          ]
        },
        {
          "output_type": "stream",
          "name": "stdout",
          "text": [
            "                   all         21        437     0.0483      0.696       0.15     0.0522\n"
          ]
        },
        {
          "output_type": "stream",
          "name": "stderr",
          "text": [
            "\n"
          ]
        },
        {
          "output_type": "stream",
          "name": "stdout",
          "text": [
            "\n",
            "      Epoch    GPU_mem   box_loss   cls_loss   dfl_loss  Instances       Size\n"
          ]
        },
        {
          "output_type": "stream",
          "name": "stderr",
          "text": [
            "       4/50      2.52G      1.755      1.439      1.116        313        640: 100%|██████████| 5/5 [00:02<00:00,  2.10it/s]\n",
            "                 Class     Images  Instances      Box(P          R      mAP50  mAP50-95): 100%|██████████| 1/1 [00:00<00:00,  1.17it/s]"
          ]
        },
        {
          "output_type": "stream",
          "name": "stdout",
          "text": [
            "                   all         21        437     0.0537      0.773      0.447      0.188\n"
          ]
        },
        {
          "output_type": "stream",
          "name": "stderr",
          "text": [
            "\n"
          ]
        },
        {
          "output_type": "stream",
          "name": "stdout",
          "text": [
            "\n",
            "      Epoch    GPU_mem   box_loss   cls_loss   dfl_loss  Instances       Size\n"
          ]
        },
        {
          "output_type": "stream",
          "name": "stderr",
          "text": [
            "       5/50      2.64G      1.724      1.367      1.113        251        640: 100%|██████████| 5/5 [00:03<00:00,  1.37it/s]\n",
            "                 Class     Images  Instances      Box(P          R      mAP50  mAP50-95): 100%|██████████| 1/1 [00:00<00:00,  2.67it/s]"
          ]
        },
        {
          "output_type": "stream",
          "name": "stdout",
          "text": [
            "                   all         21        437     0.0529      0.762      0.468      0.231\n"
          ]
        },
        {
          "output_type": "stream",
          "name": "stderr",
          "text": [
            "\n"
          ]
        },
        {
          "output_type": "stream",
          "name": "stdout",
          "text": [
            "\n",
            "      Epoch    GPU_mem   box_loss   cls_loss   dfl_loss  Instances       Size\n"
          ]
        },
        {
          "output_type": "stream",
          "name": "stderr",
          "text": [
            "       6/50      2.54G       1.63      1.309      1.099        401        640: 100%|██████████| 5/5 [00:01<00:00,  2.87it/s]\n",
            "                 Class     Images  Instances      Box(P          R      mAP50  mAP50-95): 100%|██████████| 1/1 [00:00<00:00,  2.87it/s]"
          ]
        },
        {
          "output_type": "stream",
          "name": "stdout",
          "text": [
            "                   all         21        437     0.0521      0.751      0.389      0.191\n"
          ]
        },
        {
          "output_type": "stream",
          "name": "stderr",
          "text": [
            "\n"
          ]
        },
        {
          "output_type": "stream",
          "name": "stdout",
          "text": [
            "\n",
            "      Epoch    GPU_mem   box_loss   cls_loss   dfl_loss  Instances       Size\n"
          ]
        },
        {
          "output_type": "stream",
          "name": "stderr",
          "text": [
            "       7/50      2.55G      1.576      1.281       1.09        276        640: 100%|██████████| 5/5 [00:01<00:00,  2.77it/s]\n",
            "                 Class     Images  Instances      Box(P          R      mAP50  mAP50-95): 100%|██████████| 1/1 [00:00<00:00,  2.70it/s]"
          ]
        },
        {
          "output_type": "stream",
          "name": "stdout",
          "text": [
            "                   all         21        437     0.0433      0.625      0.306      0.121\n"
          ]
        },
        {
          "output_type": "stream",
          "name": "stderr",
          "text": [
            "\n"
          ]
        },
        {
          "output_type": "stream",
          "name": "stdout",
          "text": [
            "\n",
            "      Epoch    GPU_mem   box_loss   cls_loss   dfl_loss  Instances       Size\n"
          ]
        },
        {
          "output_type": "stream",
          "name": "stderr",
          "text": [
            "       8/50      2.65G      1.584      1.253      1.095        232        640: 100%|██████████| 5/5 [00:01<00:00,  2.60it/s]\n",
            "                 Class     Images  Instances      Box(P          R      mAP50  mAP50-95): 100%|██████████| 1/1 [00:00<00:00,  1.56it/s]"
          ]
        },
        {
          "output_type": "stream",
          "name": "stdout",
          "text": [
            "                   all         21        437     0.0414      0.597      0.236      0.112\n"
          ]
        },
        {
          "output_type": "stream",
          "name": "stderr",
          "text": [
            "\n"
          ]
        },
        {
          "output_type": "stream",
          "name": "stdout",
          "text": [
            "\n",
            "      Epoch    GPU_mem   box_loss   cls_loss   dfl_loss  Instances       Size\n"
          ]
        },
        {
          "output_type": "stream",
          "name": "stderr",
          "text": [
            "       9/50       2.4G      1.548      1.203      1.084        310        640: 100%|██████████| 5/5 [00:03<00:00,  1.62it/s]\n",
            "                 Class     Images  Instances      Box(P          R      mAP50  mAP50-95): 100%|██████████| 1/1 [00:00<00:00,  1.70it/s]"
          ]
        },
        {
          "output_type": "stream",
          "name": "stdout",
          "text": [
            "                   all         21        437     0.0486        0.7      0.269      0.127\n"
          ]
        },
        {
          "output_type": "stream",
          "name": "stderr",
          "text": [
            "\n"
          ]
        },
        {
          "output_type": "stream",
          "name": "stdout",
          "text": [
            "\n",
            "      Epoch    GPU_mem   box_loss   cls_loss   dfl_loss  Instances       Size\n"
          ]
        },
        {
          "output_type": "stream",
          "name": "stderr",
          "text": [
            "      10/50      2.57G      1.574      1.198      1.078        258        640: 100%|██████████| 5/5 [00:01<00:00,  2.84it/s]\n",
            "                 Class     Images  Instances      Box(P          R      mAP50  mAP50-95): 100%|██████████| 1/1 [00:00<00:00,  2.63it/s]"
          ]
        },
        {
          "output_type": "stream",
          "name": "stdout",
          "text": [
            "                   all         21        437      0.973      0.251      0.542      0.289\n"
          ]
        },
        {
          "output_type": "stream",
          "name": "stderr",
          "text": [
            "\n"
          ]
        },
        {
          "output_type": "stream",
          "name": "stdout",
          "text": [
            "\n",
            "      Epoch    GPU_mem   box_loss   cls_loss   dfl_loss  Instances       Size\n"
          ]
        },
        {
          "output_type": "stream",
          "name": "stderr",
          "text": [
            "      11/50      2.48G      1.563      1.153      1.071        269        640: 100%|██████████| 5/5 [00:01<00:00,  2.96it/s]\n",
            "                 Class     Images  Instances      Box(P          R      mAP50  mAP50-95): 100%|██████████| 1/1 [00:00<00:00,  2.37it/s]"
          ]
        },
        {
          "output_type": "stream",
          "name": "stdout",
          "text": [
            "                   all         21        437      0.886      0.346      0.571      0.329\n"
          ]
        },
        {
          "output_type": "stream",
          "name": "stderr",
          "text": [
            "\n"
          ]
        },
        {
          "output_type": "stream",
          "name": "stdout",
          "text": [
            "\n",
            "      Epoch    GPU_mem   box_loss   cls_loss   dfl_loss  Instances       Size\n"
          ]
        },
        {
          "output_type": "stream",
          "name": "stderr",
          "text": [
            "      12/50      2.53G      1.526      1.141      1.053        257        640: 100%|██████████| 5/5 [00:01<00:00,  2.96it/s]\n",
            "                 Class     Images  Instances      Box(P          R      mAP50  mAP50-95): 100%|██████████| 1/1 [00:00<00:00,  2.17it/s]"
          ]
        },
        {
          "output_type": "stream",
          "name": "stdout",
          "text": [
            "                   all         21        437      0.826      0.467      0.625      0.372\n"
          ]
        },
        {
          "output_type": "stream",
          "name": "stderr",
          "text": [
            "\n"
          ]
        },
        {
          "output_type": "stream",
          "name": "stdout",
          "text": [
            "\n",
            "      Epoch    GPU_mem   box_loss   cls_loss   dfl_loss  Instances       Size\n"
          ]
        },
        {
          "output_type": "stream",
          "name": "stderr",
          "text": [
            "      13/50      2.44G       1.42        1.1      1.051        282        640: 100%|██████████| 5/5 [00:02<00:00,  2.25it/s]\n",
            "                 Class     Images  Instances      Box(P          R      mAP50  mAP50-95): 100%|██████████| 1/1 [00:00<00:00,  1.15it/s]"
          ]
        },
        {
          "output_type": "stream",
          "name": "stdout",
          "text": [
            "                   all         21        437      0.788      0.517      0.669      0.389\n"
          ]
        },
        {
          "output_type": "stream",
          "name": "stderr",
          "text": [
            "\n"
          ]
        },
        {
          "output_type": "stream",
          "name": "stdout",
          "text": [
            "\n",
            "      Epoch    GPU_mem   box_loss   cls_loss   dfl_loss  Instances       Size\n"
          ]
        },
        {
          "output_type": "stream",
          "name": "stderr",
          "text": [
            "      14/50       2.5G       1.48       1.11      1.056        306        640: 100%|██████████| 5/5 [00:01<00:00,  2.89it/s]\n",
            "                 Class     Images  Instances      Box(P          R      mAP50  mAP50-95): 100%|██████████| 1/1 [00:00<00:00,  2.01it/s]"
          ]
        },
        {
          "output_type": "stream",
          "name": "stdout",
          "text": [
            "                   all         21        437      0.795      0.549      0.711      0.418\n"
          ]
        },
        {
          "output_type": "stream",
          "name": "stderr",
          "text": [
            "\n"
          ]
        },
        {
          "output_type": "stream",
          "name": "stdout",
          "text": [
            "\n",
            "      Epoch    GPU_mem   box_loss   cls_loss   dfl_loss  Instances       Size\n"
          ]
        },
        {
          "output_type": "stream",
          "name": "stderr",
          "text": [
            "      15/50      2.63G      1.391      1.082      1.023        248        640: 100%|██████████| 5/5 [00:01<00:00,  2.94it/s]\n",
            "                 Class     Images  Instances      Box(P          R      mAP50  mAP50-95): 100%|██████████| 1/1 [00:00<00:00,  2.60it/s]"
          ]
        },
        {
          "output_type": "stream",
          "name": "stdout",
          "text": [
            "                   all         21        437      0.781      0.595      0.751      0.454\n"
          ]
        },
        {
          "output_type": "stream",
          "name": "stderr",
          "text": [
            "\n"
          ]
        },
        {
          "output_type": "stream",
          "name": "stdout",
          "text": [
            "\n",
            "      Epoch    GPU_mem   box_loss   cls_loss   dfl_loss  Instances       Size\n"
          ]
        },
        {
          "output_type": "stream",
          "name": "stderr",
          "text": [
            "      16/50       2.5G      1.434      1.071       1.03        301        640: 100%|██████████| 5/5 [00:01<00:00,  3.14it/s]\n",
            "                 Class     Images  Instances      Box(P          R      mAP50  mAP50-95): 100%|██████████| 1/1 [00:00<00:00,  2.03it/s]"
          ]
        },
        {
          "output_type": "stream",
          "name": "stdout",
          "text": [
            "                   all         21        437      0.795      0.623      0.763      0.472\n"
          ]
        },
        {
          "output_type": "stream",
          "name": "stderr",
          "text": [
            "\n"
          ]
        },
        {
          "output_type": "stream",
          "name": "stdout",
          "text": [
            "\n",
            "      Epoch    GPU_mem   box_loss   cls_loss   dfl_loss  Instances       Size\n"
          ]
        },
        {
          "output_type": "stream",
          "name": "stderr",
          "text": [
            "      17/50      2.49G      1.391      1.056      1.016        269        640: 100%|██████████| 5/5 [00:02<00:00,  2.15it/s]\n",
            "                 Class     Images  Instances      Box(P          R      mAP50  mAP50-95): 100%|██████████| 1/1 [00:00<00:00,  1.15it/s]"
          ]
        },
        {
          "output_type": "stream",
          "name": "stdout",
          "text": [
            "                   all         21        437      0.799      0.635       0.79      0.485\n"
          ]
        },
        {
          "output_type": "stream",
          "name": "stderr",
          "text": [
            "\n"
          ]
        },
        {
          "output_type": "stream",
          "name": "stdout",
          "text": [
            "\n",
            "      Epoch    GPU_mem   box_loss   cls_loss   dfl_loss  Instances       Size\n"
          ]
        },
        {
          "output_type": "stream",
          "name": "stderr",
          "text": [
            "      18/50      2.54G      1.296      1.006     0.9953        264        640: 100%|██████████| 5/5 [00:02<00:00,  1.96it/s]\n",
            "                 Class     Images  Instances      Box(P          R      mAP50  mAP50-95): 100%|██████████| 1/1 [00:00<00:00,  2.24it/s]"
          ]
        },
        {
          "output_type": "stream",
          "name": "stdout",
          "text": [
            "                   all         21        437       0.82      0.652      0.794      0.482\n"
          ]
        },
        {
          "output_type": "stream",
          "name": "stderr",
          "text": [
            "\n"
          ]
        },
        {
          "output_type": "stream",
          "name": "stdout",
          "text": [
            "\n",
            "      Epoch    GPU_mem   box_loss   cls_loss   dfl_loss  Instances       Size\n"
          ]
        },
        {
          "output_type": "stream",
          "name": "stderr",
          "text": [
            "      19/50      2.64G      1.287      1.011      1.005        263        640: 100%|██████████| 5/5 [00:01<00:00,  3.54it/s]\n",
            "                 Class     Images  Instances      Box(P          R      mAP50  mAP50-95): 100%|██████████| 1/1 [00:00<00:00,  2.01it/s]"
          ]
        },
        {
          "output_type": "stream",
          "name": "stdout",
          "text": [
            "                   all         21        437      0.829      0.642      0.788      0.493\n"
          ]
        },
        {
          "output_type": "stream",
          "name": "stderr",
          "text": [
            "\n"
          ]
        },
        {
          "output_type": "stream",
          "name": "stdout",
          "text": [
            "\n",
            "      Epoch    GPU_mem   box_loss   cls_loss   dfl_loss  Instances       Size\n"
          ]
        },
        {
          "output_type": "stream",
          "name": "stderr",
          "text": [
            "      20/50      2.52G      1.355      1.023      1.014        496        640: 100%|██████████| 5/5 [00:01<00:00,  3.09it/s]\n",
            "                 Class     Images  Instances      Box(P          R      mAP50  mAP50-95): 100%|██████████| 1/1 [00:00<00:00,  2.47it/s]"
          ]
        },
        {
          "output_type": "stream",
          "name": "stdout",
          "text": [
            "                   all         21        437      0.821      0.643      0.774      0.482\n"
          ]
        },
        {
          "output_type": "stream",
          "name": "stderr",
          "text": [
            "\n"
          ]
        },
        {
          "output_type": "stream",
          "name": "stdout",
          "text": [
            "\n",
            "      Epoch    GPU_mem   box_loss   cls_loss   dfl_loss  Instances       Size\n"
          ]
        },
        {
          "output_type": "stream",
          "name": "stderr",
          "text": [
            "      21/50      2.52G      1.294     0.9886      1.007        247        640: 100%|██████████| 5/5 [00:01<00:00,  3.14it/s]\n",
            "                 Class     Images  Instances      Box(P          R      mAP50  mAP50-95): 100%|██████████| 1/1 [00:00<00:00,  1.60it/s]"
          ]
        },
        {
          "output_type": "stream",
          "name": "stdout",
          "text": [
            "                   all         21        437      0.805      0.677      0.793      0.493\n"
          ]
        },
        {
          "output_type": "stream",
          "name": "stderr",
          "text": [
            "\n"
          ]
        },
        {
          "output_type": "stream",
          "name": "stdout",
          "text": [
            "\n",
            "      Epoch    GPU_mem   box_loss   cls_loss   dfl_loss  Instances       Size\n"
          ]
        },
        {
          "output_type": "stream",
          "name": "stderr",
          "text": [
            "      22/50      2.59G      1.297      1.002       1.02        217        640: 100%|██████████| 5/5 [00:02<00:00,  2.05it/s]\n",
            "                 Class     Images  Instances      Box(P          R      mAP50  mAP50-95): 100%|██████████| 1/1 [00:00<00:00,  1.05it/s]"
          ]
        },
        {
          "output_type": "stream",
          "name": "stdout",
          "text": [
            "                   all         21        437      0.796      0.722      0.818      0.515\n"
          ]
        },
        {
          "output_type": "stream",
          "name": "stderr",
          "text": [
            "\n"
          ]
        },
        {
          "output_type": "stream",
          "name": "stdout",
          "text": [
            "\n",
            "      Epoch    GPU_mem   box_loss   cls_loss   dfl_loss  Instances       Size\n"
          ]
        },
        {
          "output_type": "stream",
          "name": "stderr",
          "text": [
            "      23/50      2.39G      1.291     0.9635     0.9893        273        640: 100%|██████████| 5/5 [00:01<00:00,  2.84it/s]\n",
            "                 Class     Images  Instances      Box(P          R      mAP50  mAP50-95): 100%|██████████| 1/1 [00:00<00:00,  1.66it/s]"
          ]
        },
        {
          "output_type": "stream",
          "name": "stdout",
          "text": [
            "                   all         21        437      0.807      0.732       0.82      0.528\n"
          ]
        },
        {
          "output_type": "stream",
          "name": "stderr",
          "text": [
            "\n"
          ]
        },
        {
          "output_type": "stream",
          "name": "stdout",
          "text": [
            "\n",
            "      Epoch    GPU_mem   box_loss   cls_loss   dfl_loss  Instances       Size\n"
          ]
        },
        {
          "output_type": "stream",
          "name": "stderr",
          "text": [
            "      24/50      2.57G        1.3     0.9672     0.9801        388        640: 100%|██████████| 5/5 [00:01<00:00,  3.10it/s]\n",
            "                 Class     Images  Instances      Box(P          R      mAP50  mAP50-95): 100%|██████████| 1/1 [00:00<00:00,  1.67it/s]"
          ]
        },
        {
          "output_type": "stream",
          "name": "stdout",
          "text": [
            "                   all         21        437      0.843      0.737      0.833      0.539\n"
          ]
        },
        {
          "output_type": "stream",
          "name": "stderr",
          "text": [
            "\n"
          ]
        },
        {
          "output_type": "stream",
          "name": "stdout",
          "text": [
            "\n",
            "      Epoch    GPU_mem   box_loss   cls_loss   dfl_loss  Instances       Size\n"
          ]
        },
        {
          "output_type": "stream",
          "name": "stderr",
          "text": [
            "      25/50      2.37G      1.282     0.9665     0.9934        289        640: 100%|██████████| 5/5 [00:01<00:00,  3.07it/s]\n",
            "                 Class     Images  Instances      Box(P          R      mAP50  mAP50-95): 100%|██████████| 1/1 [00:00<00:00,  2.28it/s]"
          ]
        },
        {
          "output_type": "stream",
          "name": "stdout",
          "text": [
            "                   all         21        437      0.863      0.736      0.836      0.538\n"
          ]
        },
        {
          "output_type": "stream",
          "name": "stderr",
          "text": [
            "\n"
          ]
        },
        {
          "output_type": "stream",
          "name": "stdout",
          "text": [
            "\n",
            "      Epoch    GPU_mem   box_loss   cls_loss   dfl_loss  Instances       Size\n"
          ]
        },
        {
          "output_type": "stream",
          "name": "stderr",
          "text": [
            "      26/50      2.42G      1.267     0.9721     0.9864        246        640: 100%|██████████| 5/5 [00:01<00:00,  2.53it/s]\n",
            "                 Class     Images  Instances      Box(P          R      mAP50  mAP50-95): 100%|██████████| 1/1 [00:00<00:00,  1.11it/s]"
          ]
        },
        {
          "output_type": "stream",
          "name": "stdout",
          "text": [
            "                   all         21        437      0.847      0.737      0.834      0.551\n"
          ]
        },
        {
          "output_type": "stream",
          "name": "stderr",
          "text": [
            "\n"
          ]
        },
        {
          "output_type": "stream",
          "name": "stdout",
          "text": [
            "\n",
            "      Epoch    GPU_mem   box_loss   cls_loss   dfl_loss  Instances       Size\n"
          ]
        },
        {
          "output_type": "stream",
          "name": "stderr",
          "text": [
            "      27/50      2.46G       1.34     0.9645     0.9952        351        640: 100%|██████████| 5/5 [00:02<00:00,  1.87it/s]\n",
            "                 Class     Images  Instances      Box(P          R      mAP50  mAP50-95): 100%|██████████| 1/1 [00:00<00:00,  1.21it/s]"
          ]
        },
        {
          "output_type": "stream",
          "name": "stdout",
          "text": [
            "                   all         21        437      0.822      0.742      0.831      0.542\n"
          ]
        },
        {
          "output_type": "stream",
          "name": "stderr",
          "text": [
            "\n"
          ]
        },
        {
          "output_type": "stream",
          "name": "stdout",
          "text": [
            "\n",
            "      Epoch    GPU_mem   box_loss   cls_loss   dfl_loss  Instances       Size\n"
          ]
        },
        {
          "output_type": "stream",
          "name": "stderr",
          "text": [
            "      28/50      2.38G      1.272     0.9351     0.9847        328        640: 100%|██████████| 5/5 [00:01<00:00,  2.86it/s]\n",
            "                 Class     Images  Instances      Box(P          R      mAP50  mAP50-95): 100%|██████████| 1/1 [00:00<00:00,  2.36it/s]"
          ]
        },
        {
          "output_type": "stream",
          "name": "stdout",
          "text": [
            "                   all         21        437      0.818      0.762      0.839      0.537\n"
          ]
        },
        {
          "output_type": "stream",
          "name": "stderr",
          "text": [
            "\n"
          ]
        },
        {
          "output_type": "stream",
          "name": "stdout",
          "text": [
            "\n",
            "      Epoch    GPU_mem   box_loss   cls_loss   dfl_loss  Instances       Size\n"
          ]
        },
        {
          "output_type": "stream",
          "name": "stderr",
          "text": [
            "      29/50      2.77G      1.279     0.9526     0.9927        267        640: 100%|██████████| 5/5 [00:01<00:00,  3.40it/s]\n",
            "                 Class     Images  Instances      Box(P          R      mAP50  mAP50-95): 100%|██████████| 1/1 [00:00<00:00,  2.14it/s]"
          ]
        },
        {
          "output_type": "stream",
          "name": "stdout",
          "text": [
            "                   all         21        437      0.824      0.767      0.843      0.554\n"
          ]
        },
        {
          "output_type": "stream",
          "name": "stderr",
          "text": [
            "\n"
          ]
        },
        {
          "output_type": "stream",
          "name": "stdout",
          "text": [
            "\n",
            "      Epoch    GPU_mem   box_loss   cls_loss   dfl_loss  Instances       Size\n"
          ]
        },
        {
          "output_type": "stream",
          "name": "stderr",
          "text": [
            "      30/50      2.41G      1.239      0.951     0.9761        299        640: 100%|██████████| 5/5 [00:01<00:00,  2.76it/s]\n",
            "                 Class     Images  Instances      Box(P          R      mAP50  mAP50-95): 100%|██████████| 1/1 [00:00<00:00,  2.26it/s]"
          ]
        },
        {
          "output_type": "stream",
          "name": "stdout",
          "text": [
            "                   all         21        437      0.821      0.744      0.828      0.553\n"
          ]
        },
        {
          "output_type": "stream",
          "name": "stderr",
          "text": [
            "\n"
          ]
        },
        {
          "output_type": "stream",
          "name": "stdout",
          "text": [
            "\n",
            "      Epoch    GPU_mem   box_loss   cls_loss   dfl_loss  Instances       Size\n"
          ]
        },
        {
          "output_type": "stream",
          "name": "stderr",
          "text": [
            "      31/50      2.64G      1.236     0.9299     0.9699        383        640: 100%|██████████| 5/5 [00:02<00:00,  1.67it/s]\n",
            "                 Class     Images  Instances      Box(P          R      mAP50  mAP50-95): 100%|██████████| 1/1 [00:01<00:00,  1.34s/it]"
          ]
        },
        {
          "output_type": "stream",
          "name": "stdout",
          "text": [
            "                   all         21        437      0.843      0.744       0.84      0.558\n"
          ]
        },
        {
          "output_type": "stream",
          "name": "stderr",
          "text": [
            "\n"
          ]
        },
        {
          "output_type": "stream",
          "name": "stdout",
          "text": [
            "\n",
            "      Epoch    GPU_mem   box_loss   cls_loss   dfl_loss  Instances       Size\n"
          ]
        },
        {
          "output_type": "stream",
          "name": "stderr",
          "text": [
            "      32/50      2.43G      1.229     0.9101     0.9677        334        640: 100%|██████████| 5/5 [00:02<00:00,  1.98it/s]\n",
            "                 Class     Images  Instances      Box(P          R      mAP50  mAP50-95): 100%|██████████| 1/1 [00:00<00:00,  1.48it/s]"
          ]
        },
        {
          "output_type": "stream",
          "name": "stdout",
          "text": [
            "                   all         21        437       0.87      0.728       0.85      0.567\n"
          ]
        },
        {
          "output_type": "stream",
          "name": "stderr",
          "text": [
            "\n"
          ]
        },
        {
          "output_type": "stream",
          "name": "stdout",
          "text": [
            "\n",
            "      Epoch    GPU_mem   box_loss   cls_loss   dfl_loss  Instances       Size\n"
          ]
        },
        {
          "output_type": "stream",
          "name": "stderr",
          "text": [
            "      33/50      2.48G      1.163     0.9223     0.9826        259        640: 100%|██████████| 5/5 [00:02<00:00,  2.40it/s]\n",
            "                 Class     Images  Instances      Box(P          R      mAP50  mAP50-95): 100%|██████████| 1/1 [00:00<00:00,  1.43it/s]"
          ]
        },
        {
          "output_type": "stream",
          "name": "stdout",
          "text": [
            "                   all         21        437      0.858      0.748      0.852       0.57\n"
          ]
        },
        {
          "output_type": "stream",
          "name": "stderr",
          "text": [
            "\n"
          ]
        },
        {
          "output_type": "stream",
          "name": "stdout",
          "text": [
            "\n",
            "      Epoch    GPU_mem   box_loss   cls_loss   dfl_loss  Instances       Size\n"
          ]
        },
        {
          "output_type": "stream",
          "name": "stderr",
          "text": [
            "      34/50      2.76G      1.181       0.91     0.9704        298        640: 100%|██████████| 5/5 [00:02<00:00,  1.91it/s]\n",
            "                 Class     Images  Instances      Box(P          R      mAP50  mAP50-95): 100%|██████████| 1/1 [00:00<00:00,  1.26it/s]"
          ]
        },
        {
          "output_type": "stream",
          "name": "stdout",
          "text": [
            "                   all         21        437      0.851      0.759      0.853      0.578\n"
          ]
        },
        {
          "output_type": "stream",
          "name": "stderr",
          "text": [
            "\n"
          ]
        },
        {
          "output_type": "stream",
          "name": "stdout",
          "text": [
            "\n",
            "      Epoch    GPU_mem   box_loss   cls_loss   dfl_loss  Instances       Size\n"
          ]
        },
        {
          "output_type": "stream",
          "name": "stderr",
          "text": [
            "      35/50      2.43G      1.188     0.9038     0.9729        248        640: 100%|██████████| 5/5 [00:01<00:00,  3.80it/s]\n",
            "                 Class     Images  Instances      Box(P          R      mAP50  mAP50-95): 100%|██████████| 1/1 [00:00<00:00,  1.77it/s]"
          ]
        },
        {
          "output_type": "stream",
          "name": "stdout",
          "text": [
            "                   all         21        437      0.856      0.776      0.861      0.594\n"
          ]
        },
        {
          "output_type": "stream",
          "name": "stderr",
          "text": [
            "\n"
          ]
        },
        {
          "output_type": "stream",
          "name": "stdout",
          "text": [
            "\n",
            "      Epoch    GPU_mem   box_loss   cls_loss   dfl_loss  Instances       Size\n"
          ]
        },
        {
          "output_type": "stream",
          "name": "stderr",
          "text": [
            "      36/50      2.71G      1.139      0.863     0.9574        303        640: 100%|██████████| 5/5 [00:01<00:00,  2.84it/s]\n",
            "                 Class     Images  Instances      Box(P          R      mAP50  mAP50-95): 100%|██████████| 1/1 [00:00<00:00,  2.24it/s]"
          ]
        },
        {
          "output_type": "stream",
          "name": "stdout",
          "text": [
            "                   all         21        437      0.861       0.78      0.865      0.598\n"
          ]
        },
        {
          "output_type": "stream",
          "name": "stderr",
          "text": [
            "\n"
          ]
        },
        {
          "output_type": "stream",
          "name": "stdout",
          "text": [
            "\n",
            "      Epoch    GPU_mem   box_loss   cls_loss   dfl_loss  Instances       Size\n"
          ]
        },
        {
          "output_type": "stream",
          "name": "stderr",
          "text": [
            "      37/50      2.59G      1.191     0.8767     0.9476        273        640: 100%|██████████| 5/5 [00:01<00:00,  3.22it/s]\n",
            "                 Class     Images  Instances      Box(P          R      mAP50  mAP50-95): 100%|██████████| 1/1 [00:00<00:00,  2.48it/s]"
          ]
        },
        {
          "output_type": "stream",
          "name": "stdout",
          "text": [
            "                   all         21        437      0.853      0.783      0.861      0.591\n"
          ]
        },
        {
          "output_type": "stream",
          "name": "stderr",
          "text": [
            "\n"
          ]
        },
        {
          "output_type": "stream",
          "name": "stdout",
          "text": [
            "\n",
            "      Epoch    GPU_mem   box_loss   cls_loss   dfl_loss  Instances       Size\n"
          ]
        },
        {
          "output_type": "stream",
          "name": "stderr",
          "text": [
            "      38/50      2.72G      1.164     0.8572     0.9468        294        640: 100%|██████████| 5/5 [00:02<00:00,  2.11it/s]\n",
            "                 Class     Images  Instances      Box(P          R      mAP50  mAP50-95): 100%|██████████| 1/1 [00:00<00:00,  1.19it/s]"
          ]
        },
        {
          "output_type": "stream",
          "name": "stdout",
          "text": [
            "                   all         21        437      0.849      0.792       0.86      0.594\n"
          ]
        },
        {
          "output_type": "stream",
          "name": "stderr",
          "text": [
            "\n"
          ]
        },
        {
          "output_type": "stream",
          "name": "stdout",
          "text": [
            "\n",
            "      Epoch    GPU_mem   box_loss   cls_loss   dfl_loss  Instances       Size\n"
          ]
        },
        {
          "output_type": "stream",
          "name": "stderr",
          "text": [
            "      39/50      2.54G       1.15     0.8605     0.9529        275        640: 100%|██████████| 5/5 [00:02<00:00,  1.90it/s]\n",
            "                 Class     Images  Instances      Box(P          R      mAP50  mAP50-95): 100%|██████████| 1/1 [00:00<00:00,  1.97it/s]"
          ]
        },
        {
          "output_type": "stream",
          "name": "stdout",
          "text": [
            "                   all         21        437      0.864      0.778      0.862      0.595\n"
          ]
        },
        {
          "output_type": "stream",
          "name": "stderr",
          "text": [
            "\n"
          ]
        },
        {
          "output_type": "stream",
          "name": "stdout",
          "text": [
            "\n",
            "      Epoch    GPU_mem   box_loss   cls_loss   dfl_loss  Instances       Size\n"
          ]
        },
        {
          "output_type": "stream",
          "name": "stderr",
          "text": [
            "      40/50      2.38G      1.132     0.8511     0.9514        282        640: 100%|██████████| 5/5 [00:01<00:00,  2.87it/s]\n",
            "                 Class     Images  Instances      Box(P          R      mAP50  mAP50-95): 100%|██████████| 1/1 [00:00<00:00,  2.15it/s]"
          ]
        },
        {
          "output_type": "stream",
          "name": "stdout",
          "text": [
            "                   all         21        437      0.846      0.785      0.859        0.6\n"
          ]
        },
        {
          "output_type": "stream",
          "name": "stderr",
          "text": [
            "\n"
          ]
        },
        {
          "output_type": "stream",
          "name": "stdout",
          "text": [
            "Closing dataloader mosaic\n",
            "\u001b[34m\u001b[1malbumentations: \u001b[0mBlur(p=0.01, blur_limit=(3, 7)), MedianBlur(p=0.01, blur_limit=(3, 7)), ToGray(p=0.01, num_output_channels=3, method='weighted_average'), CLAHE(p=0.01, clip_limit=(1.0, 4.0), tile_grid_size=(8, 8))\n",
            "\n",
            "      Epoch    GPU_mem   box_loss   cls_loss   dfl_loss  Instances       Size\n"
          ]
        },
        {
          "output_type": "stream",
          "name": "stderr",
          "text": [
            "      41/50      2.29G      1.097     0.8983     0.9452        222        640: 100%|██████████| 5/5 [00:03<00:00,  1.41it/s]\n",
            "                 Class     Images  Instances      Box(P          R      mAP50  mAP50-95): 100%|██████████| 1/1 [00:00<00:00,  2.01it/s]"
          ]
        },
        {
          "output_type": "stream",
          "name": "stdout",
          "text": [
            "                   all         21        437      0.841      0.787       0.86      0.602\n"
          ]
        },
        {
          "output_type": "stream",
          "name": "stderr",
          "text": [
            "\n"
          ]
        },
        {
          "output_type": "stream",
          "name": "stdout",
          "text": [
            "\n",
            "      Epoch    GPU_mem   box_loss   cls_loss   dfl_loss  Instances       Size\n"
          ]
        },
        {
          "output_type": "stream",
          "name": "stderr",
          "text": [
            "      42/50      2.24G      1.065     0.8793     0.9379        174        640: 100%|██████████| 5/5 [00:02<00:00,  2.01it/s]\n",
            "                 Class     Images  Instances      Box(P          R      mAP50  mAP50-95): 100%|██████████| 1/1 [00:00<00:00,  1.06it/s]"
          ]
        },
        {
          "output_type": "stream",
          "name": "stdout",
          "text": [
            "                   all         21        437      0.857      0.783      0.865      0.603\n"
          ]
        },
        {
          "output_type": "stream",
          "name": "stderr",
          "text": [
            "\n"
          ]
        },
        {
          "output_type": "stream",
          "name": "stdout",
          "text": [
            "\n",
            "      Epoch    GPU_mem   box_loss   cls_loss   dfl_loss  Instances       Size\n"
          ]
        },
        {
          "output_type": "stream",
          "name": "stderr",
          "text": [
            "      43/50      2.21G      1.042     0.8616     0.9436        200        640: 100%|██████████| 5/5 [00:02<00:00,  2.42it/s]\n",
            "                 Class     Images  Instances      Box(P          R      mAP50  mAP50-95): 100%|██████████| 1/1 [00:00<00:00,  1.97it/s]"
          ]
        },
        {
          "output_type": "stream",
          "name": "stdout",
          "text": [
            "                   all         21        437      0.841       0.78      0.863      0.603\n"
          ]
        },
        {
          "output_type": "stream",
          "name": "stderr",
          "text": [
            "\n"
          ]
        },
        {
          "output_type": "stream",
          "name": "stdout",
          "text": [
            "\n",
            "      Epoch    GPU_mem   box_loss   cls_loss   dfl_loss  Instances       Size\n"
          ]
        },
        {
          "output_type": "stream",
          "name": "stderr",
          "text": [
            "      44/50      2.32G      1.053     0.8533     0.9404        201        640: 100%|██████████| 5/5 [00:01<00:00,  3.62it/s]\n",
            "                 Class     Images  Instances      Box(P          R      mAP50  mAP50-95): 100%|██████████| 1/1 [00:00<00:00,  1.96it/s]"
          ]
        },
        {
          "output_type": "stream",
          "name": "stdout",
          "text": [
            "                   all         21        437      0.848      0.782      0.869      0.614\n"
          ]
        },
        {
          "output_type": "stream",
          "name": "stderr",
          "text": [
            "\n"
          ]
        },
        {
          "output_type": "stream",
          "name": "stdout",
          "text": [
            "\n",
            "      Epoch    GPU_mem   box_loss   cls_loss   dfl_loss  Instances       Size\n"
          ]
        },
        {
          "output_type": "stream",
          "name": "stderr",
          "text": [
            "      45/50      2.31G      1.037     0.8584     0.9403        184        640: 100%|██████████| 5/5 [00:01<00:00,  3.45it/s]\n",
            "                 Class     Images  Instances      Box(P          R      mAP50  mAP50-95): 100%|██████████| 1/1 [00:00<00:00,  1.92it/s]"
          ]
        },
        {
          "output_type": "stream",
          "name": "stdout",
          "text": [
            "                   all         21        437       0.85      0.773      0.868      0.614\n"
          ]
        },
        {
          "output_type": "stream",
          "name": "stderr",
          "text": [
            "\n"
          ]
        },
        {
          "output_type": "stream",
          "name": "stdout",
          "text": [
            "\n",
            "      Epoch    GPU_mem   box_loss   cls_loss   dfl_loss  Instances       Size\n"
          ]
        },
        {
          "output_type": "stream",
          "name": "stderr",
          "text": [
            "      46/50      2.22G      1.041     0.8373     0.9368        203        640: 100%|██████████| 5/5 [00:01<00:00,  2.94it/s]\n",
            "                 Class     Images  Instances      Box(P          R      mAP50  mAP50-95): 100%|██████████| 1/1 [00:00<00:00,  1.24it/s]"
          ]
        },
        {
          "output_type": "stream",
          "name": "stdout",
          "text": [
            "                   all         21        437      0.854      0.778      0.869      0.611\n"
          ]
        },
        {
          "output_type": "stream",
          "name": "stderr",
          "text": [
            "\n"
          ]
        },
        {
          "output_type": "stream",
          "name": "stdout",
          "text": [
            "\n",
            "      Epoch    GPU_mem   box_loss   cls_loss   dfl_loss  Instances       Size\n"
          ]
        },
        {
          "output_type": "stream",
          "name": "stderr",
          "text": [
            "      47/50      2.32G      1.024     0.8475     0.9455        201        640: 100%|██████████| 5/5 [00:02<00:00,  2.12it/s]\n",
            "                 Class     Images  Instances      Box(P          R      mAP50  mAP50-95): 100%|██████████| 1/1 [00:00<00:00,  1.03it/s]"
          ]
        },
        {
          "output_type": "stream",
          "name": "stdout",
          "text": [
            "                   all         21        437      0.863      0.773      0.871      0.616\n"
          ]
        },
        {
          "output_type": "stream",
          "name": "stderr",
          "text": [
            "\n"
          ]
        },
        {
          "output_type": "stream",
          "name": "stdout",
          "text": [
            "\n",
            "      Epoch    GPU_mem   box_loss   cls_loss   dfl_loss  Instances       Size\n"
          ]
        },
        {
          "output_type": "stream",
          "name": "stderr",
          "text": [
            "      48/50      2.31G      1.008     0.8451     0.9525        200        640: 100%|██████████| 5/5 [00:01<00:00,  3.35it/s]\n",
            "                 Class     Images  Instances      Box(P          R      mAP50  mAP50-95): 100%|██████████| 1/1 [00:00<00:00,  3.11it/s]"
          ]
        },
        {
          "output_type": "stream",
          "name": "stdout",
          "text": [
            "                   all         21        437       0.87      0.776      0.873       0.62\n"
          ]
        },
        {
          "output_type": "stream",
          "name": "stderr",
          "text": [
            "\n"
          ]
        },
        {
          "output_type": "stream",
          "name": "stdout",
          "text": [
            "\n",
            "      Epoch    GPU_mem   box_loss   cls_loss   dfl_loss  Instances       Size\n"
          ]
        },
        {
          "output_type": "stream",
          "name": "stderr",
          "text": [
            "      49/50      2.31G      1.011     0.8248     0.9218        197        640: 100%|██████████| 5/5 [00:01<00:00,  3.11it/s]\n",
            "                 Class     Images  Instances      Box(P          R      mAP50  mAP50-95): 100%|██████████| 1/1 [00:00<00:00,  2.46it/s]"
          ]
        },
        {
          "output_type": "stream",
          "name": "stdout",
          "text": [
            "                   all         21        437      0.866       0.78      0.874      0.625\n"
          ]
        },
        {
          "output_type": "stream",
          "name": "stderr",
          "text": [
            "\n"
          ]
        },
        {
          "output_type": "stream",
          "name": "stdout",
          "text": [
            "\n",
            "      Epoch    GPU_mem   box_loss   cls_loss   dfl_loss  Instances       Size\n"
          ]
        },
        {
          "output_type": "stream",
          "name": "stderr",
          "text": [
            "      50/50      2.22G      1.025     0.8475     0.9349        193        640: 100%|██████████| 5/5 [00:01<00:00,  3.58it/s]\n",
            "                 Class     Images  Instances      Box(P          R      mAP50  mAP50-95): 100%|██████████| 1/1 [00:00<00:00,  2.15it/s]"
          ]
        },
        {
          "output_type": "stream",
          "name": "stdout",
          "text": [
            "                   all         21        437      0.872      0.778      0.873      0.624\n"
          ]
        },
        {
          "output_type": "stream",
          "name": "stderr",
          "text": [
            "\n"
          ]
        },
        {
          "output_type": "stream",
          "name": "stdout",
          "text": [
            "\n",
            "50 epochs completed in 0.065 hours.\n",
            "Optimizer stripped from runs/detect/train/weights/last.pt, 6.2MB\n",
            "Optimizer stripped from runs/detect/train/weights/best.pt, 6.2MB\n",
            "\n",
            "Validating runs/detect/train/weights/best.pt...\n",
            "Ultralytics 8.3.41 🚀 Python-3.10.12 torch-2.5.1+cu121 CUDA:0 (Tesla T4, 15102MiB)\n",
            "Model summary (fused): 168 layers, 3,005,843 parameters, 0 gradients, 8.1 GFLOPs\n"
          ]
        },
        {
          "output_type": "stream",
          "name": "stderr",
          "text": [
            "                 Class     Images  Instances      Box(P          R      mAP50  mAP50-95): 100%|██████████| 1/1 [00:00<00:00,  1.14it/s]\n"
          ]
        },
        {
          "output_type": "stream",
          "name": "stdout",
          "text": [
            "                   all         21        437      0.866      0.781      0.874      0.625\n",
            "Speed: 0.5ms preprocess, 3.7ms inference, 0.0ms loss, 8.2ms postprocess per image\n",
            "Results saved to \u001b[1mruns/detect/train\u001b[0m\n"
          ]
        },
        {
          "output_type": "execute_result",
          "data": {
            "text/plain": [
              "ultralytics.utils.metrics.DetMetrics object with attributes:\n",
              "\n",
              "ap_class_index: array([0])\n",
              "box: ultralytics.utils.metrics.Metric object\n",
              "confusion_matrix: <ultralytics.utils.metrics.ConfusionMatrix object at 0x78da85625750>\n",
              "curves: ['Precision-Recall(B)', 'F1-Confidence(B)', 'Precision-Confidence(B)', 'Recall-Confidence(B)']\n",
              "curves_results: [[array([          0,    0.001001,    0.002002,    0.003003,    0.004004,    0.005005,    0.006006,    0.007007,    0.008008,    0.009009,     0.01001,    0.011011,    0.012012,    0.013013,    0.014014,    0.015015,    0.016016,    0.017017,    0.018018,    0.019019,     0.02002,    0.021021,    0.022022,    0.023023,\n",
              "          0.024024,    0.025025,    0.026026,    0.027027,    0.028028,    0.029029,     0.03003,    0.031031,    0.032032,    0.033033,    0.034034,    0.035035,    0.036036,    0.037037,    0.038038,    0.039039,     0.04004,    0.041041,    0.042042,    0.043043,    0.044044,    0.045045,    0.046046,    0.047047,\n",
              "          0.048048,    0.049049,     0.05005,    0.051051,    0.052052,    0.053053,    0.054054,    0.055055,    0.056056,    0.057057,    0.058058,    0.059059,     0.06006,    0.061061,    0.062062,    0.063063,    0.064064,    0.065065,    0.066066,    0.067067,    0.068068,    0.069069,     0.07007,    0.071071,\n",
              "          0.072072,    0.073073,    0.074074,    0.075075,    0.076076,    0.077077,    0.078078,    0.079079,     0.08008,    0.081081,    0.082082,    0.083083,    0.084084,    0.085085,    0.086086,    0.087087,    0.088088,    0.089089,     0.09009,    0.091091,    0.092092,    0.093093,    0.094094,    0.095095,\n",
              "          0.096096,    0.097097,    0.098098,    0.099099,      0.1001,      0.1011,      0.1021,      0.1031,      0.1041,     0.10511,     0.10611,     0.10711,     0.10811,     0.10911,     0.11011,     0.11111,     0.11211,     0.11311,     0.11411,     0.11512,     0.11612,     0.11712,     0.11812,     0.11912,\n",
              "           0.12012,     0.12112,     0.12212,     0.12312,     0.12412,     0.12513,     0.12613,     0.12713,     0.12813,     0.12913,     0.13013,     0.13113,     0.13213,     0.13313,     0.13413,     0.13514,     0.13614,     0.13714,     0.13814,     0.13914,     0.14014,     0.14114,     0.14214,     0.14314,\n",
              "           0.14414,     0.14515,     0.14615,     0.14715,     0.14815,     0.14915,     0.15015,     0.15115,     0.15215,     0.15315,     0.15415,     0.15516,     0.15616,     0.15716,     0.15816,     0.15916,     0.16016,     0.16116,     0.16216,     0.16316,     0.16416,     0.16517,     0.16617,     0.16717,\n",
              "           0.16817,     0.16917,     0.17017,     0.17117,     0.17217,     0.17317,     0.17417,     0.17518,     0.17618,     0.17718,     0.17818,     0.17918,     0.18018,     0.18118,     0.18218,     0.18318,     0.18418,     0.18519,     0.18619,     0.18719,     0.18819,     0.18919,     0.19019,     0.19119,\n",
              "           0.19219,     0.19319,     0.19419,      0.1952,      0.1962,      0.1972,      0.1982,      0.1992,      0.2002,      0.2012,      0.2022,      0.2032,      0.2042,     0.20521,     0.20621,     0.20721,     0.20821,     0.20921,     0.21021,     0.21121,     0.21221,     0.21321,     0.21421,     0.21522,\n",
              "           0.21622,     0.21722,     0.21822,     0.21922,     0.22022,     0.22122,     0.22222,     0.22322,     0.22422,     0.22523,     0.22623,     0.22723,     0.22823,     0.22923,     0.23023,     0.23123,     0.23223,     0.23323,     0.23423,     0.23524,     0.23624,     0.23724,     0.23824,     0.23924,\n",
              "           0.24024,     0.24124,     0.24224,     0.24324,     0.24424,     0.24525,     0.24625,     0.24725,     0.24825,     0.24925,     0.25025,     0.25125,     0.25225,     0.25325,     0.25425,     0.25526,     0.25626,     0.25726,     0.25826,     0.25926,     0.26026,     0.26126,     0.26226,     0.26326,\n",
              "           0.26426,     0.26527,     0.26627,     0.26727,     0.26827,     0.26927,     0.27027,     0.27127,     0.27227,     0.27327,     0.27427,     0.27528,     0.27628,     0.27728,     0.27828,     0.27928,     0.28028,     0.28128,     0.28228,     0.28328,     0.28428,     0.28529,     0.28629,     0.28729,\n",
              "           0.28829,     0.28929,     0.29029,     0.29129,     0.29229,     0.29329,     0.29429,      0.2953,      0.2963,      0.2973,      0.2983,      0.2993,      0.3003,      0.3013,      0.3023,      0.3033,      0.3043,     0.30531,     0.30631,     0.30731,     0.30831,     0.30931,     0.31031,     0.31131,\n",
              "           0.31231,     0.31331,     0.31431,     0.31532,     0.31632,     0.31732,     0.31832,     0.31932,     0.32032,     0.32132,     0.32232,     0.32332,     0.32432,     0.32533,     0.32633,     0.32733,     0.32833,     0.32933,     0.33033,     0.33133,     0.33233,     0.33333,     0.33433,     0.33534,\n",
              "           0.33634,     0.33734,     0.33834,     0.33934,     0.34034,     0.34134,     0.34234,     0.34334,     0.34434,     0.34535,     0.34635,     0.34735,     0.34835,     0.34935,     0.35035,     0.35135,     0.35235,     0.35335,     0.35435,     0.35536,     0.35636,     0.35736,     0.35836,     0.35936,\n",
              "           0.36036,     0.36136,     0.36236,     0.36336,     0.36436,     0.36537,     0.36637,     0.36737,     0.36837,     0.36937,     0.37037,     0.37137,     0.37237,     0.37337,     0.37437,     0.37538,     0.37638,     0.37738,     0.37838,     0.37938,     0.38038,     0.38138,     0.38238,     0.38338,\n",
              "           0.38438,     0.38539,     0.38639,     0.38739,     0.38839,     0.38939,     0.39039,     0.39139,     0.39239,     0.39339,     0.39439,      0.3954,      0.3964,      0.3974,      0.3984,      0.3994,      0.4004,      0.4014,      0.4024,      0.4034,      0.4044,     0.40541,     0.40641,     0.40741,\n",
              "           0.40841,     0.40941,     0.41041,     0.41141,     0.41241,     0.41341,     0.41441,     0.41542,     0.41642,     0.41742,     0.41842,     0.41942,     0.42042,     0.42142,     0.42242,     0.42342,     0.42442,     0.42543,     0.42643,     0.42743,     0.42843,     0.42943,     0.43043,     0.43143,\n",
              "           0.43243,     0.43343,     0.43443,     0.43544,     0.43644,     0.43744,     0.43844,     0.43944,     0.44044,     0.44144,     0.44244,     0.44344,     0.44444,     0.44545,     0.44645,     0.44745,     0.44845,     0.44945,     0.45045,     0.45145,     0.45245,     0.45345,     0.45445,     0.45546,\n",
              "           0.45646,     0.45746,     0.45846,     0.45946,     0.46046,     0.46146,     0.46246,     0.46346,     0.46446,     0.46547,     0.46647,     0.46747,     0.46847,     0.46947,     0.47047,     0.47147,     0.47247,     0.47347,     0.47447,     0.47548,     0.47648,     0.47748,     0.47848,     0.47948,\n",
              "           0.48048,     0.48148,     0.48248,     0.48348,     0.48448,     0.48549,     0.48649,     0.48749,     0.48849,     0.48949,     0.49049,     0.49149,     0.49249,     0.49349,     0.49449,      0.4955,      0.4965,      0.4975,      0.4985,      0.4995,      0.5005,      0.5015,      0.5025,      0.5035,\n",
              "            0.5045,     0.50551,     0.50651,     0.50751,     0.50851,     0.50951,     0.51051,     0.51151,     0.51251,     0.51351,     0.51451,     0.51552,     0.51652,     0.51752,     0.51852,     0.51952,     0.52052,     0.52152,     0.52252,     0.52352,     0.52452,     0.52553,     0.52653,     0.52753,\n",
              "           0.52853,     0.52953,     0.53053,     0.53153,     0.53253,     0.53353,     0.53453,     0.53554,     0.53654,     0.53754,     0.53854,     0.53954,     0.54054,     0.54154,     0.54254,     0.54354,     0.54454,     0.54555,     0.54655,     0.54755,     0.54855,     0.54955,     0.55055,     0.55155,\n",
              "           0.55255,     0.55355,     0.55455,     0.55556,     0.55656,     0.55756,     0.55856,     0.55956,     0.56056,     0.56156,     0.56256,     0.56356,     0.56456,     0.56557,     0.56657,     0.56757,     0.56857,     0.56957,     0.57057,     0.57157,     0.57257,     0.57357,     0.57457,     0.57558,\n",
              "           0.57658,     0.57758,     0.57858,     0.57958,     0.58058,     0.58158,     0.58258,     0.58358,     0.58458,     0.58559,     0.58659,     0.58759,     0.58859,     0.58959,     0.59059,     0.59159,     0.59259,     0.59359,     0.59459,      0.5956,      0.5966,      0.5976,      0.5986,      0.5996,\n",
              "            0.6006,      0.6016,      0.6026,      0.6036,      0.6046,     0.60561,     0.60661,     0.60761,     0.60861,     0.60961,     0.61061,     0.61161,     0.61261,     0.61361,     0.61461,     0.61562,     0.61662,     0.61762,     0.61862,     0.61962,     0.62062,     0.62162,     0.62262,     0.62362,\n",
              "           0.62462,     0.62563,     0.62663,     0.62763,     0.62863,     0.62963,     0.63063,     0.63163,     0.63263,     0.63363,     0.63463,     0.63564,     0.63664,     0.63764,     0.63864,     0.63964,     0.64064,     0.64164,     0.64264,     0.64364,     0.64464,     0.64565,     0.64665,     0.64765,\n",
              "           0.64865,     0.64965,     0.65065,     0.65165,     0.65265,     0.65365,     0.65465,     0.65566,     0.65666,     0.65766,     0.65866,     0.65966,     0.66066,     0.66166,     0.66266,     0.66366,     0.66466,     0.66567,     0.66667,     0.66767,     0.66867,     0.66967,     0.67067,     0.67167,\n",
              "           0.67267,     0.67367,     0.67467,     0.67568,     0.67668,     0.67768,     0.67868,     0.67968,     0.68068,     0.68168,     0.68268,     0.68368,     0.68468,     0.68569,     0.68669,     0.68769,     0.68869,     0.68969,     0.69069,     0.69169,     0.69269,     0.69369,     0.69469,      0.6957,\n",
              "            0.6967,      0.6977,      0.6987,      0.6997,      0.7007,      0.7017,      0.7027,      0.7037,      0.7047,     0.70571,     0.70671,     0.70771,     0.70871,     0.70971,     0.71071,     0.71171,     0.71271,     0.71371,     0.71471,     0.71572,     0.71672,     0.71772,     0.71872,     0.71972,\n",
              "           0.72072,     0.72172,     0.72272,     0.72372,     0.72472,     0.72573,     0.72673,     0.72773,     0.72873,     0.72973,     0.73073,     0.73173,     0.73273,     0.73373,     0.73473,     0.73574,     0.73674,     0.73774,     0.73874,     0.73974,     0.74074,     0.74174,     0.74274,     0.74374,\n",
              "           0.74474,     0.74575,     0.74675,     0.74775,     0.74875,     0.74975,     0.75075,     0.75175,     0.75275,     0.75375,     0.75475,     0.75576,     0.75676,     0.75776,     0.75876,     0.75976,     0.76076,     0.76176,     0.76276,     0.76376,     0.76476,     0.76577,     0.76677,     0.76777,\n",
              "           0.76877,     0.76977,     0.77077,     0.77177,     0.77277,     0.77377,     0.77477,     0.77578,     0.77678,     0.77778,     0.77878,     0.77978,     0.78078,     0.78178,     0.78278,     0.78378,     0.78478,     0.78579,     0.78679,     0.78779,     0.78879,     0.78979,     0.79079,     0.79179,\n",
              "           0.79279,     0.79379,     0.79479,      0.7958,      0.7968,      0.7978,      0.7988,      0.7998,      0.8008,      0.8018,      0.8028,      0.8038,      0.8048,     0.80581,     0.80681,     0.80781,     0.80881,     0.80981,     0.81081,     0.81181,     0.81281,     0.81381,     0.81481,     0.81582,\n",
              "           0.81682,     0.81782,     0.81882,     0.81982,     0.82082,     0.82182,     0.82282,     0.82382,     0.82482,     0.82583,     0.82683,     0.82783,     0.82883,     0.82983,     0.83083,     0.83183,     0.83283,     0.83383,     0.83483,     0.83584,     0.83684,     0.83784,     0.83884,     0.83984,\n",
              "           0.84084,     0.84184,     0.84284,     0.84384,     0.84484,     0.84585,     0.84685,     0.84785,     0.84885,     0.84985,     0.85085,     0.85185,     0.85285,     0.85385,     0.85485,     0.85586,     0.85686,     0.85786,     0.85886,     0.85986,     0.86086,     0.86186,     0.86286,     0.86386,\n",
              "           0.86486,     0.86587,     0.86687,     0.86787,     0.86887,     0.86987,     0.87087,     0.87187,     0.87287,     0.87387,     0.87487,     0.87588,     0.87688,     0.87788,     0.87888,     0.87988,     0.88088,     0.88188,     0.88288,     0.88388,     0.88488,     0.88589,     0.88689,     0.88789,\n",
              "           0.88889,     0.88989,     0.89089,     0.89189,     0.89289,     0.89389,     0.89489,      0.8959,      0.8969,      0.8979,      0.8989,      0.8999,      0.9009,      0.9019,      0.9029,      0.9039,      0.9049,     0.90591,     0.90691,     0.90791,     0.90891,     0.90991,     0.91091,     0.91191,\n",
              "           0.91291,     0.91391,     0.91491,     0.91592,     0.91692,     0.91792,     0.91892,     0.91992,     0.92092,     0.92192,     0.92292,     0.92392,     0.92492,     0.92593,     0.92693,     0.92793,     0.92893,     0.92993,     0.93093,     0.93193,     0.93293,     0.93393,     0.93493,     0.93594,\n",
              "           0.93694,     0.93794,     0.93894,     0.93994,     0.94094,     0.94194,     0.94294,     0.94394,     0.94494,     0.94595,     0.94695,     0.94795,     0.94895,     0.94995,     0.95095,     0.95195,     0.95295,     0.95395,     0.95495,     0.95596,     0.95696,     0.95796,     0.95896,     0.95996,\n",
              "           0.96096,     0.96196,     0.96296,     0.96396,     0.96496,     0.96597,     0.96697,     0.96797,     0.96897,     0.96997,     0.97097,     0.97197,     0.97297,     0.97397,     0.97497,     0.97598,     0.97698,     0.97798,     0.97898,     0.97998,     0.98098,     0.98198,     0.98298,     0.98398,\n",
              "           0.98498,     0.98599,     0.98699,     0.98799,     0.98899,     0.98999,     0.99099,     0.99199,     0.99299,     0.99399,     0.99499,       0.996,       0.997,       0.998,       0.999,           1]), array([[          1,           1,           1,           1,           1,           1,           1,           1,           1,           1,           1,           1,           1,           1,           1,           1,           1,           1,           1,           1,           1,           1,           1,\n",
              "                  1,           1,           1,           1,           1,           1,           1,           1,           1,           1,           1,           1,           1,           1,           1,           1,           1,           1,           1,           1,           1,           1,           1,\n",
              "                  1,           1,           1,           1,           1,           1,           1,           1,           1,           1,           1,           1,           1,           1,           1,           1,           1,           1,           1,           1,           1,           1,           1,\n",
              "                  1,           1,           1,           1,           1,           1,           1,           1,           1,           1,           1,           1,           1,           1,           1,           1,           1,           1,           1,           1,           1,           1,           1,\n",
              "                  1,           1,           1,           1,           1,           1,           1,           1,           1,           1,           1,     0.99237,     0.99237,     0.99237,     0.99237,     0.99237,     0.99237,     0.99237,     0.99237,     0.99237,     0.99237,     0.99237,     0.99237,\n",
              "            0.99237,     0.99237,     0.99237,     0.99237,     0.99237,     0.99237,     0.99237,     0.99237,     0.99237,     0.99237,     0.99237,     0.99237,     0.99237,     0.99237,     0.99237,     0.99237,     0.99237,     0.99237,     0.99237,     0.99237,     0.99237,     0.99237,     0.99237,\n",
              "            0.99237,     0.99237,     0.99237,     0.99237,     0.99237,     0.99237,     0.99237,     0.99237,     0.99237,     0.99237,     0.99237,     0.99237,     0.99237,     0.99237,     0.99237,     0.99237,     0.99237,     0.99237,     0.99237,     0.99237,     0.99237,     0.99237,     0.99237,\n",
              "            0.99237,     0.99237,     0.99237,     0.99237,     0.99237,     0.99237,     0.99237,     0.99237,     0.99237,     0.99237,     0.99237,     0.99237,     0.99237,     0.99237,     0.99237,     0.99237,     0.99237,     0.99237,     0.99237,     0.99237,     0.99237,     0.99237,     0.99237,\n",
              "            0.99237,     0.99237,     0.99237,     0.99237,     0.99237,     0.99237,     0.99237,     0.99237,     0.99237,     0.99237,     0.99237,     0.99237,     0.99237,     0.99237,     0.99237,     0.99237,     0.99237,     0.99237,     0.99237,     0.99237,     0.99237,     0.99237,     0.99237,\n",
              "            0.99237,     0.99237,     0.99237,     0.99237,     0.99237,     0.99237,     0.99237,     0.99237,     0.99237,     0.99237,     0.99237,     0.99237,     0.99237,     0.99237,     0.99237,     0.99237,     0.99237,     0.99237,     0.99237,     0.99237,     0.99237,     0.99237,     0.99237,\n",
              "            0.99237,     0.99237,     0.99237,     0.99237,     0.99237,     0.99237,     0.99237,     0.99237,     0.99237,     0.99237,     0.99237,     0.99237,     0.99237,     0.99237,     0.99237,     0.99237,     0.99237,     0.99237,     0.99237,     0.99237,     0.99237,     0.99237,     0.99237,\n",
              "            0.99237,     0.99237,     0.99237,     0.99237,     0.99237,     0.99237,     0.99237,     0.99237,     0.99237,     0.99237,     0.99237,     0.99237,     0.99237,     0.99237,     0.99237,     0.99237,     0.99237,     0.99237,     0.99237,     0.99237,     0.99237,     0.99237,     0.99237,\n",
              "            0.99237,     0.99237,     0.99237,     0.99237,     0.99237,     0.99237,     0.99237,     0.99237,     0.99237,     0.99237,     0.99237,     0.99237,     0.99237,     0.99237,     0.99237,     0.99237,     0.99237,     0.99237,     0.99237,     0.99237,     0.99237,     0.99237,     0.99061,\n",
              "            0.99061,     0.99061,     0.99061,     0.99061,     0.99061,     0.99061,     0.99061,     0.99061,     0.99061,     0.99061,     0.99061,     0.99061,     0.99061,     0.99061,     0.99061,     0.99061,     0.99061,     0.99061,     0.99061,     0.99061,     0.99061,     0.99061,     0.99061,\n",
              "            0.99061,     0.99061,     0.99061,     0.99061,     0.99061,     0.99061,     0.99061,     0.99061,     0.99061,     0.99061,     0.99061,     0.99061,     0.99061,     0.99061,     0.99061,     0.99061,     0.99061,     0.99061,     0.99061,     0.99061,     0.99061,     0.99061,     0.99061,\n",
              "            0.99061,     0.99061,     0.99061,     0.99061,     0.99061,     0.99061,     0.99061,     0.99061,     0.99061,     0.99061,     0.99061,     0.99061,     0.99061,     0.99061,     0.99061,     0.99061,     0.99061,     0.99061,     0.99061,     0.99061,     0.99061,     0.99061,     0.99061,\n",
              "            0.99061,     0.99061,     0.99061,     0.99061,     0.99061,     0.99061,     0.99061,     0.99061,     0.99061,     0.99061,     0.99061,     0.99061,     0.99061,     0.99061,     0.99061,     0.99061,     0.99061,     0.99061,     0.99061,     0.99061,     0.99061,     0.99061,     0.99061,\n",
              "            0.99061,     0.99061,     0.99061,     0.99061,     0.99061,     0.99061,     0.99061,     0.99061,     0.99061,     0.99061,     0.99061,     0.99061,     0.99061,     0.99061,     0.99061,     0.99061,     0.99061,     0.99061,     0.99061,     0.99061,     0.99061,     0.99061,     0.99061,\n",
              "            0.99061,     0.99061,     0.99061,     0.99061,     0.99061,     0.99061,     0.99061,     0.99061,     0.99061,     0.99061,     0.99061,     0.99061,     0.99061,     0.99061,     0.99061,     0.99061,     0.99061,     0.99061,     0.99061,     0.99061,     0.99061,     0.99061,     0.99061,\n",
              "            0.99061,     0.99061,     0.99061,     0.99061,     0.99061,     0.99061,     0.99061,     0.99061,     0.99061,     0.99061,     0.99061,     0.99061,     0.99061,     0.99061,     0.99061,     0.99061,     0.99061,     0.99061,     0.99061,     0.99061,     0.99061,     0.99061,     0.99061,\n",
              "            0.99061,     0.99061,     0.99061,     0.99061,     0.99061,     0.99061,     0.99061,     0.99061,     0.99061,     0.99061,     0.99061,     0.99061,     0.99061,     0.99061,     0.99061,     0.99061,     0.99061,     0.99061,     0.99061,     0.99061,     0.99061,     0.99061,     0.99061,\n",
              "             0.9879,      0.9879,      0.9879,      0.9879,      0.9879,      0.9879,      0.9879,      0.9879,      0.9879,      0.9879,      0.9879,      0.9879,      0.9879,      0.9879,      0.9879,      0.9879,      0.9879,      0.9879,      0.9879,      0.9879,      0.9879,      0.9879,      0.9879,\n",
              "             0.9879,      0.9879,      0.9879,      0.9879,      0.9879,      0.9879,      0.9879,      0.9879,      0.9879,      0.9879,      0.9879,      0.9879,      0.9879,      0.9879,      0.9879,      0.9879,      0.9879,      0.9879,      0.9879,      0.9879,      0.9879,      0.9879,      0.9879,\n",
              "             0.9879,      0.9879,      0.9879,      0.9879,      0.9879,      0.9879,      0.9879,      0.9879,      0.9879,      0.9879,      0.9879,      0.9879,      0.9879,      0.9879,      0.9879,      0.9879,      0.9879,      0.9879,      0.9879,      0.9879,      0.9879,      0.9879,      0.9879,\n",
              "             0.9879,      0.9879,      0.9879,      0.9879,      0.9879,      0.9879,      0.9879,      0.9879,      0.9879,       0.984,       0.984,     0.98024,     0.98024,     0.98024,     0.98024,     0.97794,     0.97794,     0.97794,     0.97794,     0.97794,     0.97794,     0.97794,     0.97794,\n",
              "            0.97794,     0.97794,     0.97794,     0.97794,     0.97794,     0.97794,     0.97794,     0.97794,     0.97794,     0.97794,     0.97794,     0.97794,     0.97794,     0.97794,     0.97794,     0.97794,     0.97794,     0.97794,     0.97794,     0.97794,     0.97794,     0.97794,     0.97794,\n",
              "            0.97794,     0.97794,     0.97794,     0.97794,     0.97794,     0.97794,     0.97794,     0.97794,     0.97794,     0.97794,     0.97794,     0.96503,     0.96503,     0.96503,     0.96503,     0.96503,     0.96503,     0.96503,     0.96503,     0.96503,     0.96503,     0.96503,     0.96503,\n",
              "            0.96503,     0.96503,     0.96503,     0.96503,     0.96503,     0.96503,     0.96503,     0.96503,     0.96503,     0.96503,     0.95517,     0.95517,     0.95517,     0.95222,     0.95222,     0.95222,     0.95222,     0.94915,     0.94915,     0.94915,     0.94631,     0.94631,     0.94631,\n",
              "            0.94631,     0.94333,     0.94333,      0.9404,      0.9404,      0.9404,      0.9377,      0.9377,      0.9377,      0.9377,     0.93519,     0.93519,     0.93519,     0.93519,     0.93519,     0.93519,     0.93519,     0.93519,     0.93519,     0.93519,     0.93519,     0.93519,     0.93519,\n",
              "            0.93519,     0.93519,     0.93519,     0.93519,     0.93519,     0.93519,     0.93519,     0.93519,     0.93519,     0.93519,     0.93519,     0.93519,     0.93519,     0.93519,     0.93519,     0.93519,     0.93519,     0.93519,     0.93519,     0.93519,     0.93519,     0.93519,     0.93519,\n",
              "            0.93519,     0.93519,     0.93519,     0.93272,     0.93272,     0.93272,     0.93272,     0.93272,     0.93051,     0.93051,     0.93051,     0.93051,     0.93051,     0.93051,     0.93051,     0.92537,     0.92537,     0.92537,     0.92537,     0.92353,     0.92353,     0.92353,     0.92353,\n",
              "            0.92353,     0.92353,     0.92353,     0.92353,     0.92353,      0.9186,      0.9186,      0.9186,      0.9186,      0.9186,     0.91618,     0.91618,     0.91143,     0.91143,     0.91143,     0.91143,     0.91143,     0.90652,     0.90652,         0.9,         0.9,         0.9,         0.9,\n",
              "                0.9,         0.9,         0.9,         0.9,         0.9,     0.89532,     0.89532,     0.89218,     0.89218,     0.89218,     0.89218,     0.89218,     0.89218,     0.89218,     0.89218,     0.89218,     0.89218,     0.89218,     0.89218,     0.89218,     0.89218,     0.89037,     0.89037,\n",
              "            0.89037,     0.89037,     0.89037,     0.88624,     0.88624,     0.88624,     0.88624,     0.88421,     0.88421,     0.88421,      0.8822,      0.8822,     0.88052,     0.88052,     0.88052,     0.88052,     0.87855,     0.87855,     0.87855,     0.86768,     0.86768,     0.86582,     0.86582,\n",
              "            0.85536,     0.85536,     0.85536,     0.84729,     0.84729,     0.84597,     0.84597,     0.84597,     0.84597,     0.84223,     0.84223,     0.84223,     0.83059,     0.83059,     0.83059,     0.83059,     0.83059,     0.83059,     0.83059,     0.83059,     0.83059,     0.83059,     0.83059,\n",
              "            0.83059,     0.83059,     0.82904,     0.82904,     0.82904,     0.80995,     0.80995,     0.80995,     0.80995,     0.80995,     0.80995,     0.80995,     0.80995,     0.80995,     0.80856,     0.80856,     0.79295,     0.79295,     0.78525,     0.78525,     0.78525,     0.78525,     0.78525,\n",
              "             0.7773,      0.7773,     0.77495,     0.77495,     0.77495,     0.77495,     0.77495,     0.77215,     0.77215,     0.75983,     0.75983,     0.74949,     0.74949,     0.74949,     0.73214,     0.73214,     0.72125,     0.72125,     0.72039,     0.72039,     0.72039,     0.72008,     0.72008,\n",
              "            0.72008,     0.72008,     0.71785,     0.71785,     0.71157,     0.71157,     0.71157,     0.70412,     0.70412,     0.70055,     0.70055,     0.70055,     0.70055,     0.70055,     0.70055,     0.70055,     0.66087,     0.66087,     0.65917,     0.65917,     0.65636,     0.65636,     0.65636,\n",
              "            0.64975,     0.64975,     0.64975,     0.64975,     0.64333,     0.64333,     0.64333,     0.64333,     0.64333,     0.63756,     0.63756,     0.62987,     0.62987,     0.61453,     0.61453,     0.61453,     0.60092,     0.60092,     0.59063,     0.59063,      0.5706,      0.5706,      0.5706,\n",
              "            0.56385,     0.56385,     0.54875,     0.54875,     0.54785,     0.54785,     0.54545,     0.54545,     0.54545,     0.51625,     0.51625,     0.50636,     0.50636,     0.50126,     0.50126,     0.50126,       0.489,       0.489,     0.48255,     0.48255,     0.46636,     0.46636,     0.45692,\n",
              "            0.45692,     0.45692,     0.43974,     0.43974,     0.43974,     0.43974,     0.42872,     0.42872,     0.42872,      0.3779,      0.3779,     0.34489,     0.34489,     0.34197,     0.34197,     0.31734,     0.31734,     0.31734,     0.30902,     0.30902,     0.30117,     0.30117,     0.26322,\n",
              "            0.26322,     0.26322,     0.26219,     0.26219,     0.22579,     0.22579,      0.2245,      0.2245,     0.21352,     0.21352,     0.21352,     0.20242,     0.20242,     0.10096,     0.10096,    0.066268,    0.064651,    0.063035,    0.061419,    0.059802,    0.058186,     0.05657,    0.054954,\n",
              "           0.053337,    0.051721,    0.050105,    0.048488,    0.046872,    0.045256,     0.04364,    0.042023,    0.040407,    0.038791,    0.037174,    0.035558,    0.033942,    0.032326,    0.030709,    0.029093,    0.027477,     0.02586,    0.024244,    0.022628,    0.021012,    0.019395,    0.017779,\n",
              "           0.016163,    0.014547,     0.01293,    0.011314,   0.0096977,   0.0080814,   0.0064651,   0.0048488,   0.0032326,   0.0016163,           0]]), 'Recall', 'Precision'], [array([          0,    0.001001,    0.002002,    0.003003,    0.004004,    0.005005,    0.006006,    0.007007,    0.008008,    0.009009,     0.01001,    0.011011,    0.012012,    0.013013,    0.014014,    0.015015,    0.016016,    0.017017,    0.018018,    0.019019,     0.02002,    0.021021,    0.022022,    0.023023,\n",
              "          0.024024,    0.025025,    0.026026,    0.027027,    0.028028,    0.029029,     0.03003,    0.031031,    0.032032,    0.033033,    0.034034,    0.035035,    0.036036,    0.037037,    0.038038,    0.039039,     0.04004,    0.041041,    0.042042,    0.043043,    0.044044,    0.045045,    0.046046,    0.047047,\n",
              "          0.048048,    0.049049,     0.05005,    0.051051,    0.052052,    0.053053,    0.054054,    0.055055,    0.056056,    0.057057,    0.058058,    0.059059,     0.06006,    0.061061,    0.062062,    0.063063,    0.064064,    0.065065,    0.066066,    0.067067,    0.068068,    0.069069,     0.07007,    0.071071,\n",
              "          0.072072,    0.073073,    0.074074,    0.075075,    0.076076,    0.077077,    0.078078,    0.079079,     0.08008,    0.081081,    0.082082,    0.083083,    0.084084,    0.085085,    0.086086,    0.087087,    0.088088,    0.089089,     0.09009,    0.091091,    0.092092,    0.093093,    0.094094,    0.095095,\n",
              "          0.096096,    0.097097,    0.098098,    0.099099,      0.1001,      0.1011,      0.1021,      0.1031,      0.1041,     0.10511,     0.10611,     0.10711,     0.10811,     0.10911,     0.11011,     0.11111,     0.11211,     0.11311,     0.11411,     0.11512,     0.11612,     0.11712,     0.11812,     0.11912,\n",
              "           0.12012,     0.12112,     0.12212,     0.12312,     0.12412,     0.12513,     0.12613,     0.12713,     0.12813,     0.12913,     0.13013,     0.13113,     0.13213,     0.13313,     0.13413,     0.13514,     0.13614,     0.13714,     0.13814,     0.13914,     0.14014,     0.14114,     0.14214,     0.14314,\n",
              "           0.14414,     0.14515,     0.14615,     0.14715,     0.14815,     0.14915,     0.15015,     0.15115,     0.15215,     0.15315,     0.15415,     0.15516,     0.15616,     0.15716,     0.15816,     0.15916,     0.16016,     0.16116,     0.16216,     0.16316,     0.16416,     0.16517,     0.16617,     0.16717,\n",
              "           0.16817,     0.16917,     0.17017,     0.17117,     0.17217,     0.17317,     0.17417,     0.17518,     0.17618,     0.17718,     0.17818,     0.17918,     0.18018,     0.18118,     0.18218,     0.18318,     0.18418,     0.18519,     0.18619,     0.18719,     0.18819,     0.18919,     0.19019,     0.19119,\n",
              "           0.19219,     0.19319,     0.19419,      0.1952,      0.1962,      0.1972,      0.1982,      0.1992,      0.2002,      0.2012,      0.2022,      0.2032,      0.2042,     0.20521,     0.20621,     0.20721,     0.20821,     0.20921,     0.21021,     0.21121,     0.21221,     0.21321,     0.21421,     0.21522,\n",
              "           0.21622,     0.21722,     0.21822,     0.21922,     0.22022,     0.22122,     0.22222,     0.22322,     0.22422,     0.22523,     0.22623,     0.22723,     0.22823,     0.22923,     0.23023,     0.23123,     0.23223,     0.23323,     0.23423,     0.23524,     0.23624,     0.23724,     0.23824,     0.23924,\n",
              "           0.24024,     0.24124,     0.24224,     0.24324,     0.24424,     0.24525,     0.24625,     0.24725,     0.24825,     0.24925,     0.25025,     0.25125,     0.25225,     0.25325,     0.25425,     0.25526,     0.25626,     0.25726,     0.25826,     0.25926,     0.26026,     0.26126,     0.26226,     0.26326,\n",
              "           0.26426,     0.26527,     0.26627,     0.26727,     0.26827,     0.26927,     0.27027,     0.27127,     0.27227,     0.27327,     0.27427,     0.27528,     0.27628,     0.27728,     0.27828,     0.27928,     0.28028,     0.28128,     0.28228,     0.28328,     0.28428,     0.28529,     0.28629,     0.28729,\n",
              "           0.28829,     0.28929,     0.29029,     0.29129,     0.29229,     0.29329,     0.29429,      0.2953,      0.2963,      0.2973,      0.2983,      0.2993,      0.3003,      0.3013,      0.3023,      0.3033,      0.3043,     0.30531,     0.30631,     0.30731,     0.30831,     0.30931,     0.31031,     0.31131,\n",
              "           0.31231,     0.31331,     0.31431,     0.31532,     0.31632,     0.31732,     0.31832,     0.31932,     0.32032,     0.32132,     0.32232,     0.32332,     0.32432,     0.32533,     0.32633,     0.32733,     0.32833,     0.32933,     0.33033,     0.33133,     0.33233,     0.33333,     0.33433,     0.33534,\n",
              "           0.33634,     0.33734,     0.33834,     0.33934,     0.34034,     0.34134,     0.34234,     0.34334,     0.34434,     0.34535,     0.34635,     0.34735,     0.34835,     0.34935,     0.35035,     0.35135,     0.35235,     0.35335,     0.35435,     0.35536,     0.35636,     0.35736,     0.35836,     0.35936,\n",
              "           0.36036,     0.36136,     0.36236,     0.36336,     0.36436,     0.36537,     0.36637,     0.36737,     0.36837,     0.36937,     0.37037,     0.37137,     0.37237,     0.37337,     0.37437,     0.37538,     0.37638,     0.37738,     0.37838,     0.37938,     0.38038,     0.38138,     0.38238,     0.38338,\n",
              "           0.38438,     0.38539,     0.38639,     0.38739,     0.38839,     0.38939,     0.39039,     0.39139,     0.39239,     0.39339,     0.39439,      0.3954,      0.3964,      0.3974,      0.3984,      0.3994,      0.4004,      0.4014,      0.4024,      0.4034,      0.4044,     0.40541,     0.40641,     0.40741,\n",
              "           0.40841,     0.40941,     0.41041,     0.41141,     0.41241,     0.41341,     0.41441,     0.41542,     0.41642,     0.41742,     0.41842,     0.41942,     0.42042,     0.42142,     0.42242,     0.42342,     0.42442,     0.42543,     0.42643,     0.42743,     0.42843,     0.42943,     0.43043,     0.43143,\n",
              "           0.43243,     0.43343,     0.43443,     0.43544,     0.43644,     0.43744,     0.43844,     0.43944,     0.44044,     0.44144,     0.44244,     0.44344,     0.44444,     0.44545,     0.44645,     0.44745,     0.44845,     0.44945,     0.45045,     0.45145,     0.45245,     0.45345,     0.45445,     0.45546,\n",
              "           0.45646,     0.45746,     0.45846,     0.45946,     0.46046,     0.46146,     0.46246,     0.46346,     0.46446,     0.46547,     0.46647,     0.46747,     0.46847,     0.46947,     0.47047,     0.47147,     0.47247,     0.47347,     0.47447,     0.47548,     0.47648,     0.47748,     0.47848,     0.47948,\n",
              "           0.48048,     0.48148,     0.48248,     0.48348,     0.48448,     0.48549,     0.48649,     0.48749,     0.48849,     0.48949,     0.49049,     0.49149,     0.49249,     0.49349,     0.49449,      0.4955,      0.4965,      0.4975,      0.4985,      0.4995,      0.5005,      0.5015,      0.5025,      0.5035,\n",
              "            0.5045,     0.50551,     0.50651,     0.50751,     0.50851,     0.50951,     0.51051,     0.51151,     0.51251,     0.51351,     0.51451,     0.51552,     0.51652,     0.51752,     0.51852,     0.51952,     0.52052,     0.52152,     0.52252,     0.52352,     0.52452,     0.52553,     0.52653,     0.52753,\n",
              "           0.52853,     0.52953,     0.53053,     0.53153,     0.53253,     0.53353,     0.53453,     0.53554,     0.53654,     0.53754,     0.53854,     0.53954,     0.54054,     0.54154,     0.54254,     0.54354,     0.54454,     0.54555,     0.54655,     0.54755,     0.54855,     0.54955,     0.55055,     0.55155,\n",
              "           0.55255,     0.55355,     0.55455,     0.55556,     0.55656,     0.55756,     0.55856,     0.55956,     0.56056,     0.56156,     0.56256,     0.56356,     0.56456,     0.56557,     0.56657,     0.56757,     0.56857,     0.56957,     0.57057,     0.57157,     0.57257,     0.57357,     0.57457,     0.57558,\n",
              "           0.57658,     0.57758,     0.57858,     0.57958,     0.58058,     0.58158,     0.58258,     0.58358,     0.58458,     0.58559,     0.58659,     0.58759,     0.58859,     0.58959,     0.59059,     0.59159,     0.59259,     0.59359,     0.59459,      0.5956,      0.5966,      0.5976,      0.5986,      0.5996,\n",
              "            0.6006,      0.6016,      0.6026,      0.6036,      0.6046,     0.60561,     0.60661,     0.60761,     0.60861,     0.60961,     0.61061,     0.61161,     0.61261,     0.61361,     0.61461,     0.61562,     0.61662,     0.61762,     0.61862,     0.61962,     0.62062,     0.62162,     0.62262,     0.62362,\n",
              "           0.62462,     0.62563,     0.62663,     0.62763,     0.62863,     0.62963,     0.63063,     0.63163,     0.63263,     0.63363,     0.63463,     0.63564,     0.63664,     0.63764,     0.63864,     0.63964,     0.64064,     0.64164,     0.64264,     0.64364,     0.64464,     0.64565,     0.64665,     0.64765,\n",
              "           0.64865,     0.64965,     0.65065,     0.65165,     0.65265,     0.65365,     0.65465,     0.65566,     0.65666,     0.65766,     0.65866,     0.65966,     0.66066,     0.66166,     0.66266,     0.66366,     0.66466,     0.66567,     0.66667,     0.66767,     0.66867,     0.66967,     0.67067,     0.67167,\n",
              "           0.67267,     0.67367,     0.67467,     0.67568,     0.67668,     0.67768,     0.67868,     0.67968,     0.68068,     0.68168,     0.68268,     0.68368,     0.68468,     0.68569,     0.68669,     0.68769,     0.68869,     0.68969,     0.69069,     0.69169,     0.69269,     0.69369,     0.69469,      0.6957,\n",
              "            0.6967,      0.6977,      0.6987,      0.6997,      0.7007,      0.7017,      0.7027,      0.7037,      0.7047,     0.70571,     0.70671,     0.70771,     0.70871,     0.70971,     0.71071,     0.71171,     0.71271,     0.71371,     0.71471,     0.71572,     0.71672,     0.71772,     0.71872,     0.71972,\n",
              "           0.72072,     0.72172,     0.72272,     0.72372,     0.72472,     0.72573,     0.72673,     0.72773,     0.72873,     0.72973,     0.73073,     0.73173,     0.73273,     0.73373,     0.73473,     0.73574,     0.73674,     0.73774,     0.73874,     0.73974,     0.74074,     0.74174,     0.74274,     0.74374,\n",
              "           0.74474,     0.74575,     0.74675,     0.74775,     0.74875,     0.74975,     0.75075,     0.75175,     0.75275,     0.75375,     0.75475,     0.75576,     0.75676,     0.75776,     0.75876,     0.75976,     0.76076,     0.76176,     0.76276,     0.76376,     0.76476,     0.76577,     0.76677,     0.76777,\n",
              "           0.76877,     0.76977,     0.77077,     0.77177,     0.77277,     0.77377,     0.77477,     0.77578,     0.77678,     0.77778,     0.77878,     0.77978,     0.78078,     0.78178,     0.78278,     0.78378,     0.78478,     0.78579,     0.78679,     0.78779,     0.78879,     0.78979,     0.79079,     0.79179,\n",
              "           0.79279,     0.79379,     0.79479,      0.7958,      0.7968,      0.7978,      0.7988,      0.7998,      0.8008,      0.8018,      0.8028,      0.8038,      0.8048,     0.80581,     0.80681,     0.80781,     0.80881,     0.80981,     0.81081,     0.81181,     0.81281,     0.81381,     0.81481,     0.81582,\n",
              "           0.81682,     0.81782,     0.81882,     0.81982,     0.82082,     0.82182,     0.82282,     0.82382,     0.82482,     0.82583,     0.82683,     0.82783,     0.82883,     0.82983,     0.83083,     0.83183,     0.83283,     0.83383,     0.83483,     0.83584,     0.83684,     0.83784,     0.83884,     0.83984,\n",
              "           0.84084,     0.84184,     0.84284,     0.84384,     0.84484,     0.84585,     0.84685,     0.84785,     0.84885,     0.84985,     0.85085,     0.85185,     0.85285,     0.85385,     0.85485,     0.85586,     0.85686,     0.85786,     0.85886,     0.85986,     0.86086,     0.86186,     0.86286,     0.86386,\n",
              "           0.86486,     0.86587,     0.86687,     0.86787,     0.86887,     0.86987,     0.87087,     0.87187,     0.87287,     0.87387,     0.87487,     0.87588,     0.87688,     0.87788,     0.87888,     0.87988,     0.88088,     0.88188,     0.88288,     0.88388,     0.88488,     0.88589,     0.88689,     0.88789,\n",
              "           0.88889,     0.88989,     0.89089,     0.89189,     0.89289,     0.89389,     0.89489,      0.8959,      0.8969,      0.8979,      0.8989,      0.8999,      0.9009,      0.9019,      0.9029,      0.9039,      0.9049,     0.90591,     0.90691,     0.90791,     0.90891,     0.90991,     0.91091,     0.91191,\n",
              "           0.91291,     0.91391,     0.91491,     0.91592,     0.91692,     0.91792,     0.91892,     0.91992,     0.92092,     0.92192,     0.92292,     0.92392,     0.92492,     0.92593,     0.92693,     0.92793,     0.92893,     0.92993,     0.93093,     0.93193,     0.93293,     0.93393,     0.93493,     0.93594,\n",
              "           0.93694,     0.93794,     0.93894,     0.93994,     0.94094,     0.94194,     0.94294,     0.94394,     0.94494,     0.94595,     0.94695,     0.94795,     0.94895,     0.94995,     0.95095,     0.95195,     0.95295,     0.95395,     0.95495,     0.95596,     0.95696,     0.95796,     0.95896,     0.95996,\n",
              "           0.96096,     0.96196,     0.96296,     0.96396,     0.96496,     0.96597,     0.96697,     0.96797,     0.96897,     0.96997,     0.97097,     0.97197,     0.97297,     0.97397,     0.97497,     0.97598,     0.97698,     0.97798,     0.97898,     0.97998,     0.98098,     0.98198,     0.98298,     0.98398,\n",
              "           0.98498,     0.98599,     0.98699,     0.98799,     0.98899,     0.98999,     0.99099,     0.99199,     0.99299,     0.99399,     0.99499,       0.996,       0.997,       0.998,       0.999,           1]), array([[    0.12439,     0.12439,     0.12439,     0.12439,     0.12439,     0.12935,     0.18242,     0.24429,     0.27304,       0.296,     0.31969,     0.34034,     0.35701,     0.36994,     0.38442,      0.3977,     0.40968,     0.42182,     0.43321,     0.44304,     0.45626,     0.46515,     0.47413,\n",
              "            0.48689,     0.49734,     0.50242,     0.50756,     0.51348,     0.52055,     0.52923,     0.53418,     0.53956,     0.54475,     0.55246,     0.55858,     0.56214,     0.56787,     0.57334,     0.58026,     0.58369,     0.58836,     0.59183,      0.5954,     0.59972,     0.60339,      0.6093,\n",
              "            0.61294,     0.61504,     0.61815,     0.61931,     0.62292,     0.62696,     0.63296,     0.63618,      0.6378,     0.64111,     0.64517,     0.64867,     0.65056,     0.65165,     0.65396,     0.65803,     0.66044,     0.66447,     0.66633,     0.66935,     0.67249,     0.67402,     0.67665,\n",
              "            0.67842,     0.68099,      0.6811,     0.68167,     0.68396,     0.68657,     0.68843,     0.68939,     0.69279,     0.69339,     0.69645,     0.69635,     0.69789,     0.69944,     0.70182,      0.7039,     0.70546,      0.7066,       0.708,     0.71107,     0.71221,     0.71407,     0.71694,\n",
              "            0.71803,     0.71742,     0.71811,      0.7194,     0.72046,     0.72449,     0.72645,     0.72614,     0.72657,     0.72835,     0.72943,     0.73015,     0.73183,       0.733,     0.73429,     0.73511,     0.73607,     0.73625,     0.73855,     0.74042,     0.74036,     0.74242,     0.74279,\n",
              "            0.74364,     0.74255,     0.74413,     0.74546,      0.7461,      0.7462,     0.74767,     0.74812,     0.74918,     0.74879,     0.74914,      0.7506,     0.74993,     0.75073,     0.75233,     0.75389,     0.75547,     0.75766,     0.75832,     0.75896,     0.75981,      0.7614,     0.76343,\n",
              "             0.7652,     0.76594,     0.76634,     0.76934,     0.76983,     0.77015,     0.77108,     0.77221,     0.77253,     0.77286,     0.77318,     0.77363,     0.77476,     0.77215,     0.77161,      0.7722,     0.77383,     0.77416,     0.77564,     0.77657,     0.77688,      0.7772,      0.7777,\n",
              "            0.77719,     0.77858,      0.7795,     0.78066,     0.78008,     0.77953,      0.7799,     0.78027,     0.78043,     0.77893,     0.77824,     0.77884,     0.77826,     0.77993,     0.78212,      0.7842,     0.78372,     0.78556,     0.78581,     0.78606,      0.7863,     0.78768,     0.78984,\n",
              "            0.79053,     0.79131,     0.79263,     0.79199,     0.79227,     0.79255,     0.79297,     0.79347,     0.79394,     0.79443,     0.79513,     0.79621,     0.79669,     0.79756,     0.79663,     0.79772,     0.79861,     0.80002,     0.80074,     0.80141,     0.80297,     0.80327,     0.80229,\n",
              "              0.802,     0.80252,     0.80298,      0.8026,     0.80192,     0.80278,     0.80344,     0.80411,     0.80575,     0.80457,     0.80393,     0.80477,      0.8061,     0.80685,     0.80782,     0.80732,     0.80682,     0.80731,     0.80798,     0.80863,     0.80907,     0.80952,      0.8102,\n",
              "            0.81222,     0.81291,      0.8149,     0.81419,     0.81217,     0.81038,     0.80945,     0.80944,     0.80989,     0.81033,     0.81078,     0.81122,     0.81164,     0.81234,     0.81305,     0.81337,     0.81369,     0.81422,     0.81504,     0.81579,       0.816,     0.81621,     0.81642,\n",
              "            0.81671,      0.8177,     0.81813,      0.8186,     0.81924,     0.81852,      0.8186,     0.81581,     0.81488,     0.81407,     0.81089,     0.81132,     0.81186,     0.81412,     0.81663,     0.81688,     0.81713,     0.81737,     0.81695,     0.81631,      0.8166,     0.81778,     0.81771,\n",
              "            0.81741,      0.8171,      0.8168,     0.81635,     0.81539,     0.81587,     0.81554,      0.8152,     0.81486,     0.81481,     0.81495,     0.81509,     0.81522,     0.81536,      0.8155,     0.81563,     0.81582,     0.81606,     0.81629,     0.81653,     0.81683,     0.81722,     0.81762,\n",
              "            0.81852,     0.81811,      0.8177,     0.81728,     0.81745,     0.81776,     0.81807,     0.81883,     0.82059,     0.82119,     0.82148,     0.82177,     0.82205,     0.82185,      0.8215,     0.82116,     0.82082,     0.82088,     0.82117,     0.82146,     0.82136,     0.82041,     0.82099,\n",
              "            0.82299,     0.82408,     0.82473,     0.82521,     0.82493,     0.82465,     0.82437,     0.82409,     0.82481,     0.82397,      0.8228,     0.82254,     0.82179,     0.82196,     0.82248,     0.82175,     0.82112,     0.82132,     0.82151,     0.82171,     0.82191,     0.82197,     0.82058,\n",
              "            0.82004,      0.8195,     0.82078,     0.82069,     0.81995,     0.81843,     0.81862,     0.81881,       0.819,     0.81919,     0.81922,     0.81898,     0.81874,      0.8185,     0.81826,     0.81802,     0.81743,     0.81612,     0.81526,     0.81401,     0.81102,     0.81086,     0.81145,\n",
              "            0.81246,     0.81138,     0.81176,     0.81232,     0.81139,     0.81083,     0.81028,     0.80822,     0.80766,      0.8071,     0.80755,     0.80807,     0.81012,     0.80956,       0.809,     0.80879,     0.80932,     0.81046,      0.8099,     0.80933,     0.80837,     0.80894,     0.80906,\n",
              "            0.80886,     0.80865,     0.80844,     0.80823,     0.80802,     0.80781,     0.80765,     0.80813,      0.8079,     0.80767,     0.80743,      0.8072,     0.80697,     0.80673,     0.80621,     0.80563,     0.80507,     0.80454,     0.80401,     0.80356,     0.80332,     0.80309,     0.80285,\n",
              "            0.80262,     0.80238,     0.80215,     0.80205,     0.80045,     0.80123,      0.8015,     0.80177,     0.80203,     0.80025,     0.79991,     0.79957,     0.79923,     0.79866,      0.7975,     0.79803,     0.79829,     0.79775,     0.79722,     0.79666,     0.79607,     0.79548,     0.79551,\n",
              "            0.79586,     0.79622,     0.79516,     0.79194,     0.79114,     0.79059,     0.79005,     0.78976,     0.78953,      0.7893,     0.78906,     0.78883,     0.78859,     0.78674,     0.78514,     0.78497,      0.7848,     0.78463,     0.78446,     0.78429,     0.78412,     0.78395,     0.78378,\n",
              "            0.78361,     0.78324,     0.78269,     0.78214,     0.78092,     0.77926,     0.77759,     0.77503,     0.77447,     0.77391,     0.77314,     0.77229,     0.77078,     0.76978,     0.76893,     0.76974,     0.77033,     0.77086,     0.77009,     0.76924,     0.76809,     0.76854,     0.76787,\n",
              "            0.76635,     0.76688,     0.76729,     0.76686,     0.76643,       0.766,     0.76423,     0.76339,     0.76361,     0.76382,     0.76404,     0.76425,     0.76429,     0.76404,     0.76379,     0.76355,      0.7633,     0.76305,      0.7628,     0.76237,     0.76179,     0.76121,     0.76205,\n",
              "            0.76313,     0.76059,     0.75975,     0.75931,     0.75887,     0.75842,     0.75787,     0.75728,     0.75669,     0.75507,     0.75408,     0.75319,      0.7528,     0.75245,     0.75209,     0.75173,     0.75129,     0.74957,     0.74868,     0.74722,     0.74744,     0.74765,     0.74787,\n",
              "            0.74808,     0.74852,      0.7496,     0.75021,     0.74976,     0.74931,     0.74886,     0.74786,     0.74666,      0.7463,     0.74593,     0.74557,     0.74521,     0.74471,      0.7441,     0.74349,     0.74269,     0.74178,     0.74117,     0.74071,     0.74025,     0.73979,     0.73922,\n",
              "             0.7386,     0.73799,     0.73565,     0.73512,     0.73459,     0.73415,     0.73384,     0.73354,     0.73323,     0.73292,     0.73261,     0.73226,     0.73189,     0.73152,     0.73114,     0.73077,     0.72492,     0.72454,     0.72416,     0.72379,     0.72341,     0.72283,      0.7222,\n",
              "            0.72157,     0.71981,     0.71878,     0.71783,     0.71792,     0.71614,     0.71486,     0.71458,     0.71511,     0.71229,     0.71036,     0.70842,     0.70713,     0.70615,     0.70553,     0.70504,     0.70455,     0.70406,     0.70046,     0.69978,     0.69934,      0.6989,     0.69846,\n",
              "            0.69805,     0.69765,     0.69726,     0.69686,     0.69646,     0.69573,     0.69473,     0.69312,     0.69205,     0.69148,     0.69091,     0.69044,     0.69031,     0.69017,     0.69003,     0.68989,     0.68975,     0.68962,     0.68948,     0.68934,      0.6892,     0.68906,     0.68893,\n",
              "            0.68879,     0.68865,     0.68849,     0.68804,     0.68759,     0.68715,      0.6867,     0.68516,     0.68315,     0.68005,     0.67924,     0.67805,     0.67635,     0.67533,     0.67392,     0.67214,     0.67077,     0.66875,     0.66617,     0.66565,     0.66513,     0.66463,      0.6644,\n",
              "            0.66417,     0.66394,      0.6637,     0.66347,     0.66324,     0.66301,     0.66278,     0.66248,     0.66202,     0.66156,     0.66109,     0.66063,     0.65666,     0.65594,     0.65534,     0.65473,     0.65195,      0.6511,     0.65017,     0.64828,     0.64879,     0.64894,     0.64645,\n",
              "            0.64458,     0.64386,     0.64315,     0.63768,     0.63634,     0.63525,      0.6344,     0.63404,     0.63368,     0.63332,     0.63295,     0.63259,     0.63135,     0.62811,     0.62701,     0.62592,     0.62504,     0.62415,     0.62244,     0.62125,     0.62062,     0.61998,     0.61844,\n",
              "            0.61565,     0.61445,     0.61355,     0.61001,     0.60775,     0.60461,     0.59866,     0.59751,       0.596,     0.59492,     0.59435,     0.59377,     0.59319,     0.59241,     0.59149,     0.59053,     0.58937,     0.58586,      0.5843,     0.58217,     0.57911,     0.57844,     0.57776,\n",
              "            0.57709,     0.57674,     0.57644,     0.57614,     0.57585,     0.57555,     0.57526,     0.57496,     0.57229,      0.5707,     0.56934,     0.56815,     0.56695,     0.56575,     0.56471,     0.56375,     0.56282,     0.56202,     0.56121,     0.56051,     0.56002,     0.55954,     0.55905,\n",
              "            0.55857,     0.55794,     0.55713,     0.55632,     0.55272,     0.54855,     0.54499,     0.54299,     0.54134,     0.53968,     0.53802,     0.53635,     0.53468,     0.53301,     0.52887,     0.52719,      0.5255,      0.5242,     0.52369,     0.52318,     0.52267,     0.52216,     0.52111,\n",
              "             0.5194,     0.51435,     0.51263,     0.51091,     0.50673,     0.50599,     0.50525,      0.5045,     0.50308,     0.50058,     0.49595,      0.4926,     0.48812,     0.48723,     0.48634,     0.48556,     0.48479,     0.48403,     0.47863,     0.47761,     0.47683,     0.47606,      0.4716,\n",
              "            0.46962,     0.46826,     0.46705,     0.46595,     0.46223,     0.46154,     0.46085,     0.46016,     0.45936,     0.45825,     0.45714,     0.45622,     0.45462,      0.4535,     0.45238,     0.44834,     0.44422,     0.44037,     0.43848,     0.43734,     0.43619,     0.43283,     0.43187,\n",
              "            0.43091,     0.42992,     0.42876,      0.4276,     0.42588,     0.42408,     0.42262,     0.42101,     0.41907,     0.41778,     0.41661,     0.41471,     0.41219,     0.41022,     0.40114,     0.40047,     0.39981,     0.39914,     0.39798,     0.39378,     0.38927,     0.38325,     0.38039,\n",
              "            0.37834,     0.37703,       0.376,     0.37497,     0.37009,     0.36661,     0.35533,     0.35277,     0.35118,     0.34311,     0.34097,     0.33619,     0.33453,      0.3249,     0.31816,     0.31183,     0.30848,     0.30213,     0.30078,     0.29943,     0.29664,     0.29225,     0.29163,\n",
              "            0.29101,     0.29039,     0.28976,     0.28914,     0.28084,     0.27911,     0.26914,     0.26423,     0.26306,      0.2583,     0.25308,       0.251,      0.2501,     0.24921,     0.24831,     0.24682,     0.24502,     0.24376,     0.24273,      0.2417,     0.23886,     0.23192,     0.22782,\n",
              "            0.22602,     0.22521,     0.22439,     0.22357,     0.22142,     0.21879,     0.21731,     0.21213,     0.20963,      0.2064,     0.20093,      0.1984,     0.19281,     0.19128,     0.18925,     0.18653,     0.18003,     0.17796,      0.1764,     0.17484,     0.17327,     0.17171,     0.17111,\n",
              "            0.17062,     0.17013,     0.16963,     0.16914,     0.16865,     0.16816,     0.16374,     0.16242,      0.1611,     0.15967,     0.15768,     0.15554,     0.15288,     0.14709,     0.14548,     0.14386,     0.14225,     0.14063,     0.13983,     0.13916,     0.13848,      0.1378,     0.13712,\n",
              "            0.13644,     0.13563,     0.13481,       0.134,     0.13318,     0.13228,     0.13092,     0.12955,     0.12803,     0.12598,     0.12429,     0.12366,     0.12302,     0.12239,     0.12175,     0.12111,     0.12048,     0.11958,     0.11866,     0.11773,     0.11681,     0.11574,     0.11455,\n",
              "            0.11336,     0.11214,     0.11075,     0.10935,      0.1066,    0.087153,    0.085435,    0.083714,    0.082662,    0.081799,    0.080935,    0.080071,    0.079206,    0.076517,    0.074467,      0.0735,    0.072532,    0.071563,    0.061873,    0.057138,    0.050851,    0.046385,    0.039217,\n",
              "           0.037412,    0.031279,     0.02998,    0.028678,    0.027375,     0.02607,    0.024764,    0.023456,    0.017299,    0.014991,    0.011718,   0.0089078,   0.0084427,   0.0079774,   0.0075119,   0.0070462,   0.0065803,   0.0061142,   0.0056478,   0.0051812,   0.0047144,           0,           0,\n",
              "                  0,           0,           0,           0,           0,           0,           0,           0,           0,           0,           0]]), 'Confidence', 'F1'], [array([          0,    0.001001,    0.002002,    0.003003,    0.004004,    0.005005,    0.006006,    0.007007,    0.008008,    0.009009,     0.01001,    0.011011,    0.012012,    0.013013,    0.014014,    0.015015,    0.016016,    0.017017,    0.018018,    0.019019,     0.02002,    0.021021,    0.022022,    0.023023,\n",
              "          0.024024,    0.025025,    0.026026,    0.027027,    0.028028,    0.029029,     0.03003,    0.031031,    0.032032,    0.033033,    0.034034,    0.035035,    0.036036,    0.037037,    0.038038,    0.039039,     0.04004,    0.041041,    0.042042,    0.043043,    0.044044,    0.045045,    0.046046,    0.047047,\n",
              "          0.048048,    0.049049,     0.05005,    0.051051,    0.052052,    0.053053,    0.054054,    0.055055,    0.056056,    0.057057,    0.058058,    0.059059,     0.06006,    0.061061,    0.062062,    0.063063,    0.064064,    0.065065,    0.066066,    0.067067,    0.068068,    0.069069,     0.07007,    0.071071,\n",
              "          0.072072,    0.073073,    0.074074,    0.075075,    0.076076,    0.077077,    0.078078,    0.079079,     0.08008,    0.081081,    0.082082,    0.083083,    0.084084,    0.085085,    0.086086,    0.087087,    0.088088,    0.089089,     0.09009,    0.091091,    0.092092,    0.093093,    0.094094,    0.095095,\n",
              "          0.096096,    0.097097,    0.098098,    0.099099,      0.1001,      0.1011,      0.1021,      0.1031,      0.1041,     0.10511,     0.10611,     0.10711,     0.10811,     0.10911,     0.11011,     0.11111,     0.11211,     0.11311,     0.11411,     0.11512,     0.11612,     0.11712,     0.11812,     0.11912,\n",
              "           0.12012,     0.12112,     0.12212,     0.12312,     0.12412,     0.12513,     0.12613,     0.12713,     0.12813,     0.12913,     0.13013,     0.13113,     0.13213,     0.13313,     0.13413,     0.13514,     0.13614,     0.13714,     0.13814,     0.13914,     0.14014,     0.14114,     0.14214,     0.14314,\n",
              "           0.14414,     0.14515,     0.14615,     0.14715,     0.14815,     0.14915,     0.15015,     0.15115,     0.15215,     0.15315,     0.15415,     0.15516,     0.15616,     0.15716,     0.15816,     0.15916,     0.16016,     0.16116,     0.16216,     0.16316,     0.16416,     0.16517,     0.16617,     0.16717,\n",
              "           0.16817,     0.16917,     0.17017,     0.17117,     0.17217,     0.17317,     0.17417,     0.17518,     0.17618,     0.17718,     0.17818,     0.17918,     0.18018,     0.18118,     0.18218,     0.18318,     0.18418,     0.18519,     0.18619,     0.18719,     0.18819,     0.18919,     0.19019,     0.19119,\n",
              "           0.19219,     0.19319,     0.19419,      0.1952,      0.1962,      0.1972,      0.1982,      0.1992,      0.2002,      0.2012,      0.2022,      0.2032,      0.2042,     0.20521,     0.20621,     0.20721,     0.20821,     0.20921,     0.21021,     0.21121,     0.21221,     0.21321,     0.21421,     0.21522,\n",
              "           0.21622,     0.21722,     0.21822,     0.21922,     0.22022,     0.22122,     0.22222,     0.22322,     0.22422,     0.22523,     0.22623,     0.22723,     0.22823,     0.22923,     0.23023,     0.23123,     0.23223,     0.23323,     0.23423,     0.23524,     0.23624,     0.23724,     0.23824,     0.23924,\n",
              "           0.24024,     0.24124,     0.24224,     0.24324,     0.24424,     0.24525,     0.24625,     0.24725,     0.24825,     0.24925,     0.25025,     0.25125,     0.25225,     0.25325,     0.25425,     0.25526,     0.25626,     0.25726,     0.25826,     0.25926,     0.26026,     0.26126,     0.26226,     0.26326,\n",
              "           0.26426,     0.26527,     0.26627,     0.26727,     0.26827,     0.26927,     0.27027,     0.27127,     0.27227,     0.27327,     0.27427,     0.27528,     0.27628,     0.27728,     0.27828,     0.27928,     0.28028,     0.28128,     0.28228,     0.28328,     0.28428,     0.28529,     0.28629,     0.28729,\n",
              "           0.28829,     0.28929,     0.29029,     0.29129,     0.29229,     0.29329,     0.29429,      0.2953,      0.2963,      0.2973,      0.2983,      0.2993,      0.3003,      0.3013,      0.3023,      0.3033,      0.3043,     0.30531,     0.30631,     0.30731,     0.30831,     0.30931,     0.31031,     0.31131,\n",
              "           0.31231,     0.31331,     0.31431,     0.31532,     0.31632,     0.31732,     0.31832,     0.31932,     0.32032,     0.32132,     0.32232,     0.32332,     0.32432,     0.32533,     0.32633,     0.32733,     0.32833,     0.32933,     0.33033,     0.33133,     0.33233,     0.33333,     0.33433,     0.33534,\n",
              "           0.33634,     0.33734,     0.33834,     0.33934,     0.34034,     0.34134,     0.34234,     0.34334,     0.34434,     0.34535,     0.34635,     0.34735,     0.34835,     0.34935,     0.35035,     0.35135,     0.35235,     0.35335,     0.35435,     0.35536,     0.35636,     0.35736,     0.35836,     0.35936,\n",
              "           0.36036,     0.36136,     0.36236,     0.36336,     0.36436,     0.36537,     0.36637,     0.36737,     0.36837,     0.36937,     0.37037,     0.37137,     0.37237,     0.37337,     0.37437,     0.37538,     0.37638,     0.37738,     0.37838,     0.37938,     0.38038,     0.38138,     0.38238,     0.38338,\n",
              "           0.38438,     0.38539,     0.38639,     0.38739,     0.38839,     0.38939,     0.39039,     0.39139,     0.39239,     0.39339,     0.39439,      0.3954,      0.3964,      0.3974,      0.3984,      0.3994,      0.4004,      0.4014,      0.4024,      0.4034,      0.4044,     0.40541,     0.40641,     0.40741,\n",
              "           0.40841,     0.40941,     0.41041,     0.41141,     0.41241,     0.41341,     0.41441,     0.41542,     0.41642,     0.41742,     0.41842,     0.41942,     0.42042,     0.42142,     0.42242,     0.42342,     0.42442,     0.42543,     0.42643,     0.42743,     0.42843,     0.42943,     0.43043,     0.43143,\n",
              "           0.43243,     0.43343,     0.43443,     0.43544,     0.43644,     0.43744,     0.43844,     0.43944,     0.44044,     0.44144,     0.44244,     0.44344,     0.44444,     0.44545,     0.44645,     0.44745,     0.44845,     0.44945,     0.45045,     0.45145,     0.45245,     0.45345,     0.45445,     0.45546,\n",
              "           0.45646,     0.45746,     0.45846,     0.45946,     0.46046,     0.46146,     0.46246,     0.46346,     0.46446,     0.46547,     0.46647,     0.46747,     0.46847,     0.46947,     0.47047,     0.47147,     0.47247,     0.47347,     0.47447,     0.47548,     0.47648,     0.47748,     0.47848,     0.47948,\n",
              "           0.48048,     0.48148,     0.48248,     0.48348,     0.48448,     0.48549,     0.48649,     0.48749,     0.48849,     0.48949,     0.49049,     0.49149,     0.49249,     0.49349,     0.49449,      0.4955,      0.4965,      0.4975,      0.4985,      0.4995,      0.5005,      0.5015,      0.5025,      0.5035,\n",
              "            0.5045,     0.50551,     0.50651,     0.50751,     0.50851,     0.50951,     0.51051,     0.51151,     0.51251,     0.51351,     0.51451,     0.51552,     0.51652,     0.51752,     0.51852,     0.51952,     0.52052,     0.52152,     0.52252,     0.52352,     0.52452,     0.52553,     0.52653,     0.52753,\n",
              "           0.52853,     0.52953,     0.53053,     0.53153,     0.53253,     0.53353,     0.53453,     0.53554,     0.53654,     0.53754,     0.53854,     0.53954,     0.54054,     0.54154,     0.54254,     0.54354,     0.54454,     0.54555,     0.54655,     0.54755,     0.54855,     0.54955,     0.55055,     0.55155,\n",
              "           0.55255,     0.55355,     0.55455,     0.55556,     0.55656,     0.55756,     0.55856,     0.55956,     0.56056,     0.56156,     0.56256,     0.56356,     0.56456,     0.56557,     0.56657,     0.56757,     0.56857,     0.56957,     0.57057,     0.57157,     0.57257,     0.57357,     0.57457,     0.57558,\n",
              "           0.57658,     0.57758,     0.57858,     0.57958,     0.58058,     0.58158,     0.58258,     0.58358,     0.58458,     0.58559,     0.58659,     0.58759,     0.58859,     0.58959,     0.59059,     0.59159,     0.59259,     0.59359,     0.59459,      0.5956,      0.5966,      0.5976,      0.5986,      0.5996,\n",
              "            0.6006,      0.6016,      0.6026,      0.6036,      0.6046,     0.60561,     0.60661,     0.60761,     0.60861,     0.60961,     0.61061,     0.61161,     0.61261,     0.61361,     0.61461,     0.61562,     0.61662,     0.61762,     0.61862,     0.61962,     0.62062,     0.62162,     0.62262,     0.62362,\n",
              "           0.62462,     0.62563,     0.62663,     0.62763,     0.62863,     0.62963,     0.63063,     0.63163,     0.63263,     0.63363,     0.63463,     0.63564,     0.63664,     0.63764,     0.63864,     0.63964,     0.64064,     0.64164,     0.64264,     0.64364,     0.64464,     0.64565,     0.64665,     0.64765,\n",
              "           0.64865,     0.64965,     0.65065,     0.65165,     0.65265,     0.65365,     0.65465,     0.65566,     0.65666,     0.65766,     0.65866,     0.65966,     0.66066,     0.66166,     0.66266,     0.66366,     0.66466,     0.66567,     0.66667,     0.66767,     0.66867,     0.66967,     0.67067,     0.67167,\n",
              "           0.67267,     0.67367,     0.67467,     0.67568,     0.67668,     0.67768,     0.67868,     0.67968,     0.68068,     0.68168,     0.68268,     0.68368,     0.68468,     0.68569,     0.68669,     0.68769,     0.68869,     0.68969,     0.69069,     0.69169,     0.69269,     0.69369,     0.69469,      0.6957,\n",
              "            0.6967,      0.6977,      0.6987,      0.6997,      0.7007,      0.7017,      0.7027,      0.7037,      0.7047,     0.70571,     0.70671,     0.70771,     0.70871,     0.70971,     0.71071,     0.71171,     0.71271,     0.71371,     0.71471,     0.71572,     0.71672,     0.71772,     0.71872,     0.71972,\n",
              "           0.72072,     0.72172,     0.72272,     0.72372,     0.72472,     0.72573,     0.72673,     0.72773,     0.72873,     0.72973,     0.73073,     0.73173,     0.73273,     0.73373,     0.73473,     0.73574,     0.73674,     0.73774,     0.73874,     0.73974,     0.74074,     0.74174,     0.74274,     0.74374,\n",
              "           0.74474,     0.74575,     0.74675,     0.74775,     0.74875,     0.74975,     0.75075,     0.75175,     0.75275,     0.75375,     0.75475,     0.75576,     0.75676,     0.75776,     0.75876,     0.75976,     0.76076,     0.76176,     0.76276,     0.76376,     0.76476,     0.76577,     0.76677,     0.76777,\n",
              "           0.76877,     0.76977,     0.77077,     0.77177,     0.77277,     0.77377,     0.77477,     0.77578,     0.77678,     0.77778,     0.77878,     0.77978,     0.78078,     0.78178,     0.78278,     0.78378,     0.78478,     0.78579,     0.78679,     0.78779,     0.78879,     0.78979,     0.79079,     0.79179,\n",
              "           0.79279,     0.79379,     0.79479,      0.7958,      0.7968,      0.7978,      0.7988,      0.7998,      0.8008,      0.8018,      0.8028,      0.8038,      0.8048,     0.80581,     0.80681,     0.80781,     0.80881,     0.80981,     0.81081,     0.81181,     0.81281,     0.81381,     0.81481,     0.81582,\n",
              "           0.81682,     0.81782,     0.81882,     0.81982,     0.82082,     0.82182,     0.82282,     0.82382,     0.82482,     0.82583,     0.82683,     0.82783,     0.82883,     0.82983,     0.83083,     0.83183,     0.83283,     0.83383,     0.83483,     0.83584,     0.83684,     0.83784,     0.83884,     0.83984,\n",
              "           0.84084,     0.84184,     0.84284,     0.84384,     0.84484,     0.84585,     0.84685,     0.84785,     0.84885,     0.84985,     0.85085,     0.85185,     0.85285,     0.85385,     0.85485,     0.85586,     0.85686,     0.85786,     0.85886,     0.85986,     0.86086,     0.86186,     0.86286,     0.86386,\n",
              "           0.86486,     0.86587,     0.86687,     0.86787,     0.86887,     0.86987,     0.87087,     0.87187,     0.87287,     0.87387,     0.87487,     0.87588,     0.87688,     0.87788,     0.87888,     0.87988,     0.88088,     0.88188,     0.88288,     0.88388,     0.88488,     0.88589,     0.88689,     0.88789,\n",
              "           0.88889,     0.88989,     0.89089,     0.89189,     0.89289,     0.89389,     0.89489,      0.8959,      0.8969,      0.8979,      0.8989,      0.8999,      0.9009,      0.9019,      0.9029,      0.9039,      0.9049,     0.90591,     0.90691,     0.90791,     0.90891,     0.90991,     0.91091,     0.91191,\n",
              "           0.91291,     0.91391,     0.91491,     0.91592,     0.91692,     0.91792,     0.91892,     0.91992,     0.92092,     0.92192,     0.92292,     0.92392,     0.92492,     0.92593,     0.92693,     0.92793,     0.92893,     0.92993,     0.93093,     0.93193,     0.93293,     0.93393,     0.93493,     0.93594,\n",
              "           0.93694,     0.93794,     0.93894,     0.93994,     0.94094,     0.94194,     0.94294,     0.94394,     0.94494,     0.94595,     0.94695,     0.94795,     0.94895,     0.94995,     0.95095,     0.95195,     0.95295,     0.95395,     0.95495,     0.95596,     0.95696,     0.95796,     0.95896,     0.95996,\n",
              "           0.96096,     0.96196,     0.96296,     0.96396,     0.96496,     0.96597,     0.96697,     0.96797,     0.96897,     0.96997,     0.97097,     0.97197,     0.97297,     0.97397,     0.97497,     0.97598,     0.97698,     0.97798,     0.97898,     0.97998,     0.98098,     0.98198,     0.98298,     0.98398,\n",
              "           0.98498,     0.98599,     0.98699,     0.98799,     0.98899,     0.98999,     0.99099,     0.99199,     0.99299,     0.99399,     0.99499,       0.996,       0.997,       0.998,       0.999,           1]), array([[   0.066508,    0.066508,    0.066508,    0.066508,    0.066508,     0.06935,     0.10082,     0.14003,     0.15925,     0.17509,     0.19192,     0.20711,      0.2197,     0.22985,     0.24114,     0.25167,     0.26135,     0.27169,     0.28121,     0.28956,     0.30095,     0.30923,     0.31748,\n",
              "            0.32903,     0.33864,     0.34368,     0.34883,     0.35444,     0.36123,     0.36964,     0.37448,     0.38018,     0.38535,     0.39311,     0.39934,     0.40298,      0.4089,      0.4146,     0.42188,     0.42551,     0.43099,     0.43472,     0.43933,     0.44434,     0.44838,     0.45494,\n",
              "            0.45958,     0.46195,     0.46605,     0.46738,     0.47149,     0.47614,     0.48373,      0.4875,     0.49007,     0.49399,     0.49883,     0.50372,       0.506,     0.50804,     0.51085,     0.51657,     0.51955,     0.52456,     0.52688,     0.53066,     0.53462,     0.53655,      0.5399,\n",
              "            0.54215,     0.54545,     0.54726,     0.54885,     0.55181,     0.55523,     0.55767,     0.55892,     0.56341,      0.5651,     0.56918,     0.56998,     0.57204,     0.57413,     0.57733,     0.58016,     0.58228,     0.58383,     0.58574,     0.59038,     0.59254,     0.59512,     0.59911,\n",
              "            0.60082,     0.60082,      0.6018,     0.60361,      0.6051,     0.61081,      0.6136,     0.61425,     0.61486,     0.61742,     0.61898,     0.62001,     0.62244,     0.62413,     0.62601,      0.6272,     0.62859,     0.63001,      0.6334,     0.63615,     0.63724,     0.64031,     0.64085,\n",
              "            0.64212,     0.64292,     0.64529,      0.6473,     0.64927,     0.65093,     0.65318,     0.65385,     0.65608,     0.65617,      0.6567,      0.6591,     0.66056,     0.66179,     0.66428,     0.66672,     0.66919,     0.67265,     0.67368,     0.67469,     0.67604,     0.67856,     0.68179,\n",
              "            0.68462,      0.6858,     0.68644,     0.69128,     0.69208,     0.69259,     0.69408,     0.69593,     0.69645,     0.69698,      0.6975,     0.69824,     0.70007,     0.69927,     0.69943,     0.70039,     0.70308,     0.70516,     0.70762,     0.70917,     0.70969,     0.71022,     0.71106,\n",
              "            0.71122,     0.71411,     0.71566,      0.7178,     0.71755,     0.71733,     0.71796,     0.71858,     0.71977,     0.71956,     0.72004,      0.7212,     0.72173,     0.72461,      0.7284,     0.73211,      0.7329,     0.73614,     0.73657,       0.737,     0.73743,     0.73986,     0.74368,\n",
              "            0.74491,     0.74629,     0.74865,     0.74931,     0.74982,     0.75032,     0.75106,     0.75197,     0.75281,     0.75369,     0.75496,     0.75691,     0.75777,     0.75934,     0.75954,     0.76152,     0.76315,     0.76573,     0.76705,     0.76827,     0.77115,     0.77206,      0.7717,\n",
              "            0.77423,     0.77623,     0.77708,     0.77712,     0.77688,     0.77871,     0.77997,     0.78122,     0.78508,     0.78467,     0.78501,     0.78659,     0.78914,     0.79058,     0.79286,     0.79269,     0.79252,     0.79359,      0.7949,     0.79614,     0.79699,     0.79788,     0.79921,\n",
              "            0.80314,     0.80448,     0.80839,     0.80984,     0.80919,     0.80862,     0.80832,     0.80881,      0.8097,      0.8106,     0.81149,     0.81237,     0.81322,     0.81462,     0.81605,     0.81669,     0.81734,     0.81841,     0.82007,      0.8216,     0.82202,     0.82244,     0.82287,\n",
              "            0.82346,     0.82548,     0.82636,      0.8273,     0.82863,     0.82956,     0.83046,     0.82965,     0.82938,     0.82914,     0.82845,     0.82936,     0.83049,     0.83522,     0.84054,     0.84106,     0.84159,     0.84211,      0.8421,     0.84192,     0.84304,     0.84557,      0.8459,\n",
              "            0.84581,     0.84573,     0.84565,     0.84553,     0.84527,     0.84722,     0.84713,     0.84704,     0.84695,      0.8471,     0.84739,     0.84769,     0.84799,     0.84828,     0.84858,     0.84887,     0.84929,     0.84979,      0.8503,     0.85081,     0.85146,     0.85233,      0.8532,\n",
              "            0.85534,     0.85523,     0.85513,     0.85502,     0.85555,     0.85622,      0.8569,     0.85856,     0.86245,     0.86377,     0.86441,     0.86505,     0.86569,     0.86576,     0.86568,     0.86559,     0.86551,      0.8659,     0.86654,     0.86719,     0.86761,     0.86767,     0.86897,\n",
              "            0.87346,     0.87591,      0.8774,     0.87854,     0.87848,     0.87842,     0.87836,      0.8783,     0.88052,     0.88034,     0.88008,     0.88124,     0.88195,     0.88291,      0.8841,     0.88405,       0.884,     0.88445,     0.88491,     0.88537,     0.88582,     0.88622,     0.88593,\n",
              "            0.88582,      0.8857,     0.88937,     0.89027,     0.89012,     0.89012,     0.89056,     0.89101,     0.89146,      0.8919,     0.89217,     0.89212,     0.89207,     0.89202,     0.89197,     0.89193,     0.89181,     0.89155,     0.89137,     0.89112,     0.89052,     0.89133,     0.89277,\n",
              "            0.89522,     0.89591,     0.89684,     0.89822,     0.89969,     0.89959,     0.89948,     0.89909,     0.89899,     0.89888,     0.90009,     0.90139,     0.90651,     0.90642,     0.90632,     0.90668,     0.90801,     0.91139,      0.9113,      0.9112,     0.91278,      0.9179,     0.91858,\n",
              "            0.91855,     0.91852,     0.91848,     0.91845,     0.91842,     0.91839,       0.922,     0.92351,     0.92348,     0.92345,     0.92341,     0.92338,     0.92334,     0.92331,     0.92323,     0.92315,     0.92306,     0.92298,     0.92291,     0.92284,      0.9228,     0.92277,     0.92274,\n",
              "             0.9227,     0.92267,     0.92263,     0.92522,     0.92499,     0.92823,     0.92894,     0.92966,     0.93038,     0.93027,     0.93022,     0.93017,     0.93013,     0.93005,     0.93018,     0.93164,      0.9327,     0.93263,     0.93256,     0.93249,     0.93241,     0.93234,     0.93294,\n",
              "            0.93392,     0.93491,     0.93504,     0.93463,     0.93453,     0.93446,     0.93439,     0.93435,     0.93432,     0.93429,     0.93426,     0.93423,      0.9342,     0.93396,     0.93375,     0.93373,     0.93371,     0.93369,     0.93367,     0.93364,     0.93362,      0.9336,     0.93358,\n",
              "            0.93355,     0.93351,     0.93343,     0.93336,      0.9332,     0.93298,     0.93277,     0.93243,     0.93235,     0.93228,     0.93217,     0.93206,     0.93186,     0.93173,     0.93161,      0.9343,     0.93604,     0.93761,     0.93761,      0.9375,     0.93886,     0.94039,     0.94332,\n",
              "            0.94328,      0.9449,      0.9463,     0.94626,     0.94621,     0.94616,     0.94671,     0.94915,     0.94981,     0.95048,     0.95114,     0.95181,     0.95221,     0.95219,     0.95216,     0.95214,     0.95211,     0.95209,     0.95207,     0.95202,     0.95197,     0.95191,     0.96046,\n",
              "             0.9639,     0.96483,     0.96477,     0.96473,      0.9647,     0.96467,     0.96463,     0.96459,     0.96454,     0.96443,     0.96435,     0.96429,     0.96426,     0.96423,     0.96421,     0.96418,     0.96415,     0.96402,     0.96396,     0.96737,     0.96809,     0.96882,     0.96954,\n",
              "            0.97027,     0.97174,     0.97539,     0.97793,     0.97791,     0.97789,     0.97787,     0.97783,     0.97777,     0.97775,     0.97774,     0.97772,      0.9777,     0.97768,     0.97765,     0.97762,     0.97759,     0.97754,     0.97751,     0.97749,     0.97747,     0.97745,     0.97742,\n",
              "            0.97739,     0.97736,     0.97725,     0.97723,      0.9772,     0.97718,     0.97717,     0.97715,     0.97714,     0.97712,     0.97711,     0.97709,     0.97707,     0.97705,     0.97703,     0.97702,     0.97673,     0.97671,     0.97669,     0.97668,     0.97666,     0.97663,      0.9766,\n",
              "            0.97657,     0.97648,     0.97643,     0.97638,      0.9802,       0.984,     0.98396,     0.98506,     0.98709,     0.98782,     0.98777,     0.98772,     0.98769,     0.98766,     0.98764,     0.98763,     0.98762,     0.98761,     0.98751,     0.98749,     0.98748,     0.98747,     0.98745,\n",
              "            0.98744,     0.98743,     0.98742,     0.98741,      0.9874,     0.98738,     0.98735,     0.98731,     0.98728,     0.98726,     0.98725,     0.98723,     0.98723,     0.98723,     0.98722,     0.98722,     0.98721,     0.98721,     0.98721,      0.9872,      0.9872,     0.98719,     0.98719,\n",
              "            0.98719,     0.98718,     0.98718,     0.98717,     0.98715,     0.98714,     0.98713,     0.98708,     0.98703,     0.98694,     0.98692,     0.98688,     0.98683,      0.9868,     0.98676,     0.98671,     0.98667,     0.98661,     0.98653,     0.98652,      0.9865,     0.98649,     0.98648,\n",
              "            0.98647,     0.98647,     0.98646,     0.98645,     0.98644,     0.98644,     0.98643,     0.98642,     0.98641,     0.98639,     0.98638,     0.98637,     0.98624,     0.98622,      0.9862,     0.98618,      0.9861,     0.98607,     0.98604,     0.98619,     0.98857,      0.9906,     0.99055,\n",
              "            0.99051,      0.9905,     0.99048,     0.99036,     0.99033,     0.99031,     0.99029,     0.99028,     0.99027,     0.99026,     0.99026,     0.99025,     0.99022,     0.99015,     0.99012,      0.9901,     0.99008,     0.99006,     0.99002,     0.98999,     0.98998,     0.98996,     0.98993,\n",
              "            0.98986,     0.98983,     0.98981,     0.98973,     0.98967,     0.98959,     0.98945,     0.98942,     0.98938,     0.98935,     0.98934,     0.98933,     0.98931,     0.98929,     0.98927,     0.98924,     0.98921,     0.98912,     0.98908,     0.98903,     0.98895,     0.98893,     0.98891,\n",
              "            0.98889,     0.98888,     0.98887,     0.98887,     0.98886,     0.98885,     0.98884,     0.98883,     0.98876,     0.98872,     0.98868,     0.98865,     0.98862,     0.98858,     0.98855,     0.98853,      0.9885,     0.98848,     0.98845,     0.98844,     0.98842,     0.98841,     0.98839,\n",
              "            0.98838,     0.98836,     0.98834,     0.98832,     0.98821,     0.98809,     0.98798,     0.98792,     0.98787,     0.98782,     0.98777,     0.98772,     0.98767,     0.98762,     0.98749,     0.98743,     0.98738,     0.98734,     0.98732,      0.9873,     0.98729,     0.98727,     0.98724,\n",
              "            0.98718,     0.98701,     0.98695,      0.9869,     0.98675,     0.98673,      0.9867,     0.98668,     0.98663,     0.98654,     0.98637,     0.98625,     0.98609,     0.98605,     0.98602,     0.98599,     0.98596,     0.98593,     0.98573,     0.98569,     0.98566,     0.98563,     0.98545,\n",
              "            0.98537,     0.98532,     0.98527,     0.98522,     0.98507,     0.98504,     0.98501,     0.98498,     0.98495,      0.9849,     0.98486,     0.99233,      0.9923,     0.99227,     0.99225,     0.99216,     0.99207,     0.99198,     0.99193,     0.99191,     0.99188,      0.9918,     0.99178,\n",
              "            0.99175,     0.99173,      0.9917,     0.99167,     0.99163,     0.99159,     0.99155,     0.99151,     0.99146,     0.99143,      0.9914,     0.99135,     0.99128,     0.99123,     0.99098,     0.99096,     0.99094,     0.99093,     0.99089,     0.99077,     0.99064,     0.99046,     0.99037,\n",
              "            0.99031,     0.99027,     0.99024,      0.9902,     0.99004,     0.98993,     0.98954,     0.98945,     0.98939,     0.98909,     0.98901,     0.98883,     0.98876,     0.98837,     0.98807,     0.98779,     0.98764,     0.98733,     0.98727,      0.9872,     0.98706,     0.98683,      0.9868,\n",
              "            0.98677,     0.98674,      0.9867,     0.98667,     0.98622,     0.98612,     0.98553,     0.98522,     0.98515,     0.98484,     0.98448,     0.98434,     0.98428,     0.98421,     0.98415,     0.98404,     0.98391,     0.98382,     0.98374,     0.98366,     0.98344,     0.98289,     0.98255,\n",
              "             0.9824,     0.98232,     0.98225,     0.98218,     0.98199,     0.98175,     0.98161,     0.98112,     0.98087,     0.98054,     0.97997,     0.97969,     0.97905,     0.97887,     0.97862,     0.98901,           1,           1,           1,           1,           1,           1,           1,\n",
              "                  1,           1,           1,           1,           1,           1,           1,           1,           1,           1,           1,           1,           1,           1,           1,           1,           1,           1,           1,           1,           1,           1,           1,\n",
              "                  1,           1,           1,           1,           1,           1,           1,           1,           1,           1,           1,           1,           1,           1,           1,           1,           1,           1,           1,           1,           1,           1,           1,\n",
              "                  1,           1,           1,           1,           1,           1,           1,           1,           1,           1,           1,           1,           1,           1,           1,           1,           1,           1,           1,           1,           1,           1,           1,\n",
              "                  1,           1,           1,           1,           1,           1,           1,           1,           1,           1,           1,           1,           1,           1,           1,           1,           1,           1,           1,           1,           1,           1,           1,\n",
              "                  1,           1,           1,           1,           1,           1,           1,           1,           1,           1,           1]]), 'Confidence', 'Precision'], [array([          0,    0.001001,    0.002002,    0.003003,    0.004004,    0.005005,    0.006006,    0.007007,    0.008008,    0.009009,     0.01001,    0.011011,    0.012012,    0.013013,    0.014014,    0.015015,    0.016016,    0.017017,    0.018018,    0.019019,     0.02002,    0.021021,    0.022022,    0.023023,\n",
              "          0.024024,    0.025025,    0.026026,    0.027027,    0.028028,    0.029029,     0.03003,    0.031031,    0.032032,    0.033033,    0.034034,    0.035035,    0.036036,    0.037037,    0.038038,    0.039039,     0.04004,    0.041041,    0.042042,    0.043043,    0.044044,    0.045045,    0.046046,    0.047047,\n",
              "          0.048048,    0.049049,     0.05005,    0.051051,    0.052052,    0.053053,    0.054054,    0.055055,    0.056056,    0.057057,    0.058058,    0.059059,     0.06006,    0.061061,    0.062062,    0.063063,    0.064064,    0.065065,    0.066066,    0.067067,    0.068068,    0.069069,     0.07007,    0.071071,\n",
              "          0.072072,    0.073073,    0.074074,    0.075075,    0.076076,    0.077077,    0.078078,    0.079079,     0.08008,    0.081081,    0.082082,    0.083083,    0.084084,    0.085085,    0.086086,    0.087087,    0.088088,    0.089089,     0.09009,    0.091091,    0.092092,    0.093093,    0.094094,    0.095095,\n",
              "          0.096096,    0.097097,    0.098098,    0.099099,      0.1001,      0.1011,      0.1021,      0.1031,      0.1041,     0.10511,     0.10611,     0.10711,     0.10811,     0.10911,     0.11011,     0.11111,     0.11211,     0.11311,     0.11411,     0.11512,     0.11612,     0.11712,     0.11812,     0.11912,\n",
              "           0.12012,     0.12112,     0.12212,     0.12312,     0.12412,     0.12513,     0.12613,     0.12713,     0.12813,     0.12913,     0.13013,     0.13113,     0.13213,     0.13313,     0.13413,     0.13514,     0.13614,     0.13714,     0.13814,     0.13914,     0.14014,     0.14114,     0.14214,     0.14314,\n",
              "           0.14414,     0.14515,     0.14615,     0.14715,     0.14815,     0.14915,     0.15015,     0.15115,     0.15215,     0.15315,     0.15415,     0.15516,     0.15616,     0.15716,     0.15816,     0.15916,     0.16016,     0.16116,     0.16216,     0.16316,     0.16416,     0.16517,     0.16617,     0.16717,\n",
              "           0.16817,     0.16917,     0.17017,     0.17117,     0.17217,     0.17317,     0.17417,     0.17518,     0.17618,     0.17718,     0.17818,     0.17918,     0.18018,     0.18118,     0.18218,     0.18318,     0.18418,     0.18519,     0.18619,     0.18719,     0.18819,     0.18919,     0.19019,     0.19119,\n",
              "           0.19219,     0.19319,     0.19419,      0.1952,      0.1962,      0.1972,      0.1982,      0.1992,      0.2002,      0.2012,      0.2022,      0.2032,      0.2042,     0.20521,     0.20621,     0.20721,     0.20821,     0.20921,     0.21021,     0.21121,     0.21221,     0.21321,     0.21421,     0.21522,\n",
              "           0.21622,     0.21722,     0.21822,     0.21922,     0.22022,     0.22122,     0.22222,     0.22322,     0.22422,     0.22523,     0.22623,     0.22723,     0.22823,     0.22923,     0.23023,     0.23123,     0.23223,     0.23323,     0.23423,     0.23524,     0.23624,     0.23724,     0.23824,     0.23924,\n",
              "           0.24024,     0.24124,     0.24224,     0.24324,     0.24424,     0.24525,     0.24625,     0.24725,     0.24825,     0.24925,     0.25025,     0.25125,     0.25225,     0.25325,     0.25425,     0.25526,     0.25626,     0.25726,     0.25826,     0.25926,     0.26026,     0.26126,     0.26226,     0.26326,\n",
              "           0.26426,     0.26527,     0.26627,     0.26727,     0.26827,     0.26927,     0.27027,     0.27127,     0.27227,     0.27327,     0.27427,     0.27528,     0.27628,     0.27728,     0.27828,     0.27928,     0.28028,     0.28128,     0.28228,     0.28328,     0.28428,     0.28529,     0.28629,     0.28729,\n",
              "           0.28829,     0.28929,     0.29029,     0.29129,     0.29229,     0.29329,     0.29429,      0.2953,      0.2963,      0.2973,      0.2983,      0.2993,      0.3003,      0.3013,      0.3023,      0.3033,      0.3043,     0.30531,     0.30631,     0.30731,     0.30831,     0.30931,     0.31031,     0.31131,\n",
              "           0.31231,     0.31331,     0.31431,     0.31532,     0.31632,     0.31732,     0.31832,     0.31932,     0.32032,     0.32132,     0.32232,     0.32332,     0.32432,     0.32533,     0.32633,     0.32733,     0.32833,     0.32933,     0.33033,     0.33133,     0.33233,     0.33333,     0.33433,     0.33534,\n",
              "           0.33634,     0.33734,     0.33834,     0.33934,     0.34034,     0.34134,     0.34234,     0.34334,     0.34434,     0.34535,     0.34635,     0.34735,     0.34835,     0.34935,     0.35035,     0.35135,     0.35235,     0.35335,     0.35435,     0.35536,     0.35636,     0.35736,     0.35836,     0.35936,\n",
              "           0.36036,     0.36136,     0.36236,     0.36336,     0.36436,     0.36537,     0.36637,     0.36737,     0.36837,     0.36937,     0.37037,     0.37137,     0.37237,     0.37337,     0.37437,     0.37538,     0.37638,     0.37738,     0.37838,     0.37938,     0.38038,     0.38138,     0.38238,     0.38338,\n",
              "           0.38438,     0.38539,     0.38639,     0.38739,     0.38839,     0.38939,     0.39039,     0.39139,     0.39239,     0.39339,     0.39439,      0.3954,      0.3964,      0.3974,      0.3984,      0.3994,      0.4004,      0.4014,      0.4024,      0.4034,      0.4044,     0.40541,     0.40641,     0.40741,\n",
              "           0.40841,     0.40941,     0.41041,     0.41141,     0.41241,     0.41341,     0.41441,     0.41542,     0.41642,     0.41742,     0.41842,     0.41942,     0.42042,     0.42142,     0.42242,     0.42342,     0.42442,     0.42543,     0.42643,     0.42743,     0.42843,     0.42943,     0.43043,     0.43143,\n",
              "           0.43243,     0.43343,     0.43443,     0.43544,     0.43644,     0.43744,     0.43844,     0.43944,     0.44044,     0.44144,     0.44244,     0.44344,     0.44444,     0.44545,     0.44645,     0.44745,     0.44845,     0.44945,     0.45045,     0.45145,     0.45245,     0.45345,     0.45445,     0.45546,\n",
              "           0.45646,     0.45746,     0.45846,     0.45946,     0.46046,     0.46146,     0.46246,     0.46346,     0.46446,     0.46547,     0.46647,     0.46747,     0.46847,     0.46947,     0.47047,     0.47147,     0.47247,     0.47347,     0.47447,     0.47548,     0.47648,     0.47748,     0.47848,     0.47948,\n",
              "           0.48048,     0.48148,     0.48248,     0.48348,     0.48448,     0.48549,     0.48649,     0.48749,     0.48849,     0.48949,     0.49049,     0.49149,     0.49249,     0.49349,     0.49449,      0.4955,      0.4965,      0.4975,      0.4985,      0.4995,      0.5005,      0.5015,      0.5025,      0.5035,\n",
              "            0.5045,     0.50551,     0.50651,     0.50751,     0.50851,     0.50951,     0.51051,     0.51151,     0.51251,     0.51351,     0.51451,     0.51552,     0.51652,     0.51752,     0.51852,     0.51952,     0.52052,     0.52152,     0.52252,     0.52352,     0.52452,     0.52553,     0.52653,     0.52753,\n",
              "           0.52853,     0.52953,     0.53053,     0.53153,     0.53253,     0.53353,     0.53453,     0.53554,     0.53654,     0.53754,     0.53854,     0.53954,     0.54054,     0.54154,     0.54254,     0.54354,     0.54454,     0.54555,     0.54655,     0.54755,     0.54855,     0.54955,     0.55055,     0.55155,\n",
              "           0.55255,     0.55355,     0.55455,     0.55556,     0.55656,     0.55756,     0.55856,     0.55956,     0.56056,     0.56156,     0.56256,     0.56356,     0.56456,     0.56557,     0.56657,     0.56757,     0.56857,     0.56957,     0.57057,     0.57157,     0.57257,     0.57357,     0.57457,     0.57558,\n",
              "           0.57658,     0.57758,     0.57858,     0.57958,     0.58058,     0.58158,     0.58258,     0.58358,     0.58458,     0.58559,     0.58659,     0.58759,     0.58859,     0.58959,     0.59059,     0.59159,     0.59259,     0.59359,     0.59459,      0.5956,      0.5966,      0.5976,      0.5986,      0.5996,\n",
              "            0.6006,      0.6016,      0.6026,      0.6036,      0.6046,     0.60561,     0.60661,     0.60761,     0.60861,     0.60961,     0.61061,     0.61161,     0.61261,     0.61361,     0.61461,     0.61562,     0.61662,     0.61762,     0.61862,     0.61962,     0.62062,     0.62162,     0.62262,     0.62362,\n",
              "           0.62462,     0.62563,     0.62663,     0.62763,     0.62863,     0.62963,     0.63063,     0.63163,     0.63263,     0.63363,     0.63463,     0.63564,     0.63664,     0.63764,     0.63864,     0.63964,     0.64064,     0.64164,     0.64264,     0.64364,     0.64464,     0.64565,     0.64665,     0.64765,\n",
              "           0.64865,     0.64965,     0.65065,     0.65165,     0.65265,     0.65365,     0.65465,     0.65566,     0.65666,     0.65766,     0.65866,     0.65966,     0.66066,     0.66166,     0.66266,     0.66366,     0.66466,     0.66567,     0.66667,     0.66767,     0.66867,     0.66967,     0.67067,     0.67167,\n",
              "           0.67267,     0.67367,     0.67467,     0.67568,     0.67668,     0.67768,     0.67868,     0.67968,     0.68068,     0.68168,     0.68268,     0.68368,     0.68468,     0.68569,     0.68669,     0.68769,     0.68869,     0.68969,     0.69069,     0.69169,     0.69269,     0.69369,     0.69469,      0.6957,\n",
              "            0.6967,      0.6977,      0.6987,      0.6997,      0.7007,      0.7017,      0.7027,      0.7037,      0.7047,     0.70571,     0.70671,     0.70771,     0.70871,     0.70971,     0.71071,     0.71171,     0.71271,     0.71371,     0.71471,     0.71572,     0.71672,     0.71772,     0.71872,     0.71972,\n",
              "           0.72072,     0.72172,     0.72272,     0.72372,     0.72472,     0.72573,     0.72673,     0.72773,     0.72873,     0.72973,     0.73073,     0.73173,     0.73273,     0.73373,     0.73473,     0.73574,     0.73674,     0.73774,     0.73874,     0.73974,     0.74074,     0.74174,     0.74274,     0.74374,\n",
              "           0.74474,     0.74575,     0.74675,     0.74775,     0.74875,     0.74975,     0.75075,     0.75175,     0.75275,     0.75375,     0.75475,     0.75576,     0.75676,     0.75776,     0.75876,     0.75976,     0.76076,     0.76176,     0.76276,     0.76376,     0.76476,     0.76577,     0.76677,     0.76777,\n",
              "           0.76877,     0.76977,     0.77077,     0.77177,     0.77277,     0.77377,     0.77477,     0.77578,     0.77678,     0.77778,     0.77878,     0.77978,     0.78078,     0.78178,     0.78278,     0.78378,     0.78478,     0.78579,     0.78679,     0.78779,     0.78879,     0.78979,     0.79079,     0.79179,\n",
              "           0.79279,     0.79379,     0.79479,      0.7958,      0.7968,      0.7978,      0.7988,      0.7998,      0.8008,      0.8018,      0.8028,      0.8038,      0.8048,     0.80581,     0.80681,     0.80781,     0.80881,     0.80981,     0.81081,     0.81181,     0.81281,     0.81381,     0.81481,     0.81582,\n",
              "           0.81682,     0.81782,     0.81882,     0.81982,     0.82082,     0.82182,     0.82282,     0.82382,     0.82482,     0.82583,     0.82683,     0.82783,     0.82883,     0.82983,     0.83083,     0.83183,     0.83283,     0.83383,     0.83483,     0.83584,     0.83684,     0.83784,     0.83884,     0.83984,\n",
              "           0.84084,     0.84184,     0.84284,     0.84384,     0.84484,     0.84585,     0.84685,     0.84785,     0.84885,     0.84985,     0.85085,     0.85185,     0.85285,     0.85385,     0.85485,     0.85586,     0.85686,     0.85786,     0.85886,     0.85986,     0.86086,     0.86186,     0.86286,     0.86386,\n",
              "           0.86486,     0.86587,     0.86687,     0.86787,     0.86887,     0.86987,     0.87087,     0.87187,     0.87287,     0.87387,     0.87487,     0.87588,     0.87688,     0.87788,     0.87888,     0.87988,     0.88088,     0.88188,     0.88288,     0.88388,     0.88488,     0.88589,     0.88689,     0.88789,\n",
              "           0.88889,     0.88989,     0.89089,     0.89189,     0.89289,     0.89389,     0.89489,      0.8959,      0.8969,      0.8979,      0.8989,      0.8999,      0.9009,      0.9019,      0.9029,      0.9039,      0.9049,     0.90591,     0.90691,     0.90791,     0.90891,     0.90991,     0.91091,     0.91191,\n",
              "           0.91291,     0.91391,     0.91491,     0.91592,     0.91692,     0.91792,     0.91892,     0.91992,     0.92092,     0.92192,     0.92292,     0.92392,     0.92492,     0.92593,     0.92693,     0.92793,     0.92893,     0.92993,     0.93093,     0.93193,     0.93293,     0.93393,     0.93493,     0.93594,\n",
              "           0.93694,     0.93794,     0.93894,     0.93994,     0.94094,     0.94194,     0.94294,     0.94394,     0.94494,     0.94595,     0.94695,     0.94795,     0.94895,     0.94995,     0.95095,     0.95195,     0.95295,     0.95395,     0.95495,     0.95596,     0.95696,     0.95796,     0.95896,     0.95996,\n",
              "           0.96096,     0.96196,     0.96296,     0.96396,     0.96496,     0.96597,     0.96697,     0.96797,     0.96897,     0.96997,     0.97097,     0.97197,     0.97297,     0.97397,     0.97497,     0.97598,     0.97698,     0.97798,     0.97898,     0.97998,     0.98098,     0.98198,     0.98298,     0.98398,\n",
              "           0.98498,     0.98599,     0.98699,     0.98799,     0.98899,     0.98999,     0.99099,     0.99199,     0.99299,     0.99399,     0.99499,       0.996,       0.997,       0.998,       0.999,           1]), array([[    0.95881,     0.95881,     0.95881,     0.95881,     0.95881,     0.95881,     0.95652,     0.95652,     0.95652,     0.95652,     0.95652,     0.95423,     0.95195,     0.94737,     0.94737,     0.94737,     0.94737,     0.94279,     0.94279,     0.94279,     0.94279,     0.93822,     0.93593,\n",
              "            0.93593,     0.93593,     0.93364,     0.93135,     0.93135,     0.93135,     0.93135,     0.93135,     0.92906,     0.92906,     0.92906,     0.92906,     0.92906,     0.92906,     0.92906,     0.92906,     0.92906,     0.92677,     0.92677,     0.92345,      0.9222,      0.9222,      0.9222,\n",
              "            0.91991,     0.91991,     0.91762,     0.91762,     0.91762,     0.91762,     0.91533,     0.91533,     0.91304,     0.91304,     0.91304,     0.91076,     0.91076,     0.90847,     0.90847,     0.90618,     0.90618,     0.90618,     0.90618,     0.90618,     0.90618,     0.90618,     0.90618,\n",
              "            0.90618,     0.90617,      0.9016,     0.89931,     0.89931,     0.89931,     0.89931,     0.89931,     0.89931,     0.89703,     0.89703,     0.89474,     0.89474,     0.89474,     0.89474,     0.89474,     0.89474,     0.89474,     0.89474,     0.89379,     0.89245,     0.89245,     0.89245,\n",
              "            0.89207,     0.89016,     0.89016,     0.89016,     0.89016,     0.89016,     0.89016,     0.88787,     0.88787,     0.88787,     0.88787,     0.88787,     0.88787,     0.88787,     0.88787,     0.88787,     0.88787,     0.88558,     0.88558,     0.88558,      0.8833,      0.8833,      0.8833,\n",
              "             0.8833,     0.87872,     0.87872,     0.87872,     0.87687,     0.87414,     0.87414,     0.87414,     0.87308,     0.87185,     0.87185,      0.8716,     0.86728,     0.86728,     0.86728,     0.86728,     0.86728,     0.86728,     0.86728,     0.86728,     0.86728,     0.86728,     0.86728,\n",
              "            0.86728,     0.86728,     0.86728,     0.86728,     0.86728,     0.86728,     0.86728,     0.86728,     0.86728,     0.86728,     0.86728,     0.86728,     0.86728,       0.862,     0.86041,     0.86041,     0.86041,     0.85812,     0.85812,     0.85812,     0.85812,     0.85812,     0.85812,\n",
              "            0.85664,     0.85584,     0.85584,      0.8556,     0.85456,     0.85355,     0.85355,     0.85355,     0.85225,     0.84897,     0.84668,     0.84648,     0.84439,     0.84439,     0.84439,     0.84426,     0.84211,     0.84211,     0.84211,     0.84211,     0.84211,     0.84211,     0.84211,\n",
              "            0.84211,     0.84211,     0.84211,     0.83982,     0.83982,     0.83982,     0.83982,     0.83982,     0.83982,     0.83982,     0.83982,     0.83982,     0.83982,     0.83982,     0.83753,     0.83753,     0.83753,     0.83753,     0.83753,     0.83753,     0.83753,      0.8371,      0.8354,\n",
              "            0.83183,     0.83066,     0.83066,      0.8298,     0.82863,     0.82838,     0.82838,     0.82838,     0.82753,     0.82552,      0.8238,      0.8238,      0.8238,      0.8238,     0.82336,      0.8225,     0.82165,     0.82151,     0.82151,     0.82151,     0.82151,     0.82151,     0.82151,\n",
              "            0.82151,     0.82151,     0.82151,     0.81859,     0.81517,     0.81216,     0.81059,     0.81007,     0.81007,     0.81007,     0.81007,     0.81007,     0.81007,     0.81007,     0.81007,     0.81007,     0.81007,     0.81007,     0.81007,     0.81007,     0.81007,     0.81007,     0.81007,\n",
              "            0.81007,     0.81007,     0.81007,     0.81007,     0.81007,     0.80778,     0.80707,     0.80243,     0.80087,     0.79953,     0.79405,     0.79405,     0.79405,     0.79405,     0.79405,     0.79405,     0.79405,     0.79405,     0.79326,     0.79221,     0.79176,     0.79176,     0.79134,\n",
              "            0.79084,     0.79035,     0.78986,     0.78912,     0.78756,     0.78676,     0.78621,     0.78566,     0.78511,      0.7849,      0.7849,      0.7849,      0.7849,      0.7849,      0.7849,      0.7849,      0.7849,      0.7849,      0.7849,      0.7849,      0.7849,      0.7849,      0.7849,\n",
              "            0.78475,     0.78407,      0.7834,     0.78273,     0.78261,     0.78261,     0.78261,     0.78261,     0.78261,     0.78261,     0.78261,     0.78261,     0.78261,     0.78217,     0.78162,     0.78107,     0.78052,     0.78032,     0.78032,     0.78032,     0.77979,     0.77803,     0.77803,\n",
              "            0.77803,     0.77803,     0.77803,     0.77797,     0.77753,     0.77708,     0.77663,     0.77619,     0.77573,     0.77439,     0.77251,     0.77117,     0.76931,     0.76888,     0.76888,     0.76766,     0.76659,     0.76659,     0.76659,     0.76659,     0.76659,      0.7664,     0.76421,\n",
              "            0.76336,     0.76251,     0.76201,      0.7612,     0.76003,     0.75744,     0.75744,     0.75744,     0.75744,     0.75744,      0.7573,     0.75692,     0.75655,     0.75617,      0.7558,     0.75542,      0.7545,     0.75246,     0.75112,     0.74918,     0.74454,     0.74371,     0.74371,\n",
              "            0.74371,     0.74142,     0.74142,     0.74142,     0.73887,     0.73802,     0.73717,     0.73403,     0.73317,     0.73232,     0.73227,     0.73227,     0.73226,      0.7314,     0.73055,     0.72998,     0.72998,     0.72966,      0.7288,     0.72795,      0.7254,     0.72311,     0.72288,\n",
              "            0.72257,     0.72225,     0.72194,     0.72163,     0.72132,       0.721,     0.71854,     0.71838,     0.71803,     0.71768,     0.71734,     0.71699,     0.71664,     0.71629,     0.71551,     0.71466,     0.71382,     0.71304,     0.71225,     0.71158,     0.71123,     0.71089,     0.71054,\n",
              "            0.71019,     0.70984,      0.7095,     0.70781,     0.70547,     0.70481,     0.70481,     0.70481,     0.70481,     0.70211,     0.70162,     0.70113,     0.70063,      0.6998,     0.69794,     0.69794,     0.69774,     0.69696,     0.69618,     0.69537,     0.69452,     0.69367,     0.69336,\n",
              "            0.69336,     0.69336,     0.69168,     0.68705,      0.6859,     0.68512,     0.68434,     0.68393,     0.68359,     0.68326,     0.68292,     0.68259,     0.68225,     0.67961,     0.67734,      0.6771,     0.67686,     0.67662,     0.67637,     0.67613,     0.67589,     0.67565,     0.67541,\n",
              "            0.67517,     0.67465,     0.67387,     0.67308,     0.67137,     0.66902,     0.66668,     0.66309,     0.66231,     0.66153,     0.66046,     0.65928,     0.65718,     0.65579,     0.65462,     0.65446,     0.65446,     0.65446,     0.65336,     0.65219,     0.64989,      0.6498,     0.64746,\n",
              "            0.64531,     0.64531,     0.64523,     0.64464,     0.64406,     0.64347,     0.64073,     0.63844,     0.63844,     0.63844,     0.63844,     0.63844,     0.63832,     0.63798,     0.63765,     0.63731,     0.63698,     0.63664,     0.63631,     0.63573,     0.63494,     0.63416,     0.63158,\n",
              "            0.63158,     0.62772,     0.62659,     0.62601,     0.62542,     0.62484,     0.62409,     0.62331,     0.62253,     0.62039,     0.61909,     0.61792,     0.61741,     0.61694,     0.61647,       0.616,     0.61542,     0.61317,       0.612,      0.6087,      0.6087,      0.6087,      0.6087,\n",
              "             0.6087,      0.6087,      0.6087,     0.60852,     0.60793,     0.60734,     0.60676,     0.60546,     0.60392,     0.60345,     0.60298,     0.60251,     0.60204,      0.6014,     0.60062,     0.59984,     0.59881,     0.59764,     0.59686,     0.59627,     0.59569,      0.5951,     0.59436,\n",
              "            0.59358,      0.5928,     0.58982,     0.58915,     0.58848,     0.58793,     0.58754,     0.58715,     0.58676,     0.58637,     0.58598,     0.58554,     0.58507,      0.5846,     0.58414,     0.58367,     0.57633,     0.57586,     0.57539,     0.57492,     0.57446,     0.57373,     0.57295,\n",
              "            0.57217,     0.56999,     0.56872,     0.56755,     0.56637,     0.56291,     0.56134,     0.56064,     0.56064,     0.55695,      0.5546,     0.55225,      0.5507,     0.54953,     0.54878,     0.54819,      0.5476,     0.54702,      0.5427,     0.54189,     0.54137,     0.54085,     0.54033,\n",
              "            0.53983,     0.53936,     0.53889,     0.53843,     0.53796,     0.53708,     0.53591,       0.534,     0.53275,     0.53208,     0.53141,     0.53085,     0.53069,     0.53053,     0.53037,     0.53021,     0.53005,     0.52988,     0.52972,     0.52956,      0.5294,     0.52924,     0.52908,\n",
              "            0.52891,     0.52875,     0.52856,     0.52804,     0.52752,     0.52699,     0.52647,     0.52468,     0.52233,     0.51875,     0.51781,     0.51644,     0.51448,     0.51331,     0.51169,     0.50966,      0.5081,      0.5058,     0.50287,     0.50228,     0.50169,     0.50113,     0.50087,\n",
              "            0.50061,     0.50035,     0.50008,     0.49982,     0.49956,      0.4993,     0.49904,     0.49871,     0.49819,     0.49767,     0.49714,     0.49662,     0.49218,     0.49138,     0.49071,     0.49003,     0.48694,       0.486,     0.48497,     0.48284,     0.48284,     0.48251,     0.47979,\n",
              "            0.47773,     0.47695,     0.47617,     0.47023,     0.46877,      0.4676,     0.46669,      0.4663,     0.46591,     0.46552,     0.46513,     0.46473,     0.46341,     0.45993,     0.45876,      0.4576,     0.45667,     0.45573,     0.45391,     0.45265,     0.45198,     0.45131,     0.44969,\n",
              "            0.44676,      0.4455,     0.44456,     0.44086,     0.43852,     0.43528,     0.42916,     0.42798,     0.42644,     0.42535,     0.42476,     0.42417,     0.42359,      0.4228,     0.42186,     0.42089,     0.41972,     0.41618,     0.41462,     0.41249,     0.40944,     0.40877,      0.4081,\n",
              "            0.40743,     0.40707,     0.40678,     0.40649,     0.40619,      0.4059,     0.40561,     0.40532,     0.40268,     0.40112,     0.39978,     0.39861,     0.39743,     0.39626,     0.39525,     0.39431,     0.39341,     0.39263,     0.39184,     0.39116,     0.39069,     0.39022,     0.38975,\n",
              "            0.38928,     0.38868,      0.3879,     0.38711,     0.38365,     0.37966,     0.37627,     0.37438,     0.37282,     0.37125,     0.36969,     0.36813,     0.36656,       0.365,     0.36115,     0.35958,     0.35802,     0.35682,     0.35635,     0.35588,     0.35541,     0.35495,     0.35398,\n",
              "            0.35241,      0.3478,     0.34623,     0.34467,      0.3409,     0.34023,     0.33956,     0.33889,     0.33761,     0.33538,     0.33125,     0.32829,     0.32434,     0.32356,     0.32277,     0.32209,     0.32142,     0.32075,     0.31604,     0.31516,     0.31449,     0.31382,     0.30997,\n",
              "            0.30827,      0.3071,     0.30607,     0.30513,     0.30196,     0.30138,     0.30079,      0.3002,     0.29952,     0.29859,     0.29765,     0.29619,     0.29486,     0.29392,     0.29298,      0.2896,     0.28618,       0.283,     0.28145,     0.28051,     0.27957,     0.27682,     0.27603,\n",
              "            0.27525,     0.27444,     0.27351,     0.27257,     0.27117,     0.26971,     0.26854,     0.26725,     0.26568,     0.26465,     0.26371,      0.2622,     0.26019,     0.25863,     0.25146,     0.25094,     0.25042,      0.2499,     0.24899,     0.24572,     0.24223,      0.2376,      0.2354,\n",
              "            0.23384,     0.23284,     0.23206,     0.23128,     0.22758,     0.22496,     0.21654,     0.21465,     0.21348,     0.20756,     0.20599,     0.20252,     0.20132,      0.1944,     0.18961,     0.18513,     0.18279,     0.17836,     0.17742,     0.17648,     0.17455,     0.17152,      0.1711,\n",
              "            0.17067,     0.17024,     0.16982,     0.16939,     0.16373,     0.16256,     0.15585,     0.15258,      0.1518,     0.14864,      0.1452,     0.14384,     0.14325,     0.14266,     0.14208,     0.14111,     0.13994,     0.13912,     0.13845,     0.13778,     0.13594,     0.13147,     0.12885,\n",
              "             0.1277,     0.12718,     0.12666,     0.12614,     0.12478,     0.12311,     0.12218,     0.11892,     0.11736,     0.11534,     0.11194,     0.11038,     0.10694,       0.106,     0.10475,     0.10297,    0.098919,    0.097668,     0.09673,    0.095792,    0.094854,    0.093915,    0.093558,\n",
              "           0.093264,    0.092971,    0.092678,    0.092385,    0.092092,    0.091798,     0.08917,    0.088389,    0.087607,    0.086759,    0.085586,    0.084328,    0.082765,    0.079384,    0.078446,    0.077508,    0.076569,    0.075631,    0.075172,    0.074781,    0.074391,       0.074,    0.073609,\n",
              "           0.073216,    0.072747,    0.072278,    0.071809,     0.07134,    0.070825,    0.070043,    0.069261,    0.068394,    0.067222,    0.066265,    0.065904,    0.065544,    0.065183,    0.064822,    0.064461,      0.0641,    0.063591,     0.06307,    0.062548,    0.062027,    0.061426,    0.060756,\n",
              "           0.060086,    0.059402,     0.05862,    0.057839,    0.056299,    0.045562,    0.044624,    0.043685,    0.043113,    0.042644,    0.042174,    0.041705,    0.041236,     0.03978,    0.038673,    0.038152,    0.037631,     0.03711,    0.031924,    0.029409,    0.026089,    0.023743,    0.020001,\n",
              "           0.019063,    0.015888,    0.015218,    0.014548,    0.013878,    0.013207,    0.012537,    0.011867,    0.008725,   0.0075522,   0.0058938,   0.0044738,   0.0042393,   0.0040047,   0.0037701,   0.0035356,    0.003301,   0.0030665,   0.0028319,   0.0025973,   0.0023628,           0,           0,\n",
              "                  0,           0,           0,           0,           0,           0,           0,           0,           0,           0,           0]]), 'Confidence', 'Recall']]\n",
              "fitness: 0.6499469928354086\n",
              "keys: ['metrics/precision(B)', 'metrics/recall(B)', 'metrics/mAP50(B)', 'metrics/mAP50-95(B)']\n",
              "maps: array([    0.62506])\n",
              "names: {0: 'person'}\n",
              "plot: True\n",
              "results_dict: {'metrics/precision(B)': 0.8655937854617982, 'metrics/recall(B)': 0.7810699378878138, 'metrics/mAP50(B)': 0.873929504084128, 'metrics/mAP50-95(B)': 0.6250600471411064, 'fitness': 0.6499469928354086}\n",
              "save_dir: PosixPath('runs/detect/train')\n",
              "speed: {'preprocess': 0.4871459234328497, 'inference': 3.709895270211356, 'loss': 0.0007379622686476935, 'postprocess': 8.176406224568685}\n",
              "task: 'detect'"
            ]
          },
          "metadata": {},
          "execution_count": 4
        }
      ]
    },
    {
      "cell_type": "code",
      "source": [
        "best_model_path = 'runs/train/exp/weights/best.pt'\n",
        "model.export(format='onnx')"
      ],
      "metadata": {
        "colab": {
          "base_uri": "https://localhost:8080/",
          "height": 851
        },
        "id": "azKPPxICzfWN",
        "outputId": "213fac21-936a-46fc-f7c0-689f1586755c"
      },
      "execution_count": null,
      "outputs": [
        {
          "output_type": "stream",
          "name": "stdout",
          "text": [
            "Ultralytics 8.3.41 🚀 Python-3.10.12 torch-2.5.1+cu121 CPU (Intel Xeon 2.00GHz)\n",
            "Model summary (fused): 168 layers, 3,005,843 parameters, 0 gradients, 8.1 GFLOPs\n",
            "\n",
            "\u001b[34m\u001b[1mPyTorch:\u001b[0m starting from 'runs/detect/train/weights/best.pt' with input shape (1, 3, 640, 640) BCHW and output shape(s) (1, 5, 8400) (6.0 MB)\n",
            "\u001b[31m\u001b[1mrequirements:\u001b[0m Ultralytics requirements ['onnx>=1.12.0', 'onnxslim', 'onnxruntime-gpu'] not found, attempting AutoUpdate...\n",
            "Collecting onnx>=1.12.0\n",
            "  Downloading onnx-1.17.0-cp310-cp310-manylinux_2_17_x86_64.manylinux2014_x86_64.whl.metadata (16 kB)\n",
            "Collecting onnxslim\n",
            "  Downloading onnxslim-0.1.42-py3-none-any.whl.metadata (4.2 kB)\n",
            "Collecting onnxruntime-gpu\n",
            "  Downloading onnxruntime_gpu-1.20.1-cp310-cp310-manylinux_2_27_x86_64.manylinux_2_28_x86_64.whl.metadata (4.5 kB)\n",
            "Requirement already satisfied: numpy>=1.20 in /usr/local/lib/python3.10/dist-packages (from onnx>=1.12.0) (1.26.4)\n",
            "Requirement already satisfied: protobuf>=3.20.2 in /usr/local/lib/python3.10/dist-packages (from onnx>=1.12.0) (4.25.5)\n",
            "Requirement already satisfied: sympy in /usr/local/lib/python3.10/dist-packages (from onnxslim) (1.13.1)\n",
            "Requirement already satisfied: packaging in /usr/local/lib/python3.10/dist-packages (from onnxslim) (24.2)\n",
            "Collecting coloredlogs (from onnxruntime-gpu)\n",
            "  Downloading coloredlogs-15.0.1-py2.py3-none-any.whl.metadata (12 kB)\n",
            "Requirement already satisfied: flatbuffers in /usr/local/lib/python3.10/dist-packages (from onnxruntime-gpu) (24.3.25)\n",
            "Collecting humanfriendly>=9.1 (from coloredlogs->onnxruntime-gpu)\n",
            "  Downloading humanfriendly-10.0-py2.py3-none-any.whl.metadata (9.2 kB)\n",
            "Requirement already satisfied: mpmath<1.4,>=1.1.0 in /usr/local/lib/python3.10/dist-packages (from sympy->onnxslim) (1.3.0)\n",
            "Downloading onnx-1.17.0-cp310-cp310-manylinux_2_17_x86_64.manylinux2014_x86_64.whl (16.0 MB)\n",
            "   ━━━━━━━━━━━━━━━━━━━━━━━━━━━━━━━━━━━━━━━━ 16.0/16.0 MB 43.4 MB/s eta 0:00:00\n",
            "Downloading onnxslim-0.1.42-py3-none-any.whl (142 kB)\n",
            "   ━━━━━━━━━━━━━━━━━━━━━━━━━━━━━━━━━━━━━━━━ 142.7/142.7 kB 25.4 MB/s eta 0:00:00\n",
            "Downloading onnxruntime_gpu-1.20.1-cp310-cp310-manylinux_2_27_x86_64.manylinux_2_28_x86_64.whl (291.5 MB)\n",
            "   ━━━━━━━━━━━━━━━━━━━━━━━━━━━━━━━━━━━━━━━━ 291.5/291.5 MB 78.3 MB/s eta 0:00:00\n",
            "Downloading coloredlogs-15.0.1-py2.py3-none-any.whl (46 kB)\n",
            "   ━━━━━━━━━━━━━━━━━━━━━━━━━━━━━━━━━━━━━━━━ 46.0/46.0 kB 153.9 MB/s eta 0:00:00\n",
            "Downloading humanfriendly-10.0-py2.py3-none-any.whl (86 kB)\n",
            "   ━━━━━━━━━━━━━━━━━━━━━━━━━━━━━━━━━━━━━━━━ 86.8/86.8 kB 179.4 MB/s eta 0:00:00\n",
            "Installing collected packages: onnx, humanfriendly, onnxslim, coloredlogs, onnxruntime-gpu\n",
            "Successfully installed coloredlogs-15.0.1 humanfriendly-10.0 onnx-1.17.0 onnxruntime-gpu-1.20.1 onnxslim-0.1.42\n",
            "\n",
            "\u001b[31m\u001b[1mrequirements:\u001b[0m AutoUpdate success ✅ 52.7s, installed 3 packages: ['onnx>=1.12.0', 'onnxslim', 'onnxruntime-gpu']\n",
            "\u001b[31m\u001b[1mrequirements:\u001b[0m ⚠️ \u001b[1mRestart runtime or rerun command for updates to take effect\u001b[0m\n",
            "\n",
            "\n",
            "\u001b[34m\u001b[1mONNX:\u001b[0m starting export with onnx 1.17.0 opset 19...\n",
            "\u001b[34m\u001b[1mONNX:\u001b[0m slimming with onnxslim 0.1.42...\n",
            "\u001b[34m\u001b[1mONNX:\u001b[0m export success ✅ 55.1s, saved as 'runs/detect/train/weights/best.onnx' (11.7 MB)\n",
            "\n",
            "Export complete (58.6s)\n",
            "Results saved to \u001b[1m/content/runs/detect/train/weights\u001b[0m\n",
            "Predict:         yolo predict task=detect model=runs/detect/train/weights/best.onnx imgsz=640  \n",
            "Validate:        yolo val task=detect model=runs/detect/train/weights/best.onnx imgsz=640 data=/content/vid1-1/data.yaml  \n",
            "Visualize:       https://netron.app\n"
          ]
        },
        {
          "output_type": "execute_result",
          "data": {
            "text/plain": [
              "'runs/detect/train/weights/best.onnx'"
            ],
            "application/vnd.google.colaboratory.intrinsic+json": {
              "type": "string"
            }
          },
          "metadata": {},
          "execution_count": 5
        }
      ]
    },
    {
      "cell_type": "code",
      "source": [
        "results = model.val(data='/content/vid1-1/data.yaml')\n",
        "print(results)"
      ],
      "metadata": {
        "colab": {
          "base_uri": "https://localhost:8080/"
        },
        "id": "WPpSC0FNztZS",
        "outputId": "f98ebe1b-409d-4c08-b4d4-8e028a9982b1"
      },
      "execution_count": null,
      "outputs": [
        {
          "output_type": "stream",
          "name": "stdout",
          "text": [
            "Ultralytics 8.3.41 🚀 Python-3.10.12 torch-2.5.1+cu121 CUDA:0 (Tesla T4, 15102MiB)\n",
            "Model summary (fused): 168 layers, 3,005,843 parameters, 0 gradients, 8.1 GFLOPs\n"
          ]
        },
        {
          "output_type": "stream",
          "name": "stderr",
          "text": [
            "\u001b[34m\u001b[1mval: \u001b[0mScanning /content/vid1-1/valid/labels.cache... 21 images, 0 backgrounds, 0 corrupt: 100%|██████████| 21/21 [00:00<?, ?it/s]\n",
            "                 Class     Images  Instances      Box(P          R      mAP50  mAP50-95): 100%|██████████| 2/2 [00:02<00:00,  1.07s/it]\n"
          ]
        },
        {
          "output_type": "stream",
          "name": "stdout",
          "text": [
            "                   all         21        437      0.866       0.78      0.874      0.624\n",
            "Speed: 0.3ms preprocess, 37.6ms inference, 0.0ms loss, 12.4ms postprocess per image\n",
            "Results saved to \u001b[1mruns/detect/train2\u001b[0m\n",
            "ultralytics.utils.metrics.DetMetrics object with attributes:\n",
            "\n",
            "ap_class_index: array([0])\n",
            "box: ultralytics.utils.metrics.Metric object\n",
            "confusion_matrix: <ultralytics.utils.metrics.ConfusionMatrix object at 0x78da986a3940>\n",
            "curves: ['Precision-Recall(B)', 'F1-Confidence(B)', 'Precision-Confidence(B)', 'Recall-Confidence(B)']\n",
            "curves_results: [[array([          0,    0.001001,    0.002002,    0.003003,    0.004004,    0.005005,    0.006006,    0.007007,    0.008008,    0.009009,     0.01001,    0.011011,    0.012012,    0.013013,    0.014014,    0.015015,    0.016016,    0.017017,    0.018018,    0.019019,     0.02002,    0.021021,    0.022022,    0.023023,\n",
            "          0.024024,    0.025025,    0.026026,    0.027027,    0.028028,    0.029029,     0.03003,    0.031031,    0.032032,    0.033033,    0.034034,    0.035035,    0.036036,    0.037037,    0.038038,    0.039039,     0.04004,    0.041041,    0.042042,    0.043043,    0.044044,    0.045045,    0.046046,    0.047047,\n",
            "          0.048048,    0.049049,     0.05005,    0.051051,    0.052052,    0.053053,    0.054054,    0.055055,    0.056056,    0.057057,    0.058058,    0.059059,     0.06006,    0.061061,    0.062062,    0.063063,    0.064064,    0.065065,    0.066066,    0.067067,    0.068068,    0.069069,     0.07007,    0.071071,\n",
            "          0.072072,    0.073073,    0.074074,    0.075075,    0.076076,    0.077077,    0.078078,    0.079079,     0.08008,    0.081081,    0.082082,    0.083083,    0.084084,    0.085085,    0.086086,    0.087087,    0.088088,    0.089089,     0.09009,    0.091091,    0.092092,    0.093093,    0.094094,    0.095095,\n",
            "          0.096096,    0.097097,    0.098098,    0.099099,      0.1001,      0.1011,      0.1021,      0.1031,      0.1041,     0.10511,     0.10611,     0.10711,     0.10811,     0.10911,     0.11011,     0.11111,     0.11211,     0.11311,     0.11411,     0.11512,     0.11612,     0.11712,     0.11812,     0.11912,\n",
            "           0.12012,     0.12112,     0.12212,     0.12312,     0.12412,     0.12513,     0.12613,     0.12713,     0.12813,     0.12913,     0.13013,     0.13113,     0.13213,     0.13313,     0.13413,     0.13514,     0.13614,     0.13714,     0.13814,     0.13914,     0.14014,     0.14114,     0.14214,     0.14314,\n",
            "           0.14414,     0.14515,     0.14615,     0.14715,     0.14815,     0.14915,     0.15015,     0.15115,     0.15215,     0.15315,     0.15415,     0.15516,     0.15616,     0.15716,     0.15816,     0.15916,     0.16016,     0.16116,     0.16216,     0.16316,     0.16416,     0.16517,     0.16617,     0.16717,\n",
            "           0.16817,     0.16917,     0.17017,     0.17117,     0.17217,     0.17317,     0.17417,     0.17518,     0.17618,     0.17718,     0.17818,     0.17918,     0.18018,     0.18118,     0.18218,     0.18318,     0.18418,     0.18519,     0.18619,     0.18719,     0.18819,     0.18919,     0.19019,     0.19119,\n",
            "           0.19219,     0.19319,     0.19419,      0.1952,      0.1962,      0.1972,      0.1982,      0.1992,      0.2002,      0.2012,      0.2022,      0.2032,      0.2042,     0.20521,     0.20621,     0.20721,     0.20821,     0.20921,     0.21021,     0.21121,     0.21221,     0.21321,     0.21421,     0.21522,\n",
            "           0.21622,     0.21722,     0.21822,     0.21922,     0.22022,     0.22122,     0.22222,     0.22322,     0.22422,     0.22523,     0.22623,     0.22723,     0.22823,     0.22923,     0.23023,     0.23123,     0.23223,     0.23323,     0.23423,     0.23524,     0.23624,     0.23724,     0.23824,     0.23924,\n",
            "           0.24024,     0.24124,     0.24224,     0.24324,     0.24424,     0.24525,     0.24625,     0.24725,     0.24825,     0.24925,     0.25025,     0.25125,     0.25225,     0.25325,     0.25425,     0.25526,     0.25626,     0.25726,     0.25826,     0.25926,     0.26026,     0.26126,     0.26226,     0.26326,\n",
            "           0.26426,     0.26527,     0.26627,     0.26727,     0.26827,     0.26927,     0.27027,     0.27127,     0.27227,     0.27327,     0.27427,     0.27528,     0.27628,     0.27728,     0.27828,     0.27928,     0.28028,     0.28128,     0.28228,     0.28328,     0.28428,     0.28529,     0.28629,     0.28729,\n",
            "           0.28829,     0.28929,     0.29029,     0.29129,     0.29229,     0.29329,     0.29429,      0.2953,      0.2963,      0.2973,      0.2983,      0.2993,      0.3003,      0.3013,      0.3023,      0.3033,      0.3043,     0.30531,     0.30631,     0.30731,     0.30831,     0.30931,     0.31031,     0.31131,\n",
            "           0.31231,     0.31331,     0.31431,     0.31532,     0.31632,     0.31732,     0.31832,     0.31932,     0.32032,     0.32132,     0.32232,     0.32332,     0.32432,     0.32533,     0.32633,     0.32733,     0.32833,     0.32933,     0.33033,     0.33133,     0.33233,     0.33333,     0.33433,     0.33534,\n",
            "           0.33634,     0.33734,     0.33834,     0.33934,     0.34034,     0.34134,     0.34234,     0.34334,     0.34434,     0.34535,     0.34635,     0.34735,     0.34835,     0.34935,     0.35035,     0.35135,     0.35235,     0.35335,     0.35435,     0.35536,     0.35636,     0.35736,     0.35836,     0.35936,\n",
            "           0.36036,     0.36136,     0.36236,     0.36336,     0.36436,     0.36537,     0.36637,     0.36737,     0.36837,     0.36937,     0.37037,     0.37137,     0.37237,     0.37337,     0.37437,     0.37538,     0.37638,     0.37738,     0.37838,     0.37938,     0.38038,     0.38138,     0.38238,     0.38338,\n",
            "           0.38438,     0.38539,     0.38639,     0.38739,     0.38839,     0.38939,     0.39039,     0.39139,     0.39239,     0.39339,     0.39439,      0.3954,      0.3964,      0.3974,      0.3984,      0.3994,      0.4004,      0.4014,      0.4024,      0.4034,      0.4044,     0.40541,     0.40641,     0.40741,\n",
            "           0.40841,     0.40941,     0.41041,     0.41141,     0.41241,     0.41341,     0.41441,     0.41542,     0.41642,     0.41742,     0.41842,     0.41942,     0.42042,     0.42142,     0.42242,     0.42342,     0.42442,     0.42543,     0.42643,     0.42743,     0.42843,     0.42943,     0.43043,     0.43143,\n",
            "           0.43243,     0.43343,     0.43443,     0.43544,     0.43644,     0.43744,     0.43844,     0.43944,     0.44044,     0.44144,     0.44244,     0.44344,     0.44444,     0.44545,     0.44645,     0.44745,     0.44845,     0.44945,     0.45045,     0.45145,     0.45245,     0.45345,     0.45445,     0.45546,\n",
            "           0.45646,     0.45746,     0.45846,     0.45946,     0.46046,     0.46146,     0.46246,     0.46346,     0.46446,     0.46547,     0.46647,     0.46747,     0.46847,     0.46947,     0.47047,     0.47147,     0.47247,     0.47347,     0.47447,     0.47548,     0.47648,     0.47748,     0.47848,     0.47948,\n",
            "           0.48048,     0.48148,     0.48248,     0.48348,     0.48448,     0.48549,     0.48649,     0.48749,     0.48849,     0.48949,     0.49049,     0.49149,     0.49249,     0.49349,     0.49449,      0.4955,      0.4965,      0.4975,      0.4985,      0.4995,      0.5005,      0.5015,      0.5025,      0.5035,\n",
            "            0.5045,     0.50551,     0.50651,     0.50751,     0.50851,     0.50951,     0.51051,     0.51151,     0.51251,     0.51351,     0.51451,     0.51552,     0.51652,     0.51752,     0.51852,     0.51952,     0.52052,     0.52152,     0.52252,     0.52352,     0.52452,     0.52553,     0.52653,     0.52753,\n",
            "           0.52853,     0.52953,     0.53053,     0.53153,     0.53253,     0.53353,     0.53453,     0.53554,     0.53654,     0.53754,     0.53854,     0.53954,     0.54054,     0.54154,     0.54254,     0.54354,     0.54454,     0.54555,     0.54655,     0.54755,     0.54855,     0.54955,     0.55055,     0.55155,\n",
            "           0.55255,     0.55355,     0.55455,     0.55556,     0.55656,     0.55756,     0.55856,     0.55956,     0.56056,     0.56156,     0.56256,     0.56356,     0.56456,     0.56557,     0.56657,     0.56757,     0.56857,     0.56957,     0.57057,     0.57157,     0.57257,     0.57357,     0.57457,     0.57558,\n",
            "           0.57658,     0.57758,     0.57858,     0.57958,     0.58058,     0.58158,     0.58258,     0.58358,     0.58458,     0.58559,     0.58659,     0.58759,     0.58859,     0.58959,     0.59059,     0.59159,     0.59259,     0.59359,     0.59459,      0.5956,      0.5966,      0.5976,      0.5986,      0.5996,\n",
            "            0.6006,      0.6016,      0.6026,      0.6036,      0.6046,     0.60561,     0.60661,     0.60761,     0.60861,     0.60961,     0.61061,     0.61161,     0.61261,     0.61361,     0.61461,     0.61562,     0.61662,     0.61762,     0.61862,     0.61962,     0.62062,     0.62162,     0.62262,     0.62362,\n",
            "           0.62462,     0.62563,     0.62663,     0.62763,     0.62863,     0.62963,     0.63063,     0.63163,     0.63263,     0.63363,     0.63463,     0.63564,     0.63664,     0.63764,     0.63864,     0.63964,     0.64064,     0.64164,     0.64264,     0.64364,     0.64464,     0.64565,     0.64665,     0.64765,\n",
            "           0.64865,     0.64965,     0.65065,     0.65165,     0.65265,     0.65365,     0.65465,     0.65566,     0.65666,     0.65766,     0.65866,     0.65966,     0.66066,     0.66166,     0.66266,     0.66366,     0.66466,     0.66567,     0.66667,     0.66767,     0.66867,     0.66967,     0.67067,     0.67167,\n",
            "           0.67267,     0.67367,     0.67467,     0.67568,     0.67668,     0.67768,     0.67868,     0.67968,     0.68068,     0.68168,     0.68268,     0.68368,     0.68468,     0.68569,     0.68669,     0.68769,     0.68869,     0.68969,     0.69069,     0.69169,     0.69269,     0.69369,     0.69469,      0.6957,\n",
            "            0.6967,      0.6977,      0.6987,      0.6997,      0.7007,      0.7017,      0.7027,      0.7037,      0.7047,     0.70571,     0.70671,     0.70771,     0.70871,     0.70971,     0.71071,     0.71171,     0.71271,     0.71371,     0.71471,     0.71572,     0.71672,     0.71772,     0.71872,     0.71972,\n",
            "           0.72072,     0.72172,     0.72272,     0.72372,     0.72472,     0.72573,     0.72673,     0.72773,     0.72873,     0.72973,     0.73073,     0.73173,     0.73273,     0.73373,     0.73473,     0.73574,     0.73674,     0.73774,     0.73874,     0.73974,     0.74074,     0.74174,     0.74274,     0.74374,\n",
            "           0.74474,     0.74575,     0.74675,     0.74775,     0.74875,     0.74975,     0.75075,     0.75175,     0.75275,     0.75375,     0.75475,     0.75576,     0.75676,     0.75776,     0.75876,     0.75976,     0.76076,     0.76176,     0.76276,     0.76376,     0.76476,     0.76577,     0.76677,     0.76777,\n",
            "           0.76877,     0.76977,     0.77077,     0.77177,     0.77277,     0.77377,     0.77477,     0.77578,     0.77678,     0.77778,     0.77878,     0.77978,     0.78078,     0.78178,     0.78278,     0.78378,     0.78478,     0.78579,     0.78679,     0.78779,     0.78879,     0.78979,     0.79079,     0.79179,\n",
            "           0.79279,     0.79379,     0.79479,      0.7958,      0.7968,      0.7978,      0.7988,      0.7998,      0.8008,      0.8018,      0.8028,      0.8038,      0.8048,     0.80581,     0.80681,     0.80781,     0.80881,     0.80981,     0.81081,     0.81181,     0.81281,     0.81381,     0.81481,     0.81582,\n",
            "           0.81682,     0.81782,     0.81882,     0.81982,     0.82082,     0.82182,     0.82282,     0.82382,     0.82482,     0.82583,     0.82683,     0.82783,     0.82883,     0.82983,     0.83083,     0.83183,     0.83283,     0.83383,     0.83483,     0.83584,     0.83684,     0.83784,     0.83884,     0.83984,\n",
            "           0.84084,     0.84184,     0.84284,     0.84384,     0.84484,     0.84585,     0.84685,     0.84785,     0.84885,     0.84985,     0.85085,     0.85185,     0.85285,     0.85385,     0.85485,     0.85586,     0.85686,     0.85786,     0.85886,     0.85986,     0.86086,     0.86186,     0.86286,     0.86386,\n",
            "           0.86486,     0.86587,     0.86687,     0.86787,     0.86887,     0.86987,     0.87087,     0.87187,     0.87287,     0.87387,     0.87487,     0.87588,     0.87688,     0.87788,     0.87888,     0.87988,     0.88088,     0.88188,     0.88288,     0.88388,     0.88488,     0.88589,     0.88689,     0.88789,\n",
            "           0.88889,     0.88989,     0.89089,     0.89189,     0.89289,     0.89389,     0.89489,      0.8959,      0.8969,      0.8979,      0.8989,      0.8999,      0.9009,      0.9019,      0.9029,      0.9039,      0.9049,     0.90591,     0.90691,     0.90791,     0.90891,     0.90991,     0.91091,     0.91191,\n",
            "           0.91291,     0.91391,     0.91491,     0.91592,     0.91692,     0.91792,     0.91892,     0.91992,     0.92092,     0.92192,     0.92292,     0.92392,     0.92492,     0.92593,     0.92693,     0.92793,     0.92893,     0.92993,     0.93093,     0.93193,     0.93293,     0.93393,     0.93493,     0.93594,\n",
            "           0.93694,     0.93794,     0.93894,     0.93994,     0.94094,     0.94194,     0.94294,     0.94394,     0.94494,     0.94595,     0.94695,     0.94795,     0.94895,     0.94995,     0.95095,     0.95195,     0.95295,     0.95395,     0.95495,     0.95596,     0.95696,     0.95796,     0.95896,     0.95996,\n",
            "           0.96096,     0.96196,     0.96296,     0.96396,     0.96496,     0.96597,     0.96697,     0.96797,     0.96897,     0.96997,     0.97097,     0.97197,     0.97297,     0.97397,     0.97497,     0.97598,     0.97698,     0.97798,     0.97898,     0.97998,     0.98098,     0.98198,     0.98298,     0.98398,\n",
            "           0.98498,     0.98599,     0.98699,     0.98799,     0.98899,     0.98999,     0.99099,     0.99199,     0.99299,     0.99399,     0.99499,       0.996,       0.997,       0.998,       0.999,           1]), array([[          1,           1,           1,           1,           1,           1,           1,           1,           1,           1,           1,           1,           1,           1,           1,           1,           1,           1,           1,           1,           1,           1,           1,\n",
            "                  1,           1,           1,           1,           1,           1,           1,           1,           1,           1,           1,           1,           1,           1,           1,           1,           1,           1,           1,           1,           1,           1,           1,\n",
            "                  1,           1,           1,           1,           1,           1,           1,           1,           1,           1,           1,           1,           1,           1,           1,           1,           1,           1,           1,           1,           1,           1,           1,\n",
            "                  1,           1,           1,           1,           1,           1,           1,           1,           1,           1,           1,           1,           1,           1,           1,           1,           1,           1,           1,           1,           1,           1,           1,\n",
            "                  1,           1,           1,           1,           1,           1,           1,           1,           1,           1,           1,     0.99237,     0.99237,     0.99237,     0.99237,     0.99237,     0.99237,     0.99237,     0.99237,     0.99237,     0.99237,     0.99237,     0.99237,\n",
            "            0.99237,     0.99237,     0.99237,     0.99237,     0.99237,     0.99237,     0.99237,     0.99237,     0.99237,     0.99237,     0.99237,     0.99237,     0.99237,     0.99237,     0.99237,     0.99237,     0.99237,     0.99237,     0.99237,     0.99237,     0.99237,     0.99237,     0.99237,\n",
            "            0.99237,     0.99237,     0.99237,     0.99237,     0.99237,     0.99237,     0.99237,     0.99237,     0.99237,     0.99237,     0.99237,     0.99237,     0.99237,     0.99237,     0.99237,     0.99237,     0.99237,     0.99237,     0.99237,     0.99237,     0.99237,     0.99237,     0.99237,\n",
            "            0.99237,     0.99237,     0.99237,     0.99237,     0.99237,     0.99237,     0.99237,     0.99237,     0.99237,     0.99237,     0.99237,     0.99237,     0.99237,     0.99237,     0.99237,     0.99237,     0.99237,     0.99237,     0.99237,     0.99237,     0.99237,     0.99237,     0.99237,\n",
            "            0.99237,     0.99237,     0.99237,     0.99237,     0.99237,     0.99237,     0.99237,     0.99237,     0.99237,     0.99237,     0.99237,     0.99237,     0.99237,     0.99237,     0.99237,     0.99237,     0.99237,     0.99237,     0.99237,     0.99237,     0.99237,     0.99237,     0.99237,\n",
            "            0.99237,     0.99237,     0.99237,     0.99237,     0.99237,     0.99237,     0.99237,     0.99237,     0.99237,     0.99237,     0.99237,     0.99237,     0.99237,     0.99237,     0.99237,     0.99237,     0.99237,     0.99237,     0.99237,     0.99237,     0.99237,     0.99237,     0.99237,\n",
            "            0.99237,     0.99237,     0.99237,     0.99237,     0.99237,     0.99237,     0.99237,     0.99237,     0.99237,     0.99237,     0.99237,     0.99237,     0.99237,     0.99237,     0.99237,     0.99237,     0.99237,     0.99237,     0.99237,     0.99237,     0.99237,     0.99237,     0.99237,\n",
            "            0.99237,     0.99237,     0.99237,     0.99237,     0.99237,     0.99237,     0.99237,     0.99237,     0.99237,     0.99237,     0.99237,     0.99237,     0.99237,     0.99237,     0.99237,     0.99237,     0.99237,     0.99237,     0.99237,     0.99237,     0.99237,     0.99237,     0.99237,\n",
            "            0.99237,     0.99237,     0.99237,     0.99237,     0.99237,     0.99237,     0.99237,     0.99237,     0.99237,     0.99237,     0.99237,     0.99237,     0.99237,     0.99237,     0.99237,     0.99237,     0.99237,     0.99237,     0.99237,     0.99237,     0.99237,     0.99237,     0.99061,\n",
            "            0.99061,     0.99061,     0.99061,     0.99061,     0.99061,     0.99061,     0.99061,     0.99061,     0.99061,     0.99061,     0.99061,     0.99061,     0.99061,     0.99061,     0.99061,     0.99061,     0.99061,     0.99061,     0.99061,     0.99061,     0.99061,     0.99061,     0.99061,\n",
            "            0.99061,     0.99061,     0.99061,     0.99061,     0.99061,     0.99061,     0.99061,     0.99061,     0.99061,     0.99061,     0.99061,     0.99061,     0.99061,     0.99061,     0.99061,     0.99061,     0.99061,     0.99061,     0.99061,     0.99061,     0.99061,     0.99061,     0.99061,\n",
            "            0.99061,     0.99061,     0.99061,     0.99061,     0.99061,     0.99061,     0.99061,     0.99061,     0.99061,     0.99061,     0.99061,     0.99061,     0.99061,     0.99061,     0.99061,     0.99061,     0.99061,     0.99061,     0.99061,     0.99061,     0.99061,     0.99061,     0.99061,\n",
            "            0.99061,     0.99061,     0.99061,     0.99061,     0.99061,     0.99061,     0.99061,     0.99061,     0.99061,     0.99061,     0.99061,     0.99061,     0.99061,     0.99061,     0.99061,     0.99061,     0.99061,     0.99061,     0.99061,     0.99061,     0.99061,     0.99061,     0.99061,\n",
            "            0.99061,     0.99061,     0.99061,     0.99061,     0.99061,     0.99061,     0.99061,     0.99061,     0.99061,     0.99061,     0.99061,     0.99061,     0.99061,     0.99061,     0.99061,     0.99061,     0.99061,     0.99061,     0.99061,     0.99061,     0.99061,     0.99061,     0.99061,\n",
            "            0.99061,     0.99061,     0.99061,     0.99061,     0.99061,     0.99061,     0.99061,     0.99061,     0.99061,     0.99061,     0.99061,     0.99061,     0.99061,     0.99061,     0.99061,     0.99061,     0.99061,     0.99061,     0.99061,     0.99061,     0.99061,     0.99061,     0.99061,\n",
            "            0.99061,     0.99061,     0.99061,     0.99061,     0.99061,     0.99061,     0.99061,     0.99061,     0.99061,     0.99061,     0.99061,     0.99061,     0.99061,     0.99061,     0.99061,     0.99061,     0.99061,     0.99061,     0.99061,     0.99061,     0.99061,     0.99061,     0.99061,\n",
            "            0.99061,     0.99061,     0.99061,     0.99061,     0.99061,     0.99061,     0.99061,     0.99061,     0.99061,     0.99061,     0.99061,     0.99061,     0.99061,     0.99061,     0.99061,     0.99061,     0.99061,     0.99061,     0.99061,     0.99061,     0.99061,     0.99061,     0.99061,\n",
            "             0.9879,      0.9879,      0.9879,      0.9879,      0.9879,      0.9879,      0.9879,      0.9879,      0.9879,      0.9879,      0.9879,      0.9879,      0.9879,      0.9879,      0.9879,      0.9879,      0.9879,      0.9879,      0.9879,      0.9879,      0.9879,      0.9879,      0.9879,\n",
            "             0.9879,      0.9879,      0.9879,      0.9879,      0.9879,      0.9879,      0.9879,      0.9879,      0.9879,      0.9879,      0.9879,      0.9879,      0.9879,      0.9879,      0.9879,      0.9879,      0.9879,      0.9879,      0.9879,      0.9879,      0.9879,      0.9879,      0.9879,\n",
            "             0.9879,      0.9879,      0.9879,      0.9879,      0.9879,      0.9879,      0.9879,      0.9879,      0.9879,      0.9879,      0.9879,      0.9879,      0.9879,      0.9879,      0.9879,      0.9879,      0.9879,      0.9879,      0.9879,      0.9879,      0.9879,      0.9879,      0.9879,\n",
            "             0.9879,      0.9879,      0.9879,      0.9879,      0.9879,      0.9879,      0.9879,      0.9879,      0.9879,       0.984,       0.984,     0.98016,     0.98016,     0.97794,     0.97794,     0.97794,     0.97794,     0.97794,     0.97794,     0.97794,     0.97794,     0.97794,     0.97794,\n",
            "            0.97794,     0.97794,     0.97794,     0.97794,     0.97794,     0.97794,     0.97794,     0.97794,     0.97794,     0.97794,     0.97794,     0.97794,     0.97794,     0.97794,     0.97794,     0.97794,     0.97794,     0.97794,     0.97794,     0.97794,     0.97794,     0.97794,     0.97794,\n",
            "            0.97794,     0.97794,     0.97794,     0.97794,     0.97794,     0.97794,     0.97794,     0.97794,     0.97794,     0.97794,     0.97794,     0.96739,     0.96739,     0.96491,     0.96491,     0.96491,     0.96491,     0.96491,     0.96491,     0.96491,     0.96491,     0.96491,     0.96491,\n",
            "            0.96491,     0.96491,     0.96491,     0.96491,     0.96491,     0.96491,     0.96491,     0.96491,     0.96167,     0.96167,     0.95848,     0.95848,     0.95848,     0.95254,     0.95254,     0.95254,     0.95254,     0.95254,     0.95254,     0.95254,     0.95254,     0.95254,     0.94631,\n",
            "            0.94631,     0.94333,     0.94333,      0.9404,      0.9404,      0.9404,      0.9377,      0.9377,      0.9377,      0.9377,     0.93519,     0.93519,     0.93519,     0.93519,     0.93519,     0.93519,     0.93519,     0.93519,     0.93519,     0.93519,     0.93519,     0.93519,     0.93519,\n",
            "            0.93519,     0.93519,     0.93519,     0.93519,     0.93519,     0.93519,     0.93519,     0.93519,     0.93519,     0.93519,     0.93519,     0.93519,     0.93519,     0.93519,     0.93519,     0.93519,     0.93519,     0.93519,     0.93519,     0.93519,     0.93519,     0.93519,     0.93519,\n",
            "            0.93519,     0.93519,     0.93519,     0.93272,     0.93272,     0.93272,     0.93272,     0.93272,     0.93051,     0.93051,     0.93051,     0.93051,     0.93051,     0.93051,     0.93051,     0.92793,     0.92793,     0.92537,     0.92537,      0.9233,      0.9233,      0.9233,      0.9233,\n",
            "             0.9233,      0.9233,      0.9233,     0.92082,     0.92082,     0.91884,     0.91884,     0.91884,     0.91884,     0.91884,     0.91884,     0.91884,     0.91643,     0.91643,     0.91143,     0.91143,     0.91143,     0.90652,     0.90652,         0.9,         0.9,         0.9,         0.9,\n",
            "                0.9,         0.9,         0.9,         0.9,         0.9,     0.89315,     0.89315,     0.89315,     0.89315,     0.89315,     0.89247,     0.89247,     0.89247,     0.89247,     0.89247,     0.89247,     0.89247,     0.89247,     0.89247,     0.89247,     0.89247,     0.89247,     0.89247,\n",
            "            0.88624,     0.88624,     0.88624,     0.88624,     0.88624,     0.88624,     0.88624,     0.88421,     0.88421,     0.88421,     0.88021,     0.88021,     0.88021,     0.88021,     0.87855,     0.87855,     0.87855,     0.87855,     0.87855,      0.8699,      0.8699,     0.86582,     0.86582,\n",
            "            0.85536,     0.85536,     0.85536,     0.84314,     0.84314,     0.83942,     0.83942,     0.83777,     0.83777,     0.83413,     0.83413,     0.83413,     0.82311,     0.82311,     0.82311,     0.82311,     0.82284,     0.82284,     0.82284,     0.82284,     0.82284,     0.82284,     0.82284,\n",
            "            0.82284,     0.82284,     0.82135,     0.82135,     0.82135,     0.80313,     0.80313,     0.80313,     0.80313,     0.80313,     0.80313,     0.80313,     0.80313,     0.80313,     0.80313,     0.80313,     0.78431,     0.78431,     0.78017,     0.78017,     0.78017,     0.78017,     0.78017,\n",
            "            0.77234,     0.77234,     0.77004,     0.77004,     0.77004,     0.77004,     0.77004,      0.7673,      0.7673,     0.75514,     0.75514,     0.74494,     0.74494,     0.74494,     0.72925,     0.72925,     0.71705,     0.71705,     0.71622,     0.71622,     0.71622,     0.71456,     0.71456,\n",
            "            0.71456,     0.71456,     0.71374,     0.71374,     0.70755,     0.70755,     0.70755,     0.70412,     0.70412,     0.69797,     0.69797,     0.69797,     0.69797,     0.69797,     0.69797,     0.69797,     0.66146,     0.66146,     0.66146,     0.66146,     0.65636,     0.65636,     0.65636,\n",
            "            0.64915,     0.64915,     0.64646,     0.64646,     0.64381,     0.64381,     0.64381,     0.64226,     0.64226,     0.63756,     0.63756,     0.63295,     0.63295,      0.6126,      0.6126,      0.6126,     0.59816,     0.59816,     0.58886,     0.58886,     0.56812,     0.56812,     0.56812,\n",
            "            0.56143,     0.56143,     0.54571,     0.54571,     0.54408,     0.54408,     0.54098,     0.54098,     0.54098,     0.51492,     0.51492,     0.50572,     0.50572,         0.5,         0.5,         0.5,       0.489,       0.489,     0.48372,     0.48372,     0.46744,     0.46744,     0.45743,\n",
            "            0.45743,     0.45743,     0.44057,     0.44057,     0.43974,     0.43974,       0.431,       0.431,       0.431,     0.37825,     0.37825,     0.34576,     0.34576,     0.34283,     0.34283,     0.31783,     0.31783,     0.31783,     0.31543,     0.31543,     0.31071,     0.31071,      0.3019,\n",
            "             0.3019,      0.3019,     0.26471,     0.26471,     0.26084,     0.26084,     0.22683,     0.22683,     0.22541,     0.22541,     0.22541,     0.21535,     0.21535,       0.203,       0.203,    0.099834,    0.099834,    0.099834,    0.065187,    0.063471,    0.061756,     0.06004,    0.058325,\n",
            "            0.05661,    0.054894,    0.053179,    0.051463,    0.049748,    0.048032,    0.046317,    0.044601,    0.042886,    0.041171,    0.039455,     0.03774,    0.036024,    0.034309,    0.032593,    0.030878,    0.029162,    0.027447,    0.025732,    0.024016,    0.022301,    0.020585,     0.01887,\n",
            "           0.017154,    0.015439,    0.013724,    0.012008,    0.010293,   0.0085772,   0.0068618,   0.0051463,   0.0034309,   0.0017154,           0]]), 'Recall', 'Precision'], [array([          0,    0.001001,    0.002002,    0.003003,    0.004004,    0.005005,    0.006006,    0.007007,    0.008008,    0.009009,     0.01001,    0.011011,    0.012012,    0.013013,    0.014014,    0.015015,    0.016016,    0.017017,    0.018018,    0.019019,     0.02002,    0.021021,    0.022022,    0.023023,\n",
            "          0.024024,    0.025025,    0.026026,    0.027027,    0.028028,    0.029029,     0.03003,    0.031031,    0.032032,    0.033033,    0.034034,    0.035035,    0.036036,    0.037037,    0.038038,    0.039039,     0.04004,    0.041041,    0.042042,    0.043043,    0.044044,    0.045045,    0.046046,    0.047047,\n",
            "          0.048048,    0.049049,     0.05005,    0.051051,    0.052052,    0.053053,    0.054054,    0.055055,    0.056056,    0.057057,    0.058058,    0.059059,     0.06006,    0.061061,    0.062062,    0.063063,    0.064064,    0.065065,    0.066066,    0.067067,    0.068068,    0.069069,     0.07007,    0.071071,\n",
            "          0.072072,    0.073073,    0.074074,    0.075075,    0.076076,    0.077077,    0.078078,    0.079079,     0.08008,    0.081081,    0.082082,    0.083083,    0.084084,    0.085085,    0.086086,    0.087087,    0.088088,    0.089089,     0.09009,    0.091091,    0.092092,    0.093093,    0.094094,    0.095095,\n",
            "          0.096096,    0.097097,    0.098098,    0.099099,      0.1001,      0.1011,      0.1021,      0.1031,      0.1041,     0.10511,     0.10611,     0.10711,     0.10811,     0.10911,     0.11011,     0.11111,     0.11211,     0.11311,     0.11411,     0.11512,     0.11612,     0.11712,     0.11812,     0.11912,\n",
            "           0.12012,     0.12112,     0.12212,     0.12312,     0.12412,     0.12513,     0.12613,     0.12713,     0.12813,     0.12913,     0.13013,     0.13113,     0.13213,     0.13313,     0.13413,     0.13514,     0.13614,     0.13714,     0.13814,     0.13914,     0.14014,     0.14114,     0.14214,     0.14314,\n",
            "           0.14414,     0.14515,     0.14615,     0.14715,     0.14815,     0.14915,     0.15015,     0.15115,     0.15215,     0.15315,     0.15415,     0.15516,     0.15616,     0.15716,     0.15816,     0.15916,     0.16016,     0.16116,     0.16216,     0.16316,     0.16416,     0.16517,     0.16617,     0.16717,\n",
            "           0.16817,     0.16917,     0.17017,     0.17117,     0.17217,     0.17317,     0.17417,     0.17518,     0.17618,     0.17718,     0.17818,     0.17918,     0.18018,     0.18118,     0.18218,     0.18318,     0.18418,     0.18519,     0.18619,     0.18719,     0.18819,     0.18919,     0.19019,     0.19119,\n",
            "           0.19219,     0.19319,     0.19419,      0.1952,      0.1962,      0.1972,      0.1982,      0.1992,      0.2002,      0.2012,      0.2022,      0.2032,      0.2042,     0.20521,     0.20621,     0.20721,     0.20821,     0.20921,     0.21021,     0.21121,     0.21221,     0.21321,     0.21421,     0.21522,\n",
            "           0.21622,     0.21722,     0.21822,     0.21922,     0.22022,     0.22122,     0.22222,     0.22322,     0.22422,     0.22523,     0.22623,     0.22723,     0.22823,     0.22923,     0.23023,     0.23123,     0.23223,     0.23323,     0.23423,     0.23524,     0.23624,     0.23724,     0.23824,     0.23924,\n",
            "           0.24024,     0.24124,     0.24224,     0.24324,     0.24424,     0.24525,     0.24625,     0.24725,     0.24825,     0.24925,     0.25025,     0.25125,     0.25225,     0.25325,     0.25425,     0.25526,     0.25626,     0.25726,     0.25826,     0.25926,     0.26026,     0.26126,     0.26226,     0.26326,\n",
            "           0.26426,     0.26527,     0.26627,     0.26727,     0.26827,     0.26927,     0.27027,     0.27127,     0.27227,     0.27327,     0.27427,     0.27528,     0.27628,     0.27728,     0.27828,     0.27928,     0.28028,     0.28128,     0.28228,     0.28328,     0.28428,     0.28529,     0.28629,     0.28729,\n",
            "           0.28829,     0.28929,     0.29029,     0.29129,     0.29229,     0.29329,     0.29429,      0.2953,      0.2963,      0.2973,      0.2983,      0.2993,      0.3003,      0.3013,      0.3023,      0.3033,      0.3043,     0.30531,     0.30631,     0.30731,     0.30831,     0.30931,     0.31031,     0.31131,\n",
            "           0.31231,     0.31331,     0.31431,     0.31532,     0.31632,     0.31732,     0.31832,     0.31932,     0.32032,     0.32132,     0.32232,     0.32332,     0.32432,     0.32533,     0.32633,     0.32733,     0.32833,     0.32933,     0.33033,     0.33133,     0.33233,     0.33333,     0.33433,     0.33534,\n",
            "           0.33634,     0.33734,     0.33834,     0.33934,     0.34034,     0.34134,     0.34234,     0.34334,     0.34434,     0.34535,     0.34635,     0.34735,     0.34835,     0.34935,     0.35035,     0.35135,     0.35235,     0.35335,     0.35435,     0.35536,     0.35636,     0.35736,     0.35836,     0.35936,\n",
            "           0.36036,     0.36136,     0.36236,     0.36336,     0.36436,     0.36537,     0.36637,     0.36737,     0.36837,     0.36937,     0.37037,     0.37137,     0.37237,     0.37337,     0.37437,     0.37538,     0.37638,     0.37738,     0.37838,     0.37938,     0.38038,     0.38138,     0.38238,     0.38338,\n",
            "           0.38438,     0.38539,     0.38639,     0.38739,     0.38839,     0.38939,     0.39039,     0.39139,     0.39239,     0.39339,     0.39439,      0.3954,      0.3964,      0.3974,      0.3984,      0.3994,      0.4004,      0.4014,      0.4024,      0.4034,      0.4044,     0.40541,     0.40641,     0.40741,\n",
            "           0.40841,     0.40941,     0.41041,     0.41141,     0.41241,     0.41341,     0.41441,     0.41542,     0.41642,     0.41742,     0.41842,     0.41942,     0.42042,     0.42142,     0.42242,     0.42342,     0.42442,     0.42543,     0.42643,     0.42743,     0.42843,     0.42943,     0.43043,     0.43143,\n",
            "           0.43243,     0.43343,     0.43443,     0.43544,     0.43644,     0.43744,     0.43844,     0.43944,     0.44044,     0.44144,     0.44244,     0.44344,     0.44444,     0.44545,     0.44645,     0.44745,     0.44845,     0.44945,     0.45045,     0.45145,     0.45245,     0.45345,     0.45445,     0.45546,\n",
            "           0.45646,     0.45746,     0.45846,     0.45946,     0.46046,     0.46146,     0.46246,     0.46346,     0.46446,     0.46547,     0.46647,     0.46747,     0.46847,     0.46947,     0.47047,     0.47147,     0.47247,     0.47347,     0.47447,     0.47548,     0.47648,     0.47748,     0.47848,     0.47948,\n",
            "           0.48048,     0.48148,     0.48248,     0.48348,     0.48448,     0.48549,     0.48649,     0.48749,     0.48849,     0.48949,     0.49049,     0.49149,     0.49249,     0.49349,     0.49449,      0.4955,      0.4965,      0.4975,      0.4985,      0.4995,      0.5005,      0.5015,      0.5025,      0.5035,\n",
            "            0.5045,     0.50551,     0.50651,     0.50751,     0.50851,     0.50951,     0.51051,     0.51151,     0.51251,     0.51351,     0.51451,     0.51552,     0.51652,     0.51752,     0.51852,     0.51952,     0.52052,     0.52152,     0.52252,     0.52352,     0.52452,     0.52553,     0.52653,     0.52753,\n",
            "           0.52853,     0.52953,     0.53053,     0.53153,     0.53253,     0.53353,     0.53453,     0.53554,     0.53654,     0.53754,     0.53854,     0.53954,     0.54054,     0.54154,     0.54254,     0.54354,     0.54454,     0.54555,     0.54655,     0.54755,     0.54855,     0.54955,     0.55055,     0.55155,\n",
            "           0.55255,     0.55355,     0.55455,     0.55556,     0.55656,     0.55756,     0.55856,     0.55956,     0.56056,     0.56156,     0.56256,     0.56356,     0.56456,     0.56557,     0.56657,     0.56757,     0.56857,     0.56957,     0.57057,     0.57157,     0.57257,     0.57357,     0.57457,     0.57558,\n",
            "           0.57658,     0.57758,     0.57858,     0.57958,     0.58058,     0.58158,     0.58258,     0.58358,     0.58458,     0.58559,     0.58659,     0.58759,     0.58859,     0.58959,     0.59059,     0.59159,     0.59259,     0.59359,     0.59459,      0.5956,      0.5966,      0.5976,      0.5986,      0.5996,\n",
            "            0.6006,      0.6016,      0.6026,      0.6036,      0.6046,     0.60561,     0.60661,     0.60761,     0.60861,     0.60961,     0.61061,     0.61161,     0.61261,     0.61361,     0.61461,     0.61562,     0.61662,     0.61762,     0.61862,     0.61962,     0.62062,     0.62162,     0.62262,     0.62362,\n",
            "           0.62462,     0.62563,     0.62663,     0.62763,     0.62863,     0.62963,     0.63063,     0.63163,     0.63263,     0.63363,     0.63463,     0.63564,     0.63664,     0.63764,     0.63864,     0.63964,     0.64064,     0.64164,     0.64264,     0.64364,     0.64464,     0.64565,     0.64665,     0.64765,\n",
            "           0.64865,     0.64965,     0.65065,     0.65165,     0.65265,     0.65365,     0.65465,     0.65566,     0.65666,     0.65766,     0.65866,     0.65966,     0.66066,     0.66166,     0.66266,     0.66366,     0.66466,     0.66567,     0.66667,     0.66767,     0.66867,     0.66967,     0.67067,     0.67167,\n",
            "           0.67267,     0.67367,     0.67467,     0.67568,     0.67668,     0.67768,     0.67868,     0.67968,     0.68068,     0.68168,     0.68268,     0.68368,     0.68468,     0.68569,     0.68669,     0.68769,     0.68869,     0.68969,     0.69069,     0.69169,     0.69269,     0.69369,     0.69469,      0.6957,\n",
            "            0.6967,      0.6977,      0.6987,      0.6997,      0.7007,      0.7017,      0.7027,      0.7037,      0.7047,     0.70571,     0.70671,     0.70771,     0.70871,     0.70971,     0.71071,     0.71171,     0.71271,     0.71371,     0.71471,     0.71572,     0.71672,     0.71772,     0.71872,     0.71972,\n",
            "           0.72072,     0.72172,     0.72272,     0.72372,     0.72472,     0.72573,     0.72673,     0.72773,     0.72873,     0.72973,     0.73073,     0.73173,     0.73273,     0.73373,     0.73473,     0.73574,     0.73674,     0.73774,     0.73874,     0.73974,     0.74074,     0.74174,     0.74274,     0.74374,\n",
            "           0.74474,     0.74575,     0.74675,     0.74775,     0.74875,     0.74975,     0.75075,     0.75175,     0.75275,     0.75375,     0.75475,     0.75576,     0.75676,     0.75776,     0.75876,     0.75976,     0.76076,     0.76176,     0.76276,     0.76376,     0.76476,     0.76577,     0.76677,     0.76777,\n",
            "           0.76877,     0.76977,     0.77077,     0.77177,     0.77277,     0.77377,     0.77477,     0.77578,     0.77678,     0.77778,     0.77878,     0.77978,     0.78078,     0.78178,     0.78278,     0.78378,     0.78478,     0.78579,     0.78679,     0.78779,     0.78879,     0.78979,     0.79079,     0.79179,\n",
            "           0.79279,     0.79379,     0.79479,      0.7958,      0.7968,      0.7978,      0.7988,      0.7998,      0.8008,      0.8018,      0.8028,      0.8038,      0.8048,     0.80581,     0.80681,     0.80781,     0.80881,     0.80981,     0.81081,     0.81181,     0.81281,     0.81381,     0.81481,     0.81582,\n",
            "           0.81682,     0.81782,     0.81882,     0.81982,     0.82082,     0.82182,     0.82282,     0.82382,     0.82482,     0.82583,     0.82683,     0.82783,     0.82883,     0.82983,     0.83083,     0.83183,     0.83283,     0.83383,     0.83483,     0.83584,     0.83684,     0.83784,     0.83884,     0.83984,\n",
            "           0.84084,     0.84184,     0.84284,     0.84384,     0.84484,     0.84585,     0.84685,     0.84785,     0.84885,     0.84985,     0.85085,     0.85185,     0.85285,     0.85385,     0.85485,     0.85586,     0.85686,     0.85786,     0.85886,     0.85986,     0.86086,     0.86186,     0.86286,     0.86386,\n",
            "           0.86486,     0.86587,     0.86687,     0.86787,     0.86887,     0.86987,     0.87087,     0.87187,     0.87287,     0.87387,     0.87487,     0.87588,     0.87688,     0.87788,     0.87888,     0.87988,     0.88088,     0.88188,     0.88288,     0.88388,     0.88488,     0.88589,     0.88689,     0.88789,\n",
            "           0.88889,     0.88989,     0.89089,     0.89189,     0.89289,     0.89389,     0.89489,      0.8959,      0.8969,      0.8979,      0.8989,      0.8999,      0.9009,      0.9019,      0.9029,      0.9039,      0.9049,     0.90591,     0.90691,     0.90791,     0.90891,     0.90991,     0.91091,     0.91191,\n",
            "           0.91291,     0.91391,     0.91491,     0.91592,     0.91692,     0.91792,     0.91892,     0.91992,     0.92092,     0.92192,     0.92292,     0.92392,     0.92492,     0.92593,     0.92693,     0.92793,     0.92893,     0.92993,     0.93093,     0.93193,     0.93293,     0.93393,     0.93493,     0.93594,\n",
            "           0.93694,     0.93794,     0.93894,     0.93994,     0.94094,     0.94194,     0.94294,     0.94394,     0.94494,     0.94595,     0.94695,     0.94795,     0.94895,     0.94995,     0.95095,     0.95195,     0.95295,     0.95395,     0.95495,     0.95596,     0.95696,     0.95796,     0.95896,     0.95996,\n",
            "           0.96096,     0.96196,     0.96296,     0.96396,     0.96496,     0.96597,     0.96697,     0.96797,     0.96897,     0.96997,     0.97097,     0.97197,     0.97297,     0.97397,     0.97497,     0.97598,     0.97698,     0.97798,     0.97898,     0.97998,     0.98098,     0.98198,     0.98298,     0.98398,\n",
            "           0.98498,     0.98599,     0.98699,     0.98799,     0.98899,     0.98999,     0.99099,     0.99199,     0.99299,     0.99399,     0.99499,       0.996,       0.997,       0.998,       0.999,           1]), array([[    0.12468,     0.12468,     0.12468,     0.12468,     0.12468,      0.1291,     0.18154,     0.24477,     0.27279,     0.29615,     0.31988,     0.34193,     0.35836,      0.3714,     0.38543,     0.39857,     0.41061,     0.42347,     0.43502,     0.44375,     0.45729,     0.46668,     0.47554,\n",
            "            0.48626,     0.49565,     0.50177,     0.50702,     0.51309,     0.51942,     0.52799,     0.53358,      0.5385,     0.54419,     0.55168,       0.557,      0.5618,     0.56802,     0.57462,     0.58086,     0.58521,     0.58926,     0.59222,     0.59636,      0.5998,     0.60322,     0.60975,\n",
            "            0.61321,     0.61565,     0.61886,     0.61899,     0.62253,     0.62764,     0.63306,     0.63622,     0.63778,     0.64145,     0.64452,     0.64729,     0.64949,     0.65001,     0.65302,     0.65713,     0.65786,     0.66252,     0.66391,     0.66715,     0.67025,     0.67315,     0.67396,\n",
            "            0.67623,     0.67705,     0.67882,     0.67982,     0.68257,     0.68537,       0.687,      0.6887,     0.69094,     0.69267,     0.69442,     0.69499,     0.69577,     0.69752,     0.69934,     0.70174,     0.70271,     0.70406,     0.70555,     0.70888,     0.70989,     0.71218,     0.71473,\n",
            "            0.71602,     0.71535,     0.71636,     0.71798,     0.71874,     0.72327,      0.7253,     0.72545,     0.72589,       0.728,      0.7294,     0.73054,     0.73198,     0.73304,      0.7334,     0.73534,     0.73604,     0.73801,     0.73819,     0.73986,     0.74092,     0.74098,     0.74205,\n",
            "            0.74356,     0.74323,     0.74349,     0.74408,     0.74533,      0.7449,     0.74595,     0.74746,     0.74974,     0.74912,     0.74855,     0.75012,     0.75095,     0.75016,     0.75135,     0.75261,     0.75423,     0.75704,     0.75752,     0.75781,     0.75824,     0.75892,     0.76188,\n",
            "            0.76295,     0.76437,     0.76507,     0.76787,     0.76825,     0.76852,      0.7693,     0.77052,     0.77098,     0.77133,     0.77163,     0.77204,     0.77331,     0.77055,     0.76978,     0.77044,     0.77191,     0.77433,     0.77353,      0.7741,     0.77445,     0.77481,     0.77533,\n",
            "            0.77487,     0.77544,     0.77715,     0.77832,     0.77766,     0.77714,     0.77756,     0.77768,     0.77637,     0.77664,     0.77586,     0.77565,     0.77699,     0.77802,     0.77954,     0.77998,     0.78219,      0.7828,     0.78315,     0.78339,     0.78363,     0.78427,     0.78721,\n",
            "            0.78836,     0.78949,     0.79022,     0.78935,     0.78974,     0.79017,       0.791,     0.79123,     0.79146,     0.79169,     0.79213,     0.79279,     0.79361,     0.79479,     0.79442,     0.79544,     0.79671,     0.79748,     0.79839,     0.79893,     0.79975,     0.80064,     0.79968,\n",
            "            0.79943,     0.79975,     0.80044,     0.79998,     0.79951,     0.79924,     0.80024,     0.80165,     0.80338,     0.80269,     0.80124,     0.80206,     0.80332,     0.80262,      0.8032,      0.8035,      0.8038,     0.80426,     0.80522,     0.80589,      0.8062,     0.80652,     0.80693,\n",
            "            0.80754,     0.81017,     0.81188,     0.80933,     0.80842,     0.80695,     0.80606,     0.80557,     0.80598,     0.80638,      0.8072,     0.80758,      0.8079,     0.80823,     0.80928,     0.80964,     0.81001,      0.8106,     0.81123,     0.81189,     0.81218,     0.81244,     0.81271,\n",
            "            0.81337,     0.81413,     0.81464,     0.81502,     0.81538,     0.81493,     0.81524,     0.81216,       0.811,     0.81045,      0.8099,     0.80871,     0.80844,     0.81006,     0.81274,     0.81295,     0.81315,     0.81336,     0.81357,     0.81291,     0.81234,     0.81325,     0.81379,\n",
            "            0.81287,     0.81336,     0.81331,     0.81233,     0.81419,     0.81391,     0.81362,     0.81333,     0.81304,     0.81283,     0.81301,     0.81318,     0.81336,     0.81354,     0.81372,     0.81414,     0.81463,     0.81497,     0.81526,     0.81556,     0.81622,     0.81725,     0.81783,\n",
            "            0.81813,     0.81842,     0.81844,     0.81794,     0.81745,     0.81748,     0.81801,      0.8194,     0.82063,      0.8213,     0.82154,     0.82178,     0.82201,     0.82191,     0.82157,     0.82122,     0.82087,     0.82082,     0.82107,     0.82132,     0.82156,     0.82145,     0.82232,\n",
            "            0.82279,     0.82336,     0.82499,     0.82507,     0.82482,     0.82457,     0.82432,     0.82407,     0.82382,     0.82275,     0.82299,     0.82113,     0.82177,     0.82215,     0.82251,     0.82153,     0.82117,     0.82135,     0.82152,      0.8217,     0.82187,     0.82205,     0.82036,\n",
            "            0.81991,     0.81947,     0.81821,     0.81908,      0.8196,     0.82069,     0.82039,        0.82,      0.8196,     0.81925,     0.81902,     0.81879,     0.81856,     0.81832,     0.81809,     0.81786,     0.81731,     0.81673,     0.81577,     0.81437,     0.81281,     0.81259,     0.81137,\n",
            "            0.81117,     0.81158,     0.81198,     0.81257,     0.81264,       0.811,     0.80975,     0.80879,     0.80799,     0.80724,     0.80787,     0.80937,     0.80986,     0.80975,      0.8089,     0.80886,     0.80923,      0.8096,     0.81021,     0.80946,     0.81102,     0.81066,     0.80906,\n",
            "            0.80885,     0.80864,     0.80842,     0.80821,     0.80799,     0.80778,     0.80659,     0.80572,     0.80587,     0.80602,     0.80617,     0.80632,     0.80647,     0.80662,      0.8065,     0.80607,     0.80563,      0.8052,     0.80365,      0.8034,     0.80319,     0.80297,     0.80275,\n",
            "            0.80254,     0.80232,      0.8021,     0.80237,     0.80236,     0.80114,     0.80135,     0.80157,     0.80179,     0.80201,     0.80078,     0.79942,     0.79827,     0.79744,     0.79772,       0.798,     0.79828,     0.79816,     0.79756,     0.79696,     0.79638,     0.79579,     0.79533,\n",
            "            0.79586,     0.79614,     0.79483,     0.79297,     0.79218,      0.7914,      0.7907,        0.79,     0.78966,     0.78934,     0.78902,      0.7887,     0.78838,     0.78686,     0.78573,     0.78506,     0.78487,     0.78468,     0.78449,      0.7843,     0.78411,     0.78392,     0.78373,\n",
            "            0.78354,     0.78304,     0.78254,     0.78203,     0.78079,     0.77902,     0.77589,     0.77503,     0.77451,     0.77399,     0.77334,     0.77258,     0.77144,     0.76963,     0.76928,     0.76998,     0.77041,     0.77085,     0.76927,     0.76815,     0.76796,     0.76796,     0.76758,\n",
            "            0.76639,     0.76677,     0.76716,     0.76696,     0.76623,      0.7659,     0.76733,     0.76604,     0.76568,     0.76533,     0.76497,     0.76461,     0.76428,       0.764,     0.76372,     0.76344,     0.76316,     0.76287,      0.7625,     0.76196,     0.76142,     0.76205,     0.76144,\n",
            "            0.76107,     0.76172,     0.75981,     0.75936,      0.7589,     0.75845,     0.75785,      0.7572,     0.75653,     0.75571,     0.75489,     0.75301,     0.75273,     0.75244,     0.75216,     0.75188,     0.75159,     0.74945,     0.74819,      0.7472,     0.74746,     0.74773,     0.74799,\n",
            "            0.74831,     0.74933,     0.74985,     0.75034,     0.74993,     0.74952,     0.74911,      0.7487,     0.74774,     0.74669,     0.74604,     0.74538,     0.74482,     0.74437,     0.74391,     0.74345,     0.74286,     0.74217,     0.74149,     0.74096,     0.74045,     0.73993,     0.73878,\n",
            "            0.73746,     0.73652,      0.7359,     0.73556,     0.73521,     0.73487,     0.73452,     0.73411,     0.73356,     0.73302,     0.73247,     0.73197,     0.73148,     0.73098,     0.72998,     0.72642,     0.72491,      0.7246,     0.72428,     0.72397,     0.72365,     0.72331,     0.72232,\n",
            "            0.72119,     0.71947,     0.71816,     0.71675,     0.71668,     0.71581,     0.71573,     0.71466,     0.71506,     0.71301,     0.71133,     0.70898,     0.70727,     0.70615,     0.70537,     0.70471,     0.70405,     0.70173,     0.70038,     0.69979,     0.69935,     0.69892,     0.69848,\n",
            "            0.69803,     0.69758,     0.69712,     0.69666,     0.69603,     0.69477,     0.69385,     0.69309,     0.69233,     0.69153,     0.69072,     0.69038,     0.69024,      0.6901,     0.68997,     0.68983,     0.68969,     0.68955,     0.68941,     0.68928,     0.68914,       0.689,     0.68886,\n",
            "            0.68872,     0.68858,     0.68829,     0.68789,     0.68748,     0.68707,     0.68666,     0.68519,     0.68318,     0.68077,     0.67938,     0.67808,     0.67683,     0.67523,     0.67345,     0.67216,     0.67126,     0.66923,     0.66649,     0.66591,     0.66533,     0.66475,     0.66441,\n",
            "            0.66413,     0.66384,     0.66356,     0.66327,     0.66299,      0.6627,     0.66236,     0.66198,      0.6616,     0.66122,     0.66084,      0.6581,     0.65638,     0.65578,     0.65517,     0.65456,     0.65266,     0.65159,     0.65069,     0.64947,     0.64835,      0.6491,     0.64727,\n",
            "            0.64555,       0.644,     0.64148,     0.63794,      0.6365,     0.63535,     0.63443,      0.6341,     0.63377,     0.63344,     0.63311,     0.63278,     0.63244,      0.6287,     0.62721,     0.62596,      0.6252,     0.62443,     0.62322,     0.62128,      0.6205,     0.61972,     0.61792,\n",
            "            0.61581,     0.61452,      0.6136,     0.61204,     0.60897,     0.60337,     0.59806,     0.59669,     0.59574,      0.5949,      0.5942,     0.59351,     0.59282,     0.59216,      0.5915,     0.59085,     0.58913,      0.5873,     0.58297,     0.57958,     0.57884,     0.57835,     0.57785,\n",
            "            0.57736,     0.57691,     0.57658,     0.57626,     0.57593,     0.57561,     0.57528,     0.57496,     0.57419,     0.57152,      0.5699,     0.56867,     0.56737,     0.56583,     0.56477,     0.56391,     0.56306,     0.56195,     0.56083,     0.56029,     0.55986,     0.55943,       0.559,\n",
            "            0.55856,     0.55798,     0.55716,     0.55634,     0.55382,      0.5485,     0.54585,     0.54385,     0.54265,     0.54054,     0.53809,     0.53695,      0.5359,     0.53487,      0.5291,     0.52751,      0.5245,     0.52401,     0.52364,     0.52326,     0.52289,     0.52252,     0.52215,\n",
            "            0.51877,     0.51476,     0.51207,     0.51036,     0.50832,     0.50631,      0.5052,     0.50405,     0.50277,     0.50134,     0.49916,     0.49279,     0.48844,     0.48738,     0.48633,     0.48547,     0.48463,     0.48379,     0.47822,     0.47745,     0.47668,     0.47591,     0.47208,\n",
            "            0.46966,     0.46871,     0.46777,     0.46659,     0.46539,     0.46192,     0.46107,     0.46022,      0.4591,     0.45743,     0.45732,     0.45607,     0.45484,     0.45374,     0.45264,     0.44619,     0.44278,      0.4404,     0.43944,     0.43842,     0.43558,     0.43321,     0.43198,\n",
            "             0.4309,     0.42983,     0.42877,     0.42772,     0.42444,     0.42329,     0.42214,     0.42103,     0.41993,     0.41883,     0.41661,     0.41418,     0.41188,     0.40893,     0.40274,     0.40086,     0.40006,     0.39925,     0.39784,     0.39404,     0.39042,     0.38624,     0.38385,\n",
            "            0.37919,     0.37701,     0.37603,     0.37505,     0.36832,     0.36572,     0.35702,     0.35324,      0.3514,     0.34736,      0.3418,     0.33613,      0.3333,     0.32733,     0.32319,     0.31204,     0.31033,     0.30456,     0.30112,     0.29942,     0.29707,     0.29214,     0.29155,\n",
            "            0.29095,     0.29036,     0.28976,     0.28917,      0.2812,     0.27427,     0.26489,      0.2638,     0.26271,     0.25817,     0.25576,     0.25146,     0.25047,     0.24948,     0.24849,      0.2466,     0.24424,     0.24323,     0.24221,     0.24119,     0.23796,     0.23231,     0.22952,\n",
            "            0.22609,     0.22525,      0.2244,     0.22356,       0.222,     0.21969,      0.2173,     0.21266,     0.20821,     0.20626,     0.20314,     0.19919,     0.19324,     0.19176,     0.19027,     0.18655,       0.179,     0.17764,     0.17628,     0.17476,     0.17294,     0.17144,     0.17096,\n",
            "            0.17048,        0.17,     0.16953,     0.16905,     0.16857,     0.16809,      0.1656,     0.16271,      0.1613,     0.15984,     0.15787,     0.15583,     0.15335,     0.14778,     0.14522,     0.14353,     0.14227,     0.14101,     0.14006,     0.13939,     0.13872,     0.13805,     0.13738,\n",
            "            0.13671,     0.13585,     0.13489,     0.13393,     0.13297,      0.1319,      0.1307,      0.1295,     0.12819,     0.12627,     0.12442,     0.12379,     0.12316,     0.12253,     0.12189,     0.12126,     0.12063,     0.11978,     0.11884,     0.11789,     0.11694,     0.11587,      0.1146,\n",
            "            0.11334,     0.11207,     0.11077,     0.10946,     0.10391,    0.087004,    0.085091,    0.083262,    0.082405,    0.081546,    0.080688,    0.079828,    0.078756,    0.076705,     0.07476,    0.073648,    0.072534,    0.071419,    0.064434,    0.058309,    0.050077,    0.046224,    0.039193,\n",
            "           0.037219,    0.031259,    0.030055,    0.028849,    0.027642,     0.02633,    0.024928,    0.023525,    0.017633,     0.01523,    0.011832,   0.0088872,   0.0084301,   0.0079729,   0.0075154,   0.0070578,   0.0065999,   0.0061418,   0.0056835,    0.005225,   0.0047663,           0,           0,\n",
            "                  0,           0,           0,           0,           0,           0,           0,           0,           0,           0,           0]]), 'Confidence', 'F1'], [array([          0,    0.001001,    0.002002,    0.003003,    0.004004,    0.005005,    0.006006,    0.007007,    0.008008,    0.009009,     0.01001,    0.011011,    0.012012,    0.013013,    0.014014,    0.015015,    0.016016,    0.017017,    0.018018,    0.019019,     0.02002,    0.021021,    0.022022,    0.023023,\n",
            "          0.024024,    0.025025,    0.026026,    0.027027,    0.028028,    0.029029,     0.03003,    0.031031,    0.032032,    0.033033,    0.034034,    0.035035,    0.036036,    0.037037,    0.038038,    0.039039,     0.04004,    0.041041,    0.042042,    0.043043,    0.044044,    0.045045,    0.046046,    0.047047,\n",
            "          0.048048,    0.049049,     0.05005,    0.051051,    0.052052,    0.053053,    0.054054,    0.055055,    0.056056,    0.057057,    0.058058,    0.059059,     0.06006,    0.061061,    0.062062,    0.063063,    0.064064,    0.065065,    0.066066,    0.067067,    0.068068,    0.069069,     0.07007,    0.071071,\n",
            "          0.072072,    0.073073,    0.074074,    0.075075,    0.076076,    0.077077,    0.078078,    0.079079,     0.08008,    0.081081,    0.082082,    0.083083,    0.084084,    0.085085,    0.086086,    0.087087,    0.088088,    0.089089,     0.09009,    0.091091,    0.092092,    0.093093,    0.094094,    0.095095,\n",
            "          0.096096,    0.097097,    0.098098,    0.099099,      0.1001,      0.1011,      0.1021,      0.1031,      0.1041,     0.10511,     0.10611,     0.10711,     0.10811,     0.10911,     0.11011,     0.11111,     0.11211,     0.11311,     0.11411,     0.11512,     0.11612,     0.11712,     0.11812,     0.11912,\n",
            "           0.12012,     0.12112,     0.12212,     0.12312,     0.12412,     0.12513,     0.12613,     0.12713,     0.12813,     0.12913,     0.13013,     0.13113,     0.13213,     0.13313,     0.13413,     0.13514,     0.13614,     0.13714,     0.13814,     0.13914,     0.14014,     0.14114,     0.14214,     0.14314,\n",
            "           0.14414,     0.14515,     0.14615,     0.14715,     0.14815,     0.14915,     0.15015,     0.15115,     0.15215,     0.15315,     0.15415,     0.15516,     0.15616,     0.15716,     0.15816,     0.15916,     0.16016,     0.16116,     0.16216,     0.16316,     0.16416,     0.16517,     0.16617,     0.16717,\n",
            "           0.16817,     0.16917,     0.17017,     0.17117,     0.17217,     0.17317,     0.17417,     0.17518,     0.17618,     0.17718,     0.17818,     0.17918,     0.18018,     0.18118,     0.18218,     0.18318,     0.18418,     0.18519,     0.18619,     0.18719,     0.18819,     0.18919,     0.19019,     0.19119,\n",
            "           0.19219,     0.19319,     0.19419,      0.1952,      0.1962,      0.1972,      0.1982,      0.1992,      0.2002,      0.2012,      0.2022,      0.2032,      0.2042,     0.20521,     0.20621,     0.20721,     0.20821,     0.20921,     0.21021,     0.21121,     0.21221,     0.21321,     0.21421,     0.21522,\n",
            "           0.21622,     0.21722,     0.21822,     0.21922,     0.22022,     0.22122,     0.22222,     0.22322,     0.22422,     0.22523,     0.22623,     0.22723,     0.22823,     0.22923,     0.23023,     0.23123,     0.23223,     0.23323,     0.23423,     0.23524,     0.23624,     0.23724,     0.23824,     0.23924,\n",
            "           0.24024,     0.24124,     0.24224,     0.24324,     0.24424,     0.24525,     0.24625,     0.24725,     0.24825,     0.24925,     0.25025,     0.25125,     0.25225,     0.25325,     0.25425,     0.25526,     0.25626,     0.25726,     0.25826,     0.25926,     0.26026,     0.26126,     0.26226,     0.26326,\n",
            "           0.26426,     0.26527,     0.26627,     0.26727,     0.26827,     0.26927,     0.27027,     0.27127,     0.27227,     0.27327,     0.27427,     0.27528,     0.27628,     0.27728,     0.27828,     0.27928,     0.28028,     0.28128,     0.28228,     0.28328,     0.28428,     0.28529,     0.28629,     0.28729,\n",
            "           0.28829,     0.28929,     0.29029,     0.29129,     0.29229,     0.29329,     0.29429,      0.2953,      0.2963,      0.2973,      0.2983,      0.2993,      0.3003,      0.3013,      0.3023,      0.3033,      0.3043,     0.30531,     0.30631,     0.30731,     0.30831,     0.30931,     0.31031,     0.31131,\n",
            "           0.31231,     0.31331,     0.31431,     0.31532,     0.31632,     0.31732,     0.31832,     0.31932,     0.32032,     0.32132,     0.32232,     0.32332,     0.32432,     0.32533,     0.32633,     0.32733,     0.32833,     0.32933,     0.33033,     0.33133,     0.33233,     0.33333,     0.33433,     0.33534,\n",
            "           0.33634,     0.33734,     0.33834,     0.33934,     0.34034,     0.34134,     0.34234,     0.34334,     0.34434,     0.34535,     0.34635,     0.34735,     0.34835,     0.34935,     0.35035,     0.35135,     0.35235,     0.35335,     0.35435,     0.35536,     0.35636,     0.35736,     0.35836,     0.35936,\n",
            "           0.36036,     0.36136,     0.36236,     0.36336,     0.36436,     0.36537,     0.36637,     0.36737,     0.36837,     0.36937,     0.37037,     0.37137,     0.37237,     0.37337,     0.37437,     0.37538,     0.37638,     0.37738,     0.37838,     0.37938,     0.38038,     0.38138,     0.38238,     0.38338,\n",
            "           0.38438,     0.38539,     0.38639,     0.38739,     0.38839,     0.38939,     0.39039,     0.39139,     0.39239,     0.39339,     0.39439,      0.3954,      0.3964,      0.3974,      0.3984,      0.3994,      0.4004,      0.4014,      0.4024,      0.4034,      0.4044,     0.40541,     0.40641,     0.40741,\n",
            "           0.40841,     0.40941,     0.41041,     0.41141,     0.41241,     0.41341,     0.41441,     0.41542,     0.41642,     0.41742,     0.41842,     0.41942,     0.42042,     0.42142,     0.42242,     0.42342,     0.42442,     0.42543,     0.42643,     0.42743,     0.42843,     0.42943,     0.43043,     0.43143,\n",
            "           0.43243,     0.43343,     0.43443,     0.43544,     0.43644,     0.43744,     0.43844,     0.43944,     0.44044,     0.44144,     0.44244,     0.44344,     0.44444,     0.44545,     0.44645,     0.44745,     0.44845,     0.44945,     0.45045,     0.45145,     0.45245,     0.45345,     0.45445,     0.45546,\n",
            "           0.45646,     0.45746,     0.45846,     0.45946,     0.46046,     0.46146,     0.46246,     0.46346,     0.46446,     0.46547,     0.46647,     0.46747,     0.46847,     0.46947,     0.47047,     0.47147,     0.47247,     0.47347,     0.47447,     0.47548,     0.47648,     0.47748,     0.47848,     0.47948,\n",
            "           0.48048,     0.48148,     0.48248,     0.48348,     0.48448,     0.48549,     0.48649,     0.48749,     0.48849,     0.48949,     0.49049,     0.49149,     0.49249,     0.49349,     0.49449,      0.4955,      0.4965,      0.4975,      0.4985,      0.4995,      0.5005,      0.5015,      0.5025,      0.5035,\n",
            "            0.5045,     0.50551,     0.50651,     0.50751,     0.50851,     0.50951,     0.51051,     0.51151,     0.51251,     0.51351,     0.51451,     0.51552,     0.51652,     0.51752,     0.51852,     0.51952,     0.52052,     0.52152,     0.52252,     0.52352,     0.52452,     0.52553,     0.52653,     0.52753,\n",
            "           0.52853,     0.52953,     0.53053,     0.53153,     0.53253,     0.53353,     0.53453,     0.53554,     0.53654,     0.53754,     0.53854,     0.53954,     0.54054,     0.54154,     0.54254,     0.54354,     0.54454,     0.54555,     0.54655,     0.54755,     0.54855,     0.54955,     0.55055,     0.55155,\n",
            "           0.55255,     0.55355,     0.55455,     0.55556,     0.55656,     0.55756,     0.55856,     0.55956,     0.56056,     0.56156,     0.56256,     0.56356,     0.56456,     0.56557,     0.56657,     0.56757,     0.56857,     0.56957,     0.57057,     0.57157,     0.57257,     0.57357,     0.57457,     0.57558,\n",
            "           0.57658,     0.57758,     0.57858,     0.57958,     0.58058,     0.58158,     0.58258,     0.58358,     0.58458,     0.58559,     0.58659,     0.58759,     0.58859,     0.58959,     0.59059,     0.59159,     0.59259,     0.59359,     0.59459,      0.5956,      0.5966,      0.5976,      0.5986,      0.5996,\n",
            "            0.6006,      0.6016,      0.6026,      0.6036,      0.6046,     0.60561,     0.60661,     0.60761,     0.60861,     0.60961,     0.61061,     0.61161,     0.61261,     0.61361,     0.61461,     0.61562,     0.61662,     0.61762,     0.61862,     0.61962,     0.62062,     0.62162,     0.62262,     0.62362,\n",
            "           0.62462,     0.62563,     0.62663,     0.62763,     0.62863,     0.62963,     0.63063,     0.63163,     0.63263,     0.63363,     0.63463,     0.63564,     0.63664,     0.63764,     0.63864,     0.63964,     0.64064,     0.64164,     0.64264,     0.64364,     0.64464,     0.64565,     0.64665,     0.64765,\n",
            "           0.64865,     0.64965,     0.65065,     0.65165,     0.65265,     0.65365,     0.65465,     0.65566,     0.65666,     0.65766,     0.65866,     0.65966,     0.66066,     0.66166,     0.66266,     0.66366,     0.66466,     0.66567,     0.66667,     0.66767,     0.66867,     0.66967,     0.67067,     0.67167,\n",
            "           0.67267,     0.67367,     0.67467,     0.67568,     0.67668,     0.67768,     0.67868,     0.67968,     0.68068,     0.68168,     0.68268,     0.68368,     0.68468,     0.68569,     0.68669,     0.68769,     0.68869,     0.68969,     0.69069,     0.69169,     0.69269,     0.69369,     0.69469,      0.6957,\n",
            "            0.6967,      0.6977,      0.6987,      0.6997,      0.7007,      0.7017,      0.7027,      0.7037,      0.7047,     0.70571,     0.70671,     0.70771,     0.70871,     0.70971,     0.71071,     0.71171,     0.71271,     0.71371,     0.71471,     0.71572,     0.71672,     0.71772,     0.71872,     0.71972,\n",
            "           0.72072,     0.72172,     0.72272,     0.72372,     0.72472,     0.72573,     0.72673,     0.72773,     0.72873,     0.72973,     0.73073,     0.73173,     0.73273,     0.73373,     0.73473,     0.73574,     0.73674,     0.73774,     0.73874,     0.73974,     0.74074,     0.74174,     0.74274,     0.74374,\n",
            "           0.74474,     0.74575,     0.74675,     0.74775,     0.74875,     0.74975,     0.75075,     0.75175,     0.75275,     0.75375,     0.75475,     0.75576,     0.75676,     0.75776,     0.75876,     0.75976,     0.76076,     0.76176,     0.76276,     0.76376,     0.76476,     0.76577,     0.76677,     0.76777,\n",
            "           0.76877,     0.76977,     0.77077,     0.77177,     0.77277,     0.77377,     0.77477,     0.77578,     0.77678,     0.77778,     0.77878,     0.77978,     0.78078,     0.78178,     0.78278,     0.78378,     0.78478,     0.78579,     0.78679,     0.78779,     0.78879,     0.78979,     0.79079,     0.79179,\n",
            "           0.79279,     0.79379,     0.79479,      0.7958,      0.7968,      0.7978,      0.7988,      0.7998,      0.8008,      0.8018,      0.8028,      0.8038,      0.8048,     0.80581,     0.80681,     0.80781,     0.80881,     0.80981,     0.81081,     0.81181,     0.81281,     0.81381,     0.81481,     0.81582,\n",
            "           0.81682,     0.81782,     0.81882,     0.81982,     0.82082,     0.82182,     0.82282,     0.82382,     0.82482,     0.82583,     0.82683,     0.82783,     0.82883,     0.82983,     0.83083,     0.83183,     0.83283,     0.83383,     0.83483,     0.83584,     0.83684,     0.83784,     0.83884,     0.83984,\n",
            "           0.84084,     0.84184,     0.84284,     0.84384,     0.84484,     0.84585,     0.84685,     0.84785,     0.84885,     0.84985,     0.85085,     0.85185,     0.85285,     0.85385,     0.85485,     0.85586,     0.85686,     0.85786,     0.85886,     0.85986,     0.86086,     0.86186,     0.86286,     0.86386,\n",
            "           0.86486,     0.86587,     0.86687,     0.86787,     0.86887,     0.86987,     0.87087,     0.87187,     0.87287,     0.87387,     0.87487,     0.87588,     0.87688,     0.87788,     0.87888,     0.87988,     0.88088,     0.88188,     0.88288,     0.88388,     0.88488,     0.88589,     0.88689,     0.88789,\n",
            "           0.88889,     0.88989,     0.89089,     0.89189,     0.89289,     0.89389,     0.89489,      0.8959,      0.8969,      0.8979,      0.8989,      0.8999,      0.9009,      0.9019,      0.9029,      0.9039,      0.9049,     0.90591,     0.90691,     0.90791,     0.90891,     0.90991,     0.91091,     0.91191,\n",
            "           0.91291,     0.91391,     0.91491,     0.91592,     0.91692,     0.91792,     0.91892,     0.91992,     0.92092,     0.92192,     0.92292,     0.92392,     0.92492,     0.92593,     0.92693,     0.92793,     0.92893,     0.92993,     0.93093,     0.93193,     0.93293,     0.93393,     0.93493,     0.93594,\n",
            "           0.93694,     0.93794,     0.93894,     0.93994,     0.94094,     0.94194,     0.94294,     0.94394,     0.94494,     0.94595,     0.94695,     0.94795,     0.94895,     0.94995,     0.95095,     0.95195,     0.95295,     0.95395,     0.95495,     0.95596,     0.95696,     0.95796,     0.95896,     0.95996,\n",
            "           0.96096,     0.96196,     0.96296,     0.96396,     0.96496,     0.96597,     0.96697,     0.96797,     0.96897,     0.96997,     0.97097,     0.97197,     0.97297,     0.97397,     0.97497,     0.97598,     0.97698,     0.97798,     0.97898,     0.97998,     0.98098,     0.98198,     0.98298,     0.98398,\n",
            "           0.98498,     0.98599,     0.98699,     0.98799,     0.98899,     0.98999,     0.99099,     0.99199,     0.99299,     0.99399,     0.99499,       0.996,       0.997,       0.998,       0.999,           1]), array([[   0.066667,    0.066667,    0.066667,    0.066667,    0.066667,    0.069196,     0.10026,     0.14029,     0.15902,     0.17512,     0.19196,     0.20817,      0.2206,     0.23084,     0.24178,     0.25221,      0.2621,     0.27287,     0.28254,     0.28994,     0.30162,     0.31029,     0.31874,\n",
            "            0.32845,     0.33708,     0.34308,     0.34832,     0.35407,     0.36014,     0.36843,      0.3739,     0.37913,     0.38479,     0.39232,     0.39772,     0.40264,     0.40906,     0.41594,     0.42251,     0.42713,     0.43196,     0.43514,     0.44034,     0.44442,      0.4482,     0.45545,\n",
            "            0.45988,     0.46263,     0.46627,     0.46701,     0.47105,     0.47692,     0.48346,     0.48756,     0.49004,     0.49439,     0.49805,     0.50205,     0.50471,     0.50604,      0.5097,     0.51473,     0.51637,     0.52212,     0.52386,      0.5279,     0.53179,     0.53545,     0.53648,\n",
            "            0.53937,     0.54123,     0.54432,     0.54561,     0.55001,     0.55366,     0.55579,     0.55802,     0.56124,     0.56415,     0.56647,     0.56776,     0.56919,     0.57154,       0.574,     0.57723,     0.57855,     0.58038,      0.5824,     0.58695,     0.58933,      0.5925,     0.59604,\n",
            "            0.59784,     0.59793,     0.59934,     0.60161,     0.60268,     0.60908,     0.61196,     0.61326,     0.61389,     0.61691,     0.61893,     0.62057,     0.62265,     0.62419,     0.62472,     0.62753,     0.62855,     0.63143,     0.63253,     0.63531,     0.63733,     0.63817,     0.63975,\n",
            "              0.642,     0.64272,     0.64433,     0.64521,     0.64834,     0.64895,     0.65054,     0.65285,     0.65635,     0.65605,     0.65581,     0.65821,     0.66085,     0.66047,     0.66276,     0.66472,     0.66725,     0.67166,     0.67242,     0.67289,     0.67355,     0.67463,     0.67933,\n",
            "            0.68103,     0.68329,     0.68441,     0.68891,     0.68952,     0.68996,     0.69122,     0.69319,     0.69394,      0.6945,     0.69498,     0.69566,      0.6979,     0.69667,     0.69643,      0.6975,     0.69992,     0.70406,     0.70371,     0.70507,     0.70565,     0.70624,      0.7071,\n",
            "            0.70723,     0.70885,     0.71171,     0.71373,     0.71344,      0.7133,       0.714,     0.71447,      0.7139,     0.71566,     0.71597,     0.71669,     0.71956,     0.72131,     0.72393,     0.72469,     0.73023,     0.73129,      0.7319,     0.73232,     0.73274,     0.73387,     0.73903,\n",
            "            0.74107,     0.74306,     0.74436,     0.74461,      0.7453,     0.74607,     0.74755,     0.74796,     0.74837,     0.74878,     0.74956,     0.75076,     0.75223,     0.75497,     0.75553,     0.75739,     0.75969,     0.76108,     0.76275,     0.76374,     0.76523,     0.76721,     0.76685,\n",
            "            0.76934,     0.77105,     0.77234,     0.77217,       0.772,     0.77208,     0.77395,     0.77659,     0.77985,     0.77987,     0.77989,     0.78144,     0.78423,     0.78457,     0.78569,     0.78626,     0.78683,     0.78772,     0.78955,     0.79084,     0.79146,     0.79207,     0.79286,\n",
            "            0.79404,     0.79914,     0.80246,     0.80218,     0.80188,      0.8014,      0.8011,     0.80112,     0.80192,     0.80273,     0.80434,      0.8051,     0.80574,      0.8064,     0.80848,     0.80922,     0.80995,     0.81112,      0.8124,     0.81373,      0.8143,     0.81483,     0.81536,\n",
            "             0.8167,     0.81823,     0.81926,     0.82004,     0.82075,     0.82112,     0.82283,     0.82191,     0.82156,     0.82139,     0.82122,     0.82252,     0.82336,     0.82672,     0.83233,     0.83277,      0.8332,     0.83364,     0.83407,     0.83394,     0.83401,     0.83593,     0.83708,\n",
            "            0.83769,     0.83873,     0.83931,     0.83914,     0.84312,     0.84306,     0.84298,      0.8429,     0.84282,     0.84282,      0.8432,     0.84359,     0.84397,     0.84435,     0.84473,     0.84564,     0.84671,     0.84743,     0.84807,     0.84871,     0.85015,     0.85239,     0.85365,\n",
            "             0.8543,     0.85494,     0.85532,     0.85519,     0.85506,      0.8556,     0.85676,     0.85981,     0.86252,     0.86401,     0.86454,     0.86507,      0.8656,     0.86577,     0.86569,     0.86561,     0.86552,     0.86576,     0.86631,     0.86686,     0.86741,        0.87,     0.87196,\n",
            "            0.87301,     0.87429,     0.87798,     0.87851,     0.87846,      0.8784,     0.87835,     0.87829,     0.87824,     0.87875,     0.88012,     0.87972,     0.88248,     0.88335,     0.88421,       0.884,     0.88412,     0.88453,     0.88493,     0.88534,     0.88575,     0.88615,     0.88588,\n",
            "            0.88579,      0.8857,     0.88645,     0.88849,     0.88972,      0.8923,      0.8924,     0.89232,     0.89224,     0.89217,     0.89213,     0.89208,     0.89203,     0.89199,     0.89194,      0.8919,     0.89178,     0.89167,     0.89148,      0.8912,     0.89088,     0.89308,     0.89283,\n",
            "            0.89542,      0.8964,     0.89739,     0.89883,     0.89992,     0.89962,     0.89938,      0.8992,     0.89905,     0.89891,     0.90089,     0.90463,     0.90585,     0.90645,      0.9063,     0.90686,     0.90779,     0.90871,     0.91135,     0.91123,     0.91639,     0.91883,     0.91858,\n",
            "            0.91855,     0.91851,     0.91848,     0.91845,     0.91841,     0.91838,     0.91925,     0.92075,     0.92114,     0.92153,     0.92192,     0.92231,      0.9227,     0.92309,     0.92327,     0.92321,     0.92315,     0.92308,     0.92285,     0.92282,     0.92278,     0.92275,     0.92272,\n",
            "            0.92269,     0.92266,     0.92262,     0.92527,      0.9273,     0.92797,     0.92855,     0.92914,     0.92972,      0.9303,     0.93034,     0.93015,        0.93,     0.93002,     0.93078,     0.93155,     0.93231,     0.93269,     0.93261,     0.93253,     0.93245,     0.93238,     0.93247,\n",
            "            0.93393,     0.93516,       0.935,     0.93476,     0.93466,     0.93456,     0.93447,     0.93438,     0.93434,      0.9343,     0.93425,     0.93421,     0.93417,     0.93398,     0.93383,     0.93374,     0.93372,     0.93369,     0.93367,     0.93364,     0.93362,     0.93359,     0.93357,\n",
            "            0.93354,     0.93348,     0.93341,     0.93335,     0.93319,     0.93295,     0.93254,     0.93243,     0.93236,     0.93229,      0.9322,      0.9321,     0.93195,     0.93171,     0.93296,     0.93501,     0.93629,     0.93757,      0.9375,     0.93737,     0.93846,     0.94032,     0.94212,\n",
            "            0.94339,     0.94457,     0.94575,     0.94627,     0.94619,     0.94685,     0.95123,     0.95238,     0.95234,     0.95231,     0.95227,     0.95224,     0.95221,     0.95218,     0.95215,     0.95213,      0.9521,     0.95207,     0.95204,     0.95198,     0.95193,     0.95522,     0.95834,\n",
            "            0.96266,     0.96474,     0.96477,     0.96474,     0.96471,     0.96467,     0.96463,     0.96458,     0.96453,     0.96447,     0.96441,     0.96428,     0.96426,     0.96423,     0.96421,     0.96419,     0.96417,     0.96401,     0.96392,      0.9673,     0.96819,     0.96908,     0.96997,\n",
            "            0.97102,     0.97447,     0.97623,     0.97794,     0.97792,      0.9779,     0.97788,     0.97786,     0.97782,     0.97777,     0.97774,     0.97771,     0.97768,     0.97766,     0.97764,     0.97762,     0.97759,     0.97756,     0.97753,      0.9775,     0.97748,     0.97745,      0.9774,\n",
            "            0.97734,     0.97729,     0.97726,     0.97725,     0.97723,     0.97721,      0.9772,     0.97718,     0.97715,     0.97713,      0.9771,     0.97708,     0.97705,     0.97703,     0.97698,      0.9768,     0.97673,     0.97672,      0.9767,     0.97668,     0.97667,     0.97665,      0.9766,\n",
            "            0.97655,     0.97646,      0.9764,     0.97633,     0.97903,     0.98011,     0.98399,     0.98395,     0.98689,     0.98784,      0.9878,     0.98774,     0.98769,     0.98766,     0.98764,     0.98762,     0.98761,     0.98754,     0.98751,     0.98749,     0.98748,     0.98747,     0.98745,\n",
            "            0.98744,     0.98743,     0.98742,      0.9874,     0.98739,     0.98735,     0.98733,     0.98731,     0.98729,     0.98726,     0.98724,     0.98723,     0.98723,     0.98722,     0.98722,     0.98722,     0.98721,     0.98721,      0.9872,      0.9872,      0.9872,     0.98719,     0.98719,\n",
            "            0.98719,     0.98718,     0.98717,     0.98716,     0.98715,     0.98714,     0.98713,     0.98709,     0.98703,     0.98696,     0.98692,     0.98688,     0.98685,      0.9868,     0.98675,     0.98671,     0.98668,     0.98662,     0.98654,     0.98652,     0.98651,     0.98649,     0.98648,\n",
            "            0.98647,     0.98646,     0.98645,     0.98645,     0.98644,     0.98643,     0.98642,     0.98641,     0.98639,     0.98638,     0.98637,     0.98629,     0.98624,     0.98622,      0.9862,     0.98618,     0.98612,     0.98609,     0.98606,     0.98602,     0.98651,     0.99001,     0.99057,\n",
            "            0.99053,      0.9905,     0.99044,     0.99037,     0.99033,     0.99031,     0.99029,     0.99028,     0.99027,     0.99027,     0.99026,     0.99025,     0.99024,     0.99016,     0.99013,      0.9901,     0.99008,     0.99006,     0.99004,     0.98999,     0.98997,     0.98995,     0.98991,\n",
            "            0.98986,     0.98983,     0.98981,     0.98977,      0.9897,     0.98956,     0.98943,      0.9894,     0.98938,     0.98935,     0.98934,     0.98932,      0.9893,     0.98928,     0.98927,     0.98925,     0.98921,     0.98916,     0.98905,     0.98896,     0.98894,     0.98893,     0.98891,\n",
            "             0.9889,     0.98889,     0.98888,     0.98887,     0.98886,     0.98885,     0.98884,     0.98883,     0.98881,     0.98874,      0.9887,     0.98866,     0.98863,     0.98858,     0.98855,     0.98853,     0.98851,     0.98848,     0.98844,     0.98843,     0.98842,      0.9884,     0.98839,\n",
            "            0.98838,     0.98836,     0.98834,     0.98832,     0.98824,     0.98809,     0.98801,     0.98795,     0.98791,     0.98785,     0.98777,     0.98774,     0.98771,     0.98767,     0.98749,     0.98744,     0.98735,     0.98733,     0.98732,     0.98731,     0.98729,     0.98728,     0.98727,\n",
            "            0.98716,     0.98703,     0.98693,     0.98688,     0.98681,     0.98674,      0.9867,     0.98666,     0.98661,     0.98656,     0.98649,     0.98626,      0.9861,     0.98606,     0.98602,     0.98599,     0.98595,     0.98592,     0.98571,     0.98568,     0.98565,     0.98562,     0.98547,\n",
            "            0.98537,     0.98533,      0.9853,     0.98525,      0.9852,     0.98506,     0.98502,     0.98499,     0.98494,     0.98487,     0.99236,     0.99233,      0.9923,     0.99228,     0.99226,     0.99211,     0.99203,     0.99198,     0.99196,     0.99193,     0.99187,     0.99181,     0.99178,\n",
            "            0.99175,     0.99173,      0.9917,     0.99168,      0.9916,     0.99157,     0.99154,     0.99151,     0.99148,     0.99145,      0.9914,     0.99133,     0.99127,     0.99119,     0.99103,     0.99097,     0.99095,     0.99093,     0.99089,     0.99078,     0.99067,     0.99055,     0.99048,\n",
            "            0.99034,     0.99027,     0.99024,      0.9902,     0.98999,      0.9899,      0.9896,     0.98947,      0.9894,     0.98925,     0.98904,     0.98882,     0.98871,     0.98847,     0.98829,      0.9878,     0.98772,     0.98745,     0.98728,      0.9872,     0.98708,     0.98683,      0.9868,\n",
            "            0.98677,     0.98673,      0.9867,     0.98667,     0.98624,     0.98584,     0.98527,      0.9852,     0.98513,     0.98483,     0.98467,     0.98437,      0.9843,     0.98423,     0.98416,     0.98402,     0.98385,     0.98378,      0.9837,     0.98362,     0.98337,     0.98292,     0.98269,\n",
            "             0.9824,     0.98233,     0.98225,     0.98218,     0.98204,     0.98183,     0.98161,     0.98117,     0.98073,     0.98053,      0.9802,     0.97978,      0.9791,     0.97892,     0.97875,     0.99012,           1,           1,           1,           1,           1,           1,           1,\n",
            "                  1,           1,           1,           1,           1,           1,           1,           1,           1,           1,           1,           1,           1,           1,           1,           1,           1,           1,           1,           1,           1,           1,           1,\n",
            "                  1,           1,           1,           1,           1,           1,           1,           1,           1,           1,           1,           1,           1,           1,           1,           1,           1,           1,           1,           1,           1,           1,           1,\n",
            "                  1,           1,           1,           1,           1,           1,           1,           1,           1,           1,           1,           1,           1,           1,           1,           1,           1,           1,           1,           1,           1,           1,           1,\n",
            "                  1,           1,           1,           1,           1,           1,           1,           1,           1,           1,           1,           1,           1,           1,           1,           1,           1,           1,           1,           1,           1,           1,           1,\n",
            "                  1,           1,           1,           1,           1,           1,           1,           1,           1,           1,           1]]), 'Confidence', 'Precision'], [array([          0,    0.001001,    0.002002,    0.003003,    0.004004,    0.005005,    0.006006,    0.007007,    0.008008,    0.009009,     0.01001,    0.011011,    0.012012,    0.013013,    0.014014,    0.015015,    0.016016,    0.017017,    0.018018,    0.019019,     0.02002,    0.021021,    0.022022,    0.023023,\n",
            "          0.024024,    0.025025,    0.026026,    0.027027,    0.028028,    0.029029,     0.03003,    0.031031,    0.032032,    0.033033,    0.034034,    0.035035,    0.036036,    0.037037,    0.038038,    0.039039,     0.04004,    0.041041,    0.042042,    0.043043,    0.044044,    0.045045,    0.046046,    0.047047,\n",
            "          0.048048,    0.049049,     0.05005,    0.051051,    0.052052,    0.053053,    0.054054,    0.055055,    0.056056,    0.057057,    0.058058,    0.059059,     0.06006,    0.061061,    0.062062,    0.063063,    0.064064,    0.065065,    0.066066,    0.067067,    0.068068,    0.069069,     0.07007,    0.071071,\n",
            "          0.072072,    0.073073,    0.074074,    0.075075,    0.076076,    0.077077,    0.078078,    0.079079,     0.08008,    0.081081,    0.082082,    0.083083,    0.084084,    0.085085,    0.086086,    0.087087,    0.088088,    0.089089,     0.09009,    0.091091,    0.092092,    0.093093,    0.094094,    0.095095,\n",
            "          0.096096,    0.097097,    0.098098,    0.099099,      0.1001,      0.1011,      0.1021,      0.1031,      0.1041,     0.10511,     0.10611,     0.10711,     0.10811,     0.10911,     0.11011,     0.11111,     0.11211,     0.11311,     0.11411,     0.11512,     0.11612,     0.11712,     0.11812,     0.11912,\n",
            "           0.12012,     0.12112,     0.12212,     0.12312,     0.12412,     0.12513,     0.12613,     0.12713,     0.12813,     0.12913,     0.13013,     0.13113,     0.13213,     0.13313,     0.13413,     0.13514,     0.13614,     0.13714,     0.13814,     0.13914,     0.14014,     0.14114,     0.14214,     0.14314,\n",
            "           0.14414,     0.14515,     0.14615,     0.14715,     0.14815,     0.14915,     0.15015,     0.15115,     0.15215,     0.15315,     0.15415,     0.15516,     0.15616,     0.15716,     0.15816,     0.15916,     0.16016,     0.16116,     0.16216,     0.16316,     0.16416,     0.16517,     0.16617,     0.16717,\n",
            "           0.16817,     0.16917,     0.17017,     0.17117,     0.17217,     0.17317,     0.17417,     0.17518,     0.17618,     0.17718,     0.17818,     0.17918,     0.18018,     0.18118,     0.18218,     0.18318,     0.18418,     0.18519,     0.18619,     0.18719,     0.18819,     0.18919,     0.19019,     0.19119,\n",
            "           0.19219,     0.19319,     0.19419,      0.1952,      0.1962,      0.1972,      0.1982,      0.1992,      0.2002,      0.2012,      0.2022,      0.2032,      0.2042,     0.20521,     0.20621,     0.20721,     0.20821,     0.20921,     0.21021,     0.21121,     0.21221,     0.21321,     0.21421,     0.21522,\n",
            "           0.21622,     0.21722,     0.21822,     0.21922,     0.22022,     0.22122,     0.22222,     0.22322,     0.22422,     0.22523,     0.22623,     0.22723,     0.22823,     0.22923,     0.23023,     0.23123,     0.23223,     0.23323,     0.23423,     0.23524,     0.23624,     0.23724,     0.23824,     0.23924,\n",
            "           0.24024,     0.24124,     0.24224,     0.24324,     0.24424,     0.24525,     0.24625,     0.24725,     0.24825,     0.24925,     0.25025,     0.25125,     0.25225,     0.25325,     0.25425,     0.25526,     0.25626,     0.25726,     0.25826,     0.25926,     0.26026,     0.26126,     0.26226,     0.26326,\n",
            "           0.26426,     0.26527,     0.26627,     0.26727,     0.26827,     0.26927,     0.27027,     0.27127,     0.27227,     0.27327,     0.27427,     0.27528,     0.27628,     0.27728,     0.27828,     0.27928,     0.28028,     0.28128,     0.28228,     0.28328,     0.28428,     0.28529,     0.28629,     0.28729,\n",
            "           0.28829,     0.28929,     0.29029,     0.29129,     0.29229,     0.29329,     0.29429,      0.2953,      0.2963,      0.2973,      0.2983,      0.2993,      0.3003,      0.3013,      0.3023,      0.3033,      0.3043,     0.30531,     0.30631,     0.30731,     0.30831,     0.30931,     0.31031,     0.31131,\n",
            "           0.31231,     0.31331,     0.31431,     0.31532,     0.31632,     0.31732,     0.31832,     0.31932,     0.32032,     0.32132,     0.32232,     0.32332,     0.32432,     0.32533,     0.32633,     0.32733,     0.32833,     0.32933,     0.33033,     0.33133,     0.33233,     0.33333,     0.33433,     0.33534,\n",
            "           0.33634,     0.33734,     0.33834,     0.33934,     0.34034,     0.34134,     0.34234,     0.34334,     0.34434,     0.34535,     0.34635,     0.34735,     0.34835,     0.34935,     0.35035,     0.35135,     0.35235,     0.35335,     0.35435,     0.35536,     0.35636,     0.35736,     0.35836,     0.35936,\n",
            "           0.36036,     0.36136,     0.36236,     0.36336,     0.36436,     0.36537,     0.36637,     0.36737,     0.36837,     0.36937,     0.37037,     0.37137,     0.37237,     0.37337,     0.37437,     0.37538,     0.37638,     0.37738,     0.37838,     0.37938,     0.38038,     0.38138,     0.38238,     0.38338,\n",
            "           0.38438,     0.38539,     0.38639,     0.38739,     0.38839,     0.38939,     0.39039,     0.39139,     0.39239,     0.39339,     0.39439,      0.3954,      0.3964,      0.3974,      0.3984,      0.3994,      0.4004,      0.4014,      0.4024,      0.4034,      0.4044,     0.40541,     0.40641,     0.40741,\n",
            "           0.40841,     0.40941,     0.41041,     0.41141,     0.41241,     0.41341,     0.41441,     0.41542,     0.41642,     0.41742,     0.41842,     0.41942,     0.42042,     0.42142,     0.42242,     0.42342,     0.42442,     0.42543,     0.42643,     0.42743,     0.42843,     0.42943,     0.43043,     0.43143,\n",
            "           0.43243,     0.43343,     0.43443,     0.43544,     0.43644,     0.43744,     0.43844,     0.43944,     0.44044,     0.44144,     0.44244,     0.44344,     0.44444,     0.44545,     0.44645,     0.44745,     0.44845,     0.44945,     0.45045,     0.45145,     0.45245,     0.45345,     0.45445,     0.45546,\n",
            "           0.45646,     0.45746,     0.45846,     0.45946,     0.46046,     0.46146,     0.46246,     0.46346,     0.46446,     0.46547,     0.46647,     0.46747,     0.46847,     0.46947,     0.47047,     0.47147,     0.47247,     0.47347,     0.47447,     0.47548,     0.47648,     0.47748,     0.47848,     0.47948,\n",
            "           0.48048,     0.48148,     0.48248,     0.48348,     0.48448,     0.48549,     0.48649,     0.48749,     0.48849,     0.48949,     0.49049,     0.49149,     0.49249,     0.49349,     0.49449,      0.4955,      0.4965,      0.4975,      0.4985,      0.4995,      0.5005,      0.5015,      0.5025,      0.5035,\n",
            "            0.5045,     0.50551,     0.50651,     0.50751,     0.50851,     0.50951,     0.51051,     0.51151,     0.51251,     0.51351,     0.51451,     0.51552,     0.51652,     0.51752,     0.51852,     0.51952,     0.52052,     0.52152,     0.52252,     0.52352,     0.52452,     0.52553,     0.52653,     0.52753,\n",
            "           0.52853,     0.52953,     0.53053,     0.53153,     0.53253,     0.53353,     0.53453,     0.53554,     0.53654,     0.53754,     0.53854,     0.53954,     0.54054,     0.54154,     0.54254,     0.54354,     0.54454,     0.54555,     0.54655,     0.54755,     0.54855,     0.54955,     0.55055,     0.55155,\n",
            "           0.55255,     0.55355,     0.55455,     0.55556,     0.55656,     0.55756,     0.55856,     0.55956,     0.56056,     0.56156,     0.56256,     0.56356,     0.56456,     0.56557,     0.56657,     0.56757,     0.56857,     0.56957,     0.57057,     0.57157,     0.57257,     0.57357,     0.57457,     0.57558,\n",
            "           0.57658,     0.57758,     0.57858,     0.57958,     0.58058,     0.58158,     0.58258,     0.58358,     0.58458,     0.58559,     0.58659,     0.58759,     0.58859,     0.58959,     0.59059,     0.59159,     0.59259,     0.59359,     0.59459,      0.5956,      0.5966,      0.5976,      0.5986,      0.5996,\n",
            "            0.6006,      0.6016,      0.6026,      0.6036,      0.6046,     0.60561,     0.60661,     0.60761,     0.60861,     0.60961,     0.61061,     0.61161,     0.61261,     0.61361,     0.61461,     0.61562,     0.61662,     0.61762,     0.61862,     0.61962,     0.62062,     0.62162,     0.62262,     0.62362,\n",
            "           0.62462,     0.62563,     0.62663,     0.62763,     0.62863,     0.62963,     0.63063,     0.63163,     0.63263,     0.63363,     0.63463,     0.63564,     0.63664,     0.63764,     0.63864,     0.63964,     0.64064,     0.64164,     0.64264,     0.64364,     0.64464,     0.64565,     0.64665,     0.64765,\n",
            "           0.64865,     0.64965,     0.65065,     0.65165,     0.65265,     0.65365,     0.65465,     0.65566,     0.65666,     0.65766,     0.65866,     0.65966,     0.66066,     0.66166,     0.66266,     0.66366,     0.66466,     0.66567,     0.66667,     0.66767,     0.66867,     0.66967,     0.67067,     0.67167,\n",
            "           0.67267,     0.67367,     0.67467,     0.67568,     0.67668,     0.67768,     0.67868,     0.67968,     0.68068,     0.68168,     0.68268,     0.68368,     0.68468,     0.68569,     0.68669,     0.68769,     0.68869,     0.68969,     0.69069,     0.69169,     0.69269,     0.69369,     0.69469,      0.6957,\n",
            "            0.6967,      0.6977,      0.6987,      0.6997,      0.7007,      0.7017,      0.7027,      0.7037,      0.7047,     0.70571,     0.70671,     0.70771,     0.70871,     0.70971,     0.71071,     0.71171,     0.71271,     0.71371,     0.71471,     0.71572,     0.71672,     0.71772,     0.71872,     0.71972,\n",
            "           0.72072,     0.72172,     0.72272,     0.72372,     0.72472,     0.72573,     0.72673,     0.72773,     0.72873,     0.72973,     0.73073,     0.73173,     0.73273,     0.73373,     0.73473,     0.73574,     0.73674,     0.73774,     0.73874,     0.73974,     0.74074,     0.74174,     0.74274,     0.74374,\n",
            "           0.74474,     0.74575,     0.74675,     0.74775,     0.74875,     0.74975,     0.75075,     0.75175,     0.75275,     0.75375,     0.75475,     0.75576,     0.75676,     0.75776,     0.75876,     0.75976,     0.76076,     0.76176,     0.76276,     0.76376,     0.76476,     0.76577,     0.76677,     0.76777,\n",
            "           0.76877,     0.76977,     0.77077,     0.77177,     0.77277,     0.77377,     0.77477,     0.77578,     0.77678,     0.77778,     0.77878,     0.77978,     0.78078,     0.78178,     0.78278,     0.78378,     0.78478,     0.78579,     0.78679,     0.78779,     0.78879,     0.78979,     0.79079,     0.79179,\n",
            "           0.79279,     0.79379,     0.79479,      0.7958,      0.7968,      0.7978,      0.7988,      0.7998,      0.8008,      0.8018,      0.8028,      0.8038,      0.8048,     0.80581,     0.80681,     0.80781,     0.80881,     0.80981,     0.81081,     0.81181,     0.81281,     0.81381,     0.81481,     0.81582,\n",
            "           0.81682,     0.81782,     0.81882,     0.81982,     0.82082,     0.82182,     0.82282,     0.82382,     0.82482,     0.82583,     0.82683,     0.82783,     0.82883,     0.82983,     0.83083,     0.83183,     0.83283,     0.83383,     0.83483,     0.83584,     0.83684,     0.83784,     0.83884,     0.83984,\n",
            "           0.84084,     0.84184,     0.84284,     0.84384,     0.84484,     0.84585,     0.84685,     0.84785,     0.84885,     0.84985,     0.85085,     0.85185,     0.85285,     0.85385,     0.85485,     0.85586,     0.85686,     0.85786,     0.85886,     0.85986,     0.86086,     0.86186,     0.86286,     0.86386,\n",
            "           0.86486,     0.86587,     0.86687,     0.86787,     0.86887,     0.86987,     0.87087,     0.87187,     0.87287,     0.87387,     0.87487,     0.87588,     0.87688,     0.87788,     0.87888,     0.87988,     0.88088,     0.88188,     0.88288,     0.88388,     0.88488,     0.88589,     0.88689,     0.88789,\n",
            "           0.88889,     0.88989,     0.89089,     0.89189,     0.89289,     0.89389,     0.89489,      0.8959,      0.8969,      0.8979,      0.8989,      0.8999,      0.9009,      0.9019,      0.9029,      0.9039,      0.9049,     0.90591,     0.90691,     0.90791,     0.90891,     0.90991,     0.91091,     0.91191,\n",
            "           0.91291,     0.91391,     0.91491,     0.91592,     0.91692,     0.91792,     0.91892,     0.91992,     0.92092,     0.92192,     0.92292,     0.92392,     0.92492,     0.92593,     0.92693,     0.92793,     0.92893,     0.92993,     0.93093,     0.93193,     0.93293,     0.93393,     0.93493,     0.93594,\n",
            "           0.93694,     0.93794,     0.93894,     0.93994,     0.94094,     0.94194,     0.94294,     0.94394,     0.94494,     0.94595,     0.94695,     0.94795,     0.94895,     0.94995,     0.95095,     0.95195,     0.95295,     0.95395,     0.95495,     0.95596,     0.95696,     0.95796,     0.95896,     0.95996,\n",
            "           0.96096,     0.96196,     0.96296,     0.96396,     0.96496,     0.96597,     0.96697,     0.96797,     0.96897,     0.96997,     0.97097,     0.97197,     0.97297,     0.97397,     0.97497,     0.97598,     0.97698,     0.97798,     0.97898,     0.97998,     0.98098,     0.98198,     0.98298,     0.98398,\n",
            "           0.98498,     0.98599,     0.98699,     0.98799,     0.98899,     0.98999,     0.99099,     0.99199,     0.99299,     0.99399,     0.99499,       0.996,       0.997,       0.998,       0.999,           1]), array([[     0.9611,      0.9611,      0.9611,      0.9611,      0.9611,      0.9611,     0.95881,     0.95881,     0.95881,     0.95881,     0.95881,     0.95652,     0.95423,     0.94966,     0.94966,     0.94966,     0.94737,     0.94508,     0.94508,     0.94508,     0.94508,     0.94093,     0.93593,\n",
            "            0.93593,     0.93593,     0.93364,     0.93135,     0.93135,     0.93135,     0.93135,     0.93135,     0.92906,     0.92906,     0.92906,     0.92906,     0.92906,     0.92906,     0.92906,     0.92906,     0.92906,     0.92677,     0.92677,     0.92363,      0.9222,      0.9222,      0.9222,\n",
            "            0.91991,     0.91991,     0.91991,     0.91762,     0.91762,     0.91762,      0.9167,     0.91533,     0.91304,     0.91304,     0.91304,     0.91076,     0.91076,     0.90847,     0.90847,     0.90847,     0.90618,     0.90618,     0.90618,     0.90618,     0.90618,     0.90618,     0.90618,\n",
            "            0.90618,     0.90389,      0.9016,      0.9016,     0.89931,     0.89931,     0.89931,     0.89931,     0.89862,     0.89703,     0.89703,     0.89572,     0.89474,     0.89474,     0.89474,     0.89474,     0.89474,     0.89474,     0.89474,     0.89474,     0.89245,     0.89245,     0.89245,\n",
            "            0.89245,     0.89016,     0.89016,     0.89016,     0.89016,     0.89016,     0.89016,     0.88787,     0.88787,     0.88787,     0.88787,     0.88787,     0.88787,     0.88787,     0.88787,     0.88787,     0.88787,     0.88787,     0.88624,     0.88558,     0.88471,      0.8833,      0.8833,\n",
            "             0.8833,     0.88101,     0.87872,     0.87872,     0.87643,     0.87414,     0.87414,     0.87414,     0.87412,     0.87297,     0.87185,     0.87185,      0.8695,     0.86803,     0.86728,     0.86728,     0.86728,     0.86728,     0.86728,     0.86728,     0.86728,     0.86728,     0.86728,\n",
            "            0.86728,     0.86728,     0.86728,     0.86728,     0.86728,     0.86728,     0.86728,     0.86728,     0.86728,     0.86728,     0.86728,     0.86728,     0.86698,     0.86195,     0.86041,     0.86041,     0.86041,     0.86018,     0.85873,     0.85812,     0.85812,     0.85812,     0.85812,\n",
            "            0.85682,     0.85584,     0.85584,     0.85578,     0.85458,     0.85355,     0.85355,     0.85317,     0.85081,     0.84897,     0.84668,     0.84518,     0.84439,     0.84439,     0.84439,     0.84439,     0.84211,     0.84211,     0.84211,     0.84211,     0.84211,     0.84211,     0.84211,\n",
            "            0.84211,     0.84211,     0.84211,     0.83982,     0.83982,     0.83982,     0.83982,     0.83982,     0.83982,     0.83982,     0.83982,     0.83982,     0.83982,     0.83904,     0.83753,     0.83753,     0.83753,     0.83753,     0.83753,     0.83753,     0.83753,     0.83711,     0.83544,\n",
            "            0.83196,     0.83066,     0.83066,     0.82986,     0.82906,     0.82838,     0.82838,     0.82838,     0.82838,      0.8269,      0.8238,      0.8238,     0.82337,     0.82151,     0.82151,     0.82151,     0.82151,     0.82151,     0.82151,     0.82151,     0.82151,     0.82151,     0.82151,\n",
            "            0.82151,     0.82151,     0.82151,      0.8166,     0.81506,     0.81258,     0.81108,     0.81007,     0.81007,     0.81007,     0.81007,     0.81007,     0.81007,     0.81007,     0.81007,     0.81007,     0.81007,     0.81007,     0.81007,     0.81007,     0.81007,     0.81007,     0.81007,\n",
            "            0.81007,     0.81007,     0.81007,     0.81007,     0.81007,     0.80883,     0.80778,     0.80264,     0.80072,      0.7998,     0.79888,     0.79536,     0.79405,     0.79405,     0.79405,     0.79405,     0.79405,     0.79405,     0.79405,     0.79292,     0.79176,     0.79176,     0.79176,\n",
            "            0.78947,     0.78947,     0.78887,     0.78719,     0.78719,     0.78671,     0.78624,     0.78576,     0.78529,      0.7849,      0.7849,      0.7849,      0.7849,      0.7849,      0.7849,      0.7849,      0.7849,      0.7849,      0.7849,      0.7849,      0.7849,      0.7849,      0.7849,\n",
            "             0.7849,      0.7849,     0.78461,     0.78381,       0.783,     0.78261,     0.78261,     0.78261,     0.78261,     0.78261,     0.78261,     0.78261,     0.78261,     0.78228,     0.78172,     0.78116,      0.7806,     0.78032,     0.78032,     0.78032,     0.78032,     0.77803,     0.77803,\n",
            "            0.77803,     0.77803,     0.77803,     0.77775,     0.77735,     0.77695,     0.77655,     0.77615,     0.77575,     0.77346,     0.77282,     0.76986,     0.76888,     0.76888,     0.76885,     0.76731,     0.76659,     0.76659,     0.76659,     0.76659,     0.76659,     0.76659,     0.76386,\n",
            "            0.76316,     0.76245,     0.75973,     0.75973,     0.75973,     0.75973,     0.75914,     0.75852,      0.7579,     0.75735,     0.75699,     0.75662,     0.75626,      0.7559,     0.75554,     0.75517,     0.75431,     0.75341,     0.75191,     0.74974,     0.74732,     0.74541,     0.74352,\n",
            "            0.74142,     0.74142,     0.74142,     0.74142,     0.74079,     0.73828,     0.73636,     0.73491,     0.73369,     0.73254,     0.73227,     0.73227,     0.73227,     0.73169,     0.73041,     0.72998,     0.72998,     0.72998,     0.72928,     0.72815,     0.72738,     0.72527,     0.72288,\n",
            "            0.72256,     0.72224,     0.72192,      0.7216,     0.72127,     0.72095,     0.71854,     0.71625,     0.71625,     0.71625,     0.71625,     0.71625,     0.71625,     0.71625,     0.71595,      0.7153,     0.71466,     0.71402,     0.71172,     0.71136,     0.71103,     0.71071,     0.71039,\n",
            "            0.71007,     0.70975,     0.70943,     0.70829,     0.70709,     0.70481,     0.70481,     0.70481,     0.70481,     0.70481,      0.7029,     0.70091,     0.69923,     0.69794,     0.69794,     0.69794,     0.69794,     0.69755,     0.69668,     0.69581,     0.69496,     0.69412,     0.69336,\n",
            "            0.69336,      0.6931,     0.69121,     0.68853,     0.68739,     0.68628,     0.68527,     0.68426,     0.68378,     0.68332,     0.68287,     0.68241,     0.68195,     0.67979,     0.67818,     0.67722,     0.67695,     0.67668,     0.67641,     0.67614,     0.67587,      0.6756,     0.67533,\n",
            "            0.67506,     0.67436,     0.67365,     0.67293,     0.67118,     0.66869,      0.6643,      0.6631,     0.66238,     0.66165,     0.66074,     0.65968,      0.6581,     0.65559,     0.65446,     0.65446,     0.65446,     0.65446,     0.65222,     0.65069,     0.64989,       0.649,      0.6476,\n",
            "            0.64531,     0.64531,     0.64531,     0.64478,     0.64379,     0.64302,     0.64302,     0.64069,      0.6402,     0.63972,     0.63924,     0.63876,     0.63831,     0.63793,     0.63755,     0.63717,     0.63679,      0.6364,      0.6359,     0.63517,     0.63444,     0.63387,     0.63166,\n",
            "            0.62929,     0.62929,     0.62668,     0.62607,     0.62547,     0.62487,     0.62407,     0.62321,     0.62233,     0.62124,     0.62015,     0.61768,     0.61731,     0.61694,     0.61656,     0.61619,     0.61582,     0.61301,     0.61137,      0.6087,      0.6087,      0.6087,      0.6087,\n",
            "             0.6087,      0.6087,      0.6087,     0.60868,     0.60815,     0.60761,     0.60708,     0.60655,     0.60531,     0.60396,     0.60311,     0.60227,     0.60155,     0.60096,     0.60037,     0.59979,     0.59903,     0.59815,     0.59726,      0.5966,     0.59593,     0.59527,     0.59381,\n",
            "            0.59212,     0.59093,     0.59015,     0.58971,     0.58927,     0.58883,      0.5884,     0.58788,     0.58719,     0.58649,      0.5858,     0.58518,     0.58456,     0.58393,     0.58267,      0.5782,     0.57633,     0.57593,     0.57554,     0.57515,     0.57475,     0.57433,      0.5731,\n",
            "             0.5717,     0.56957,     0.56795,     0.56621,     0.56522,     0.56378,     0.56241,      0.5611,     0.56064,     0.55782,     0.55578,     0.55293,     0.55087,     0.54952,     0.54859,     0.54779,     0.54699,     0.54423,     0.54262,     0.54191,     0.54139,     0.54087,     0.54035,\n",
            "            0.53982,     0.53928,     0.53873,     0.53819,     0.53745,     0.53595,     0.53486,     0.53397,     0.53307,     0.53213,     0.53118,     0.53078,     0.53062,     0.53046,     0.53029,     0.53013,     0.52997,     0.52981,     0.52965,     0.52948,     0.52932,     0.52916,       0.529,\n",
            "            0.52884,     0.52867,     0.52833,     0.52786,     0.52738,     0.52691,     0.52643,     0.52472,     0.52237,     0.51957,     0.51798,     0.51648,     0.51503,     0.51319,     0.51116,     0.50969,     0.50865,     0.50635,     0.50323,     0.50257,     0.50192,     0.50126,     0.50088,\n",
            "            0.50056,     0.50024,     0.49992,      0.4996,     0.49928,     0.49896,     0.49857,     0.49814,     0.49771,     0.49729,     0.49686,     0.49379,     0.49187,      0.4912,     0.49052,     0.48984,     0.48773,     0.48654,     0.48555,      0.4842,     0.48284,     0.48284,     0.48068,\n",
            "            0.47879,      0.4771,     0.47435,      0.4705,     0.46895,      0.4677,     0.46671,     0.46636,       0.466,     0.46565,     0.46529,     0.46494,     0.46458,     0.46057,     0.45897,     0.45765,     0.45684,     0.45603,     0.45473,     0.45269,     0.45186,     0.45103,     0.44914,\n",
            "            0.44692,     0.44557,     0.44461,     0.44298,     0.43978,     0.43399,     0.42855,     0.42714,     0.42618,     0.42532,     0.42461,     0.42391,     0.42321,     0.42254,     0.42188,     0.42121,     0.41948,     0.41763,     0.41329,      0.4099,     0.40916,     0.40867,     0.40818,\n",
            "             0.4077,     0.40725,     0.40692,      0.4066,     0.40628,     0.40596,     0.40564,     0.40531,     0.40456,     0.40192,     0.40033,     0.39912,     0.39784,     0.39634,      0.3953,     0.39447,     0.39364,     0.39256,     0.39148,     0.39095,     0.39053,     0.39011,      0.3897,\n",
            "            0.38928,     0.38872,     0.38792,     0.38713,     0.38471,     0.37962,     0.37709,      0.3752,     0.37405,     0.37206,     0.36976,     0.36869,      0.3677,     0.36674,     0.36136,     0.35988,      0.3571,     0.35665,      0.3563,     0.35596,     0.35562,     0.35527,     0.35493,\n",
            "            0.35183,     0.34817,     0.34572,     0.34417,     0.34233,     0.34052,     0.33952,     0.33849,     0.33734,     0.33606,     0.33411,     0.32845,     0.32461,     0.32369,     0.32276,     0.32201,     0.32127,     0.32054,     0.31569,     0.31502,     0.31436,     0.31369,     0.31038,\n",
            "             0.3083,     0.30749,     0.30669,     0.30567,     0.30465,     0.30169,     0.30097,     0.30026,     0.29931,      0.2979,     0.29713,     0.29607,     0.29504,     0.29412,      0.2932,     0.28781,     0.28499,     0.28303,     0.28223,      0.2814,     0.27906,     0.27713,     0.27612,\n",
            "            0.27525,     0.27437,     0.27352,     0.27266,     0.27001,     0.26908,     0.26816,     0.26725,     0.26638,      0.2655,     0.26371,     0.26177,     0.25994,      0.2576,     0.25272,     0.25124,     0.25062,     0.24999,     0.24888,     0.24592,     0.24311,     0.23989,     0.23805,\n",
            "            0.23449,     0.23283,     0.23208,     0.23133,     0.22625,     0.22429,      0.2178,       0.215,     0.21364,     0.21066,      0.2066,     0.20248,     0.20043,     0.19614,     0.19318,     0.18529,     0.18408,     0.18005,     0.17765,     0.17648,     0.17485,     0.17145,     0.17104,\n",
            "            0.17063,     0.17022,     0.16982,     0.16941,     0.16398,      0.1593,     0.15302,     0.15229,     0.15156,     0.14856,     0.14697,     0.14414,     0.14349,     0.14284,      0.1422,     0.14096,     0.13943,     0.13877,     0.13811,     0.13745,     0.13536,     0.13172,     0.12993,\n",
            "            0.12774,     0.12721,     0.12667,     0.12614,     0.12515,     0.12368,     0.12217,     0.11926,     0.11647,     0.11525,     0.11331,     0.11087,      0.1072,     0.10629,     0.10538,     0.10297,    0.098301,    0.097479,    0.096657,    0.095746,    0.094656,    0.093754,    0.093469,\n",
            "           0.093184,    0.092898,    0.092613,    0.092328,    0.092042,    0.091757,    0.090277,    0.088559,    0.087724,    0.086863,    0.085697,    0.084497,    0.083043,    0.079784,    0.078297,    0.077315,    0.076584,    0.075852,    0.075306,    0.074918,    0.074531,    0.074143,    0.073755,\n",
            "           0.073368,    0.072876,    0.072325,    0.071773,    0.071222,    0.070605,    0.069918,    0.069232,    0.068484,    0.067389,    0.066339,     0.06598,    0.065621,    0.065262,    0.064903,    0.064544,    0.064185,    0.063705,    0.063171,    0.062637,    0.062103,    0.061497,    0.060785,\n",
            "           0.060074,    0.059359,     0.05863,      0.0579,    0.054804,    0.045481,    0.044436,    0.043439,    0.042973,    0.042506,     0.04204,    0.041573,    0.040992,    0.039882,    0.038832,    0.038232,    0.037632,    0.037032,    0.033289,     0.03003,    0.025682,    0.023659,    0.019988,\n",
            "           0.018963,    0.015878,    0.015257,    0.014636,    0.014015,     0.01334,    0.012622,    0.011903,   0.0088949,   0.0076734,   0.0059513,   0.0044634,   0.0042329,   0.0040024,   0.0037719,   0.0035414,   0.0033109,   0.0030804,   0.0028498,   0.0026193,   0.0023888,           0,           0,\n",
            "                  0,           0,           0,           0,           0,           0,           0,           0,           0,           0,           0]]), 'Confidence', 'Recall']]\n",
            "fitness: 0.6486048643492583\n",
            "keys: ['metrics/precision(B)', 'metrics/recall(B)', 'metrics/mAP50(B)', 'metrics/mAP50-95(B)']\n",
            "maps: array([    0.62357])\n",
            "names: {0: 'person'}\n",
            "plot: True\n",
            "results_dict: {'metrics/precision(B)': 0.8663115073428839, 'metrics/recall(B)': 0.7803203661327232, 'metrics/mAP50(B)': 0.8739545288410859, 'metrics/mAP50-95(B)': 0.6235660127390552, 'fitness': 0.6486048643492583}\n",
            "save_dir: PosixPath('runs/detect/train2')\n",
            "speed: {'preprocess': 0.30172438848586314, 'inference': 37.561132794334775, 'loss': 0.001385098411923363, 'postprocess': 12.441135588146391}\n",
            "task: 'detect'\n"
          ]
        }
      ]
    },
    {
      "cell_type": "code",
      "source": [
        "from google.colab import drive\n",
        "drive.mount('/content/drive')"
      ],
      "metadata": {
        "colab": {
          "base_uri": "https://localhost:8080/"
        },
        "id": "j0IaIy5hnX6d",
        "outputId": "d5d14a22-6795-4b46-84a4-b64f56e4e250"
      },
      "execution_count": null,
      "outputs": [
        {
          "output_type": "stream",
          "name": "stdout",
          "text": [
            "Drive already mounted at /content/drive; to attempt to forcibly remount, call drive.mount(\"/content/drive\", force_remount=True).\n"
          ]
        }
      ]
    },
    {
      "cell_type": "code",
      "source": [
        "results = model.predict('/content/drive/MyDrive/xyz.mp4')"
      ],
      "metadata": {
        "colab": {
          "base_uri": "https://localhost:8080/"
        },
        "id": "GWsgr6yFyfbr",
        "outputId": "21dee7b8-2963-47b2-dfb4-b876e9583a56"
      },
      "execution_count": null,
      "outputs": [
        {
          "output_type": "stream",
          "name": "stdout",
          "text": [
            "\n",
            "\n",
            "WARNING ⚠️ inference results will accumulate in RAM unless `stream=True` is passed, causing potential out-of-memory\n",
            "errors for large sources or long-running streams and videos. See https://docs.ultralytics.com/modes/predict/ for help.\n",
            "\n",
            "Example:\n",
            "    results = model(source=..., stream=True)  # generator of Results objects\n",
            "    for r in results:\n",
            "        boxes = r.boxes  # Boxes object for bbox outputs\n",
            "        masks = r.masks  # Masks object for segment masks outputs\n",
            "        probs = r.probs  # Class probabilities for classification outputs\n",
            "\n",
            "video 1/1 (frame 1/450) /content/drive/MyDrive/xyz.mp4: 384x640 25 persons, 52.5ms\n",
            "video 1/1 (frame 2/450) /content/drive/MyDrive/xyz.mp4: 384x640 29 persons, 50.1ms\n",
            "video 1/1 (frame 3/450) /content/drive/MyDrive/xyz.mp4: 384x640 27 persons, 52.6ms\n",
            "video 1/1 (frame 4/450) /content/drive/MyDrive/xyz.mp4: 384x640 25 persons, 39.5ms\n",
            "video 1/1 (frame 5/450) /content/drive/MyDrive/xyz.mp4: 384x640 24 persons, 73.7ms\n",
            "video 1/1 (frame 6/450) /content/drive/MyDrive/xyz.mp4: 384x640 26 persons, 40.2ms\n",
            "video 1/1 (frame 7/450) /content/drive/MyDrive/xyz.mp4: 384x640 26 persons, 63.2ms\n",
            "video 1/1 (frame 8/450) /content/drive/MyDrive/xyz.mp4: 384x640 26 persons, 49.1ms\n",
            "video 1/1 (frame 9/450) /content/drive/MyDrive/xyz.mp4: 384x640 23 persons, 25.0ms\n",
            "video 1/1 (frame 10/450) /content/drive/MyDrive/xyz.mp4: 384x640 25 persons, 37.3ms\n",
            "video 1/1 (frame 11/450) /content/drive/MyDrive/xyz.mp4: 384x640 23 persons, 51.3ms\n",
            "video 1/1 (frame 12/450) /content/drive/MyDrive/xyz.mp4: 384x640 22 persons, 82.9ms\n",
            "video 1/1 (frame 13/450) /content/drive/MyDrive/xyz.mp4: 384x640 24 persons, 43.2ms\n",
            "video 1/1 (frame 14/450) /content/drive/MyDrive/xyz.mp4: 384x640 24 persons, 58.3ms\n",
            "video 1/1 (frame 15/450) /content/drive/MyDrive/xyz.mp4: 384x640 25 persons, 26.7ms\n",
            "video 1/1 (frame 16/450) /content/drive/MyDrive/xyz.mp4: 384x640 26 persons, 45.2ms\n",
            "video 1/1 (frame 17/450) /content/drive/MyDrive/xyz.mp4: 384x640 23 persons, 30.0ms\n",
            "video 1/1 (frame 18/450) /content/drive/MyDrive/xyz.mp4: 384x640 22 persons, 27.0ms\n",
            "video 1/1 (frame 19/450) /content/drive/MyDrive/xyz.mp4: 384x640 25 persons, 23.1ms\n",
            "video 1/1 (frame 20/450) /content/drive/MyDrive/xyz.mp4: 384x640 22 persons, 27.3ms\n",
            "video 1/1 (frame 21/450) /content/drive/MyDrive/xyz.mp4: 384x640 24 persons, 25.1ms\n",
            "video 1/1 (frame 22/450) /content/drive/MyDrive/xyz.mp4: 384x640 24 persons, 26.9ms\n",
            "video 1/1 (frame 23/450) /content/drive/MyDrive/xyz.mp4: 384x640 23 persons, 29.4ms\n",
            "video 1/1 (frame 24/450) /content/drive/MyDrive/xyz.mp4: 384x640 27 persons, 18.1ms\n",
            "video 1/1 (frame 25/450) /content/drive/MyDrive/xyz.mp4: 384x640 27 persons, 34.2ms\n",
            "video 1/1 (frame 26/450) /content/drive/MyDrive/xyz.mp4: 384x640 29 persons, 25.6ms\n",
            "video 1/1 (frame 27/450) /content/drive/MyDrive/xyz.mp4: 384x640 28 persons, 27.6ms\n",
            "video 1/1 (frame 28/450) /content/drive/MyDrive/xyz.mp4: 384x640 28 persons, 33.9ms\n",
            "video 1/1 (frame 29/450) /content/drive/MyDrive/xyz.mp4: 384x640 27 persons, 28.3ms\n",
            "video 1/1 (frame 30/450) /content/drive/MyDrive/xyz.mp4: 384x640 26 persons, 25.0ms\n",
            "video 1/1 (frame 31/450) /content/drive/MyDrive/xyz.mp4: 384x640 25 persons, 28.1ms\n",
            "video 1/1 (frame 32/450) /content/drive/MyDrive/xyz.mp4: 384x640 27 persons, 19.7ms\n",
            "video 1/1 (frame 33/450) /content/drive/MyDrive/xyz.mp4: 384x640 23 persons, 15.4ms\n",
            "video 1/1 (frame 34/450) /content/drive/MyDrive/xyz.mp4: 384x640 24 persons, 39.5ms\n",
            "video 1/1 (frame 35/450) /content/drive/MyDrive/xyz.mp4: 384x640 20 persons, 35.4ms\n",
            "video 1/1 (frame 36/450) /content/drive/MyDrive/xyz.mp4: 384x640 22 persons, 26.8ms\n",
            "video 1/1 (frame 37/450) /content/drive/MyDrive/xyz.mp4: 384x640 18 persons, 23.3ms\n",
            "video 1/1 (frame 38/450) /content/drive/MyDrive/xyz.mp4: 384x640 21 persons, 30.0ms\n",
            "video 1/1 (frame 39/450) /content/drive/MyDrive/xyz.mp4: 384x640 20 persons, 35.7ms\n",
            "video 1/1 (frame 40/450) /content/drive/MyDrive/xyz.mp4: 384x640 20 persons, 39.3ms\n",
            "video 1/1 (frame 41/450) /content/drive/MyDrive/xyz.mp4: 384x640 17 persons, 32.9ms\n",
            "video 1/1 (frame 42/450) /content/drive/MyDrive/xyz.mp4: 384x640 17 persons, 28.1ms\n",
            "video 1/1 (frame 43/450) /content/drive/MyDrive/xyz.mp4: 384x640 23 persons, 44.6ms\n",
            "video 1/1 (frame 44/450) /content/drive/MyDrive/xyz.mp4: 384x640 18 persons, 39.1ms\n",
            "video 1/1 (frame 45/450) /content/drive/MyDrive/xyz.mp4: 384x640 19 persons, 38.7ms\n",
            "video 1/1 (frame 46/450) /content/drive/MyDrive/xyz.mp4: 384x640 21 persons, 85.2ms\n",
            "video 1/1 (frame 47/450) /content/drive/MyDrive/xyz.mp4: 384x640 20 persons, 63.8ms\n",
            "video 1/1 (frame 48/450) /content/drive/MyDrive/xyz.mp4: 384x640 21 persons, 25.8ms\n",
            "video 1/1 (frame 49/450) /content/drive/MyDrive/xyz.mp4: 384x640 23 persons, 23.5ms\n",
            "video 1/1 (frame 50/450) /content/drive/MyDrive/xyz.mp4: 384x640 22 persons, 24.0ms\n",
            "video 1/1 (frame 51/450) /content/drive/MyDrive/xyz.mp4: 384x640 20 persons, 34.7ms\n",
            "video 1/1 (frame 52/450) /content/drive/MyDrive/xyz.mp4: 384x640 23 persons, 29.0ms\n",
            "video 1/1 (frame 53/450) /content/drive/MyDrive/xyz.mp4: 384x640 27 persons, 25.0ms\n",
            "video 1/1 (frame 54/450) /content/drive/MyDrive/xyz.mp4: 384x640 26 persons, 26.0ms\n",
            "video 1/1 (frame 55/450) /content/drive/MyDrive/xyz.mp4: 384x640 21 persons, 41.7ms\n",
            "video 1/1 (frame 56/450) /content/drive/MyDrive/xyz.mp4: 384x640 20 persons, 31.7ms\n",
            "video 1/1 (frame 57/450) /content/drive/MyDrive/xyz.mp4: 384x640 19 persons, 32.5ms\n",
            "video 1/1 (frame 58/450) /content/drive/MyDrive/xyz.mp4: 384x640 19 persons, 32.4ms\n",
            "video 1/1 (frame 59/450) /content/drive/MyDrive/xyz.mp4: 384x640 23 persons, 29.9ms\n",
            "video 1/1 (frame 60/450) /content/drive/MyDrive/xyz.mp4: 384x640 25 persons, 27.2ms\n",
            "video 1/1 (frame 61/450) /content/drive/MyDrive/xyz.mp4: 384x640 25 persons, 32.0ms\n",
            "video 1/1 (frame 62/450) /content/drive/MyDrive/xyz.mp4: 384x640 23 persons, 22.2ms\n",
            "video 1/1 (frame 63/450) /content/drive/MyDrive/xyz.mp4: 384x640 24 persons, 35.7ms\n",
            "video 1/1 (frame 64/450) /content/drive/MyDrive/xyz.mp4: 384x640 21 persons, 35.7ms\n",
            "video 1/1 (frame 65/450) /content/drive/MyDrive/xyz.mp4: 384x640 24 persons, 24.8ms\n",
            "video 1/1 (frame 66/450) /content/drive/MyDrive/xyz.mp4: 384x640 20 persons, 39.6ms\n",
            "video 1/1 (frame 67/450) /content/drive/MyDrive/xyz.mp4: 384x640 21 persons, 33.2ms\n",
            "video 1/1 (frame 68/450) /content/drive/MyDrive/xyz.mp4: 384x640 19 persons, 25.9ms\n",
            "video 1/1 (frame 69/450) /content/drive/MyDrive/xyz.mp4: 384x640 21 persons, 33.0ms\n",
            "video 1/1 (frame 70/450) /content/drive/MyDrive/xyz.mp4: 384x640 21 persons, 30.9ms\n",
            "video 1/1 (frame 71/450) /content/drive/MyDrive/xyz.mp4: 384x640 22 persons, 59.5ms\n",
            "video 1/1 (frame 72/450) /content/drive/MyDrive/xyz.mp4: 384x640 23 persons, 31.2ms\n",
            "video 1/1 (frame 73/450) /content/drive/MyDrive/xyz.mp4: 384x640 25 persons, 27.9ms\n",
            "video 1/1 (frame 74/450) /content/drive/MyDrive/xyz.mp4: 384x640 24 persons, 24.5ms\n",
            "video 1/1 (frame 75/450) /content/drive/MyDrive/xyz.mp4: 384x640 23 persons, 27.0ms\n",
            "video 1/1 (frame 76/450) /content/drive/MyDrive/xyz.mp4: 384x640 22 persons, 29.1ms\n",
            "video 1/1 (frame 77/450) /content/drive/MyDrive/xyz.mp4: 384x640 24 persons, 25.0ms\n",
            "video 1/1 (frame 78/450) /content/drive/MyDrive/xyz.mp4: 384x640 21 persons, 36.4ms\n",
            "video 1/1 (frame 79/450) /content/drive/MyDrive/xyz.mp4: 384x640 21 persons, 27.9ms\n",
            "video 1/1 (frame 80/450) /content/drive/MyDrive/xyz.mp4: 384x640 25 persons, 23.1ms\n",
            "video 1/1 (frame 81/450) /content/drive/MyDrive/xyz.mp4: 384x640 21 persons, 30.4ms\n",
            "video 1/1 (frame 82/450) /content/drive/MyDrive/xyz.mp4: 384x640 23 persons, 30.8ms\n",
            "video 1/1 (frame 83/450) /content/drive/MyDrive/xyz.mp4: 384x640 20 persons, 42.9ms\n",
            "video 1/1 (frame 84/450) /content/drive/MyDrive/xyz.mp4: 384x640 21 persons, 35.0ms\n",
            "video 1/1 (frame 85/450) /content/drive/MyDrive/xyz.mp4: 384x640 19 persons, 23.7ms\n",
            "video 1/1 (frame 86/450) /content/drive/MyDrive/xyz.mp4: 384x640 20 persons, 33.5ms\n",
            "video 1/1 (frame 87/450) /content/drive/MyDrive/xyz.mp4: 384x640 21 persons, 26.5ms\n",
            "video 1/1 (frame 88/450) /content/drive/MyDrive/xyz.mp4: 384x640 25 persons, 30.0ms\n",
            "video 1/1 (frame 89/450) /content/drive/MyDrive/xyz.mp4: 384x640 23 persons, 59.4ms\n",
            "video 1/1 (frame 90/450) /content/drive/MyDrive/xyz.mp4: 384x640 22 persons, 36.3ms\n",
            "video 1/1 (frame 91/450) /content/drive/MyDrive/xyz.mp4: 384x640 20 persons, 34.3ms\n",
            "video 1/1 (frame 92/450) /content/drive/MyDrive/xyz.mp4: 384x640 19 persons, 33.9ms\n",
            "video 1/1 (frame 93/450) /content/drive/MyDrive/xyz.mp4: 384x640 21 persons, 28.3ms\n",
            "video 1/1 (frame 94/450) /content/drive/MyDrive/xyz.mp4: 384x640 20 persons, 27.4ms\n",
            "video 1/1 (frame 95/450) /content/drive/MyDrive/xyz.mp4: 384x640 17 persons, 28.8ms\n",
            "video 1/1 (frame 96/450) /content/drive/MyDrive/xyz.mp4: 384x640 20 persons, 30.6ms\n",
            "video 1/1 (frame 97/450) /content/drive/MyDrive/xyz.mp4: 384x640 23 persons, 36.0ms\n",
            "video 1/1 (frame 98/450) /content/drive/MyDrive/xyz.mp4: 384x640 21 persons, 34.7ms\n",
            "video 1/1 (frame 99/450) /content/drive/MyDrive/xyz.mp4: 384x640 19 persons, 38.9ms\n",
            "video 1/1 (frame 100/450) /content/drive/MyDrive/xyz.mp4: 384x640 20 persons, 35.9ms\n",
            "video 1/1 (frame 101/450) /content/drive/MyDrive/xyz.mp4: 384x640 21 persons, 31.7ms\n",
            "video 1/1 (frame 102/450) /content/drive/MyDrive/xyz.mp4: 384x640 22 persons, 31.8ms\n",
            "video 1/1 (frame 103/450) /content/drive/MyDrive/xyz.mp4: 384x640 18 persons, 33.6ms\n",
            "video 1/1 (frame 104/450) /content/drive/MyDrive/xyz.mp4: 384x640 19 persons, 20.6ms\n",
            "video 1/1 (frame 105/450) /content/drive/MyDrive/xyz.mp4: 384x640 21 persons, 30.4ms\n",
            "video 1/1 (frame 106/450) /content/drive/MyDrive/xyz.mp4: 384x640 22 persons, 47.7ms\n",
            "video 1/1 (frame 107/450) /content/drive/MyDrive/xyz.mp4: 384x640 27 persons, 26.0ms\n",
            "video 1/1 (frame 108/450) /content/drive/MyDrive/xyz.mp4: 384x640 29 persons, 36.2ms\n",
            "video 1/1 (frame 109/450) /content/drive/MyDrive/xyz.mp4: 384x640 23 persons, 31.3ms\n",
            "video 1/1 (frame 110/450) /content/drive/MyDrive/xyz.mp4: 384x640 21 persons, 27.5ms\n",
            "video 1/1 (frame 111/450) /content/drive/MyDrive/xyz.mp4: 384x640 22 persons, 22.8ms\n",
            "video 1/1 (frame 112/450) /content/drive/MyDrive/xyz.mp4: 384x640 18 persons, 37.2ms\n",
            "video 1/1 (frame 113/450) /content/drive/MyDrive/xyz.mp4: 384x640 21 persons, 33.9ms\n",
            "video 1/1 (frame 114/450) /content/drive/MyDrive/xyz.mp4: 384x640 21 persons, 40.7ms\n",
            "video 1/1 (frame 115/450) /content/drive/MyDrive/xyz.mp4: 384x640 20 persons, 39.4ms\n",
            "video 1/1 (frame 116/450) /content/drive/MyDrive/xyz.mp4: 384x640 20 persons, 43.6ms\n",
            "video 1/1 (frame 117/450) /content/drive/MyDrive/xyz.mp4: 384x640 19 persons, 44.0ms\n",
            "video 1/1 (frame 118/450) /content/drive/MyDrive/xyz.mp4: 384x640 23 persons, 20.0ms\n",
            "video 1/1 (frame 119/450) /content/drive/MyDrive/xyz.mp4: 384x640 22 persons, 31.5ms\n",
            "video 1/1 (frame 120/450) /content/drive/MyDrive/xyz.mp4: 384x640 21 persons, 41.2ms\n",
            "video 1/1 (frame 121/450) /content/drive/MyDrive/xyz.mp4: 384x640 20 persons, 32.3ms\n",
            "video 1/1 (frame 122/450) /content/drive/MyDrive/xyz.mp4: 384x640 21 persons, 50.6ms\n",
            "video 1/1 (frame 123/450) /content/drive/MyDrive/xyz.mp4: 384x640 21 persons, 34.6ms\n",
            "video 1/1 (frame 124/450) /content/drive/MyDrive/xyz.mp4: 384x640 21 persons, 36.6ms\n",
            "video 1/1 (frame 125/450) /content/drive/MyDrive/xyz.mp4: 384x640 19 persons, 37.3ms\n",
            "video 1/1 (frame 126/450) /content/drive/MyDrive/xyz.mp4: 384x640 22 persons, 39.7ms\n",
            "video 1/1 (frame 127/450) /content/drive/MyDrive/xyz.mp4: 384x640 20 persons, 29.9ms\n",
            "video 1/1 (frame 128/450) /content/drive/MyDrive/xyz.mp4: 384x640 18 persons, 25.6ms\n",
            "video 1/1 (frame 129/450) /content/drive/MyDrive/xyz.mp4: 384x640 18 persons, 36.9ms\n",
            "video 1/1 (frame 130/450) /content/drive/MyDrive/xyz.mp4: 384x640 20 persons, 36.2ms\n",
            "video 1/1 (frame 131/450) /content/drive/MyDrive/xyz.mp4: 384x640 25 persons, 30.2ms\n",
            "video 1/1 (frame 132/450) /content/drive/MyDrive/xyz.mp4: 384x640 21 persons, 34.4ms\n",
            "video 1/1 (frame 133/450) /content/drive/MyDrive/xyz.mp4: 384x640 21 persons, 35.9ms\n",
            "video 1/1 (frame 134/450) /content/drive/MyDrive/xyz.mp4: 384x640 20 persons, 42.0ms\n",
            "video 1/1 (frame 135/450) /content/drive/MyDrive/xyz.mp4: 384x640 18 persons, 29.0ms\n",
            "video 1/1 (frame 136/450) /content/drive/MyDrive/xyz.mp4: 384x640 20 persons, 44.5ms\n",
            "video 1/1 (frame 137/450) /content/drive/MyDrive/xyz.mp4: 384x640 21 persons, 37.7ms\n",
            "video 1/1 (frame 138/450) /content/drive/MyDrive/xyz.mp4: 384x640 20 persons, 31.7ms\n",
            "video 1/1 (frame 139/450) /content/drive/MyDrive/xyz.mp4: 384x640 20 persons, 40.0ms\n",
            "video 1/1 (frame 140/450) /content/drive/MyDrive/xyz.mp4: 384x640 19 persons, 38.2ms\n",
            "video 1/1 (frame 141/450) /content/drive/MyDrive/xyz.mp4: 384x640 17 persons, 31.7ms\n",
            "video 1/1 (frame 142/450) /content/drive/MyDrive/xyz.mp4: 384x640 21 persons, 39.1ms\n",
            "video 1/1 (frame 143/450) /content/drive/MyDrive/xyz.mp4: 384x640 20 persons, 47.4ms\n",
            "video 1/1 (frame 144/450) /content/drive/MyDrive/xyz.mp4: 384x640 25 persons, 42.5ms\n",
            "video 1/1 (frame 145/450) /content/drive/MyDrive/xyz.mp4: 384x640 26 persons, 27.7ms\n",
            "video 1/1 (frame 146/450) /content/drive/MyDrive/xyz.mp4: 384x640 28 persons, 28.4ms\n",
            "video 1/1 (frame 147/450) /content/drive/MyDrive/xyz.mp4: 384x640 29 persons, 39.6ms\n",
            "video 1/1 (frame 148/450) /content/drive/MyDrive/xyz.mp4: 384x640 23 persons, 33.4ms\n",
            "video 1/1 (frame 149/450) /content/drive/MyDrive/xyz.mp4: 384x640 24 persons, 28.9ms\n",
            "video 1/1 (frame 150/450) /content/drive/MyDrive/xyz.mp4: 384x640 23 persons, 46.3ms\n",
            "video 1/1 (frame 151/450) /content/drive/MyDrive/xyz.mp4: 384x640 25 persons, 37.3ms\n",
            "video 1/1 (frame 152/450) /content/drive/MyDrive/xyz.mp4: 384x640 25 persons, 32.9ms\n",
            "video 1/1 (frame 153/450) /content/drive/MyDrive/xyz.mp4: 384x640 19 persons, 33.9ms\n",
            "video 1/1 (frame 154/450) /content/drive/MyDrive/xyz.mp4: 384x640 16 persons, 12.0ms\n",
            "video 1/1 (frame 155/450) /content/drive/MyDrive/xyz.mp4: 384x640 19 persons, 16.5ms\n",
            "video 1/1 (frame 156/450) /content/drive/MyDrive/xyz.mp4: 384x640 20 persons, 32.6ms\n",
            "video 1/1 (frame 157/450) /content/drive/MyDrive/xyz.mp4: 384x640 20 persons, 11.7ms\n",
            "video 1/1 (frame 158/450) /content/drive/MyDrive/xyz.mp4: 384x640 23 persons, 12.8ms\n",
            "video 1/1 (frame 159/450) /content/drive/MyDrive/xyz.mp4: 384x640 20 persons, 28.9ms\n",
            "video 1/1 (frame 160/450) /content/drive/MyDrive/xyz.mp4: 384x640 23 persons, 22.1ms\n",
            "video 1/1 (frame 161/450) /content/drive/MyDrive/xyz.mp4: 384x640 24 persons, 14.9ms\n",
            "video 1/1 (frame 162/450) /content/drive/MyDrive/xyz.mp4: 384x640 25 persons, 11.6ms\n",
            "video 1/1 (frame 163/450) /content/drive/MyDrive/xyz.mp4: 384x640 23 persons, 11.2ms\n",
            "video 1/1 (frame 164/450) /content/drive/MyDrive/xyz.mp4: 384x640 23 persons, 11.8ms\n",
            "video 1/1 (frame 165/450) /content/drive/MyDrive/xyz.mp4: 384x640 25 persons, 11.3ms\n",
            "video 1/1 (frame 166/450) /content/drive/MyDrive/xyz.mp4: 384x640 21 persons, 11.4ms\n",
            "video 1/1 (frame 167/450) /content/drive/MyDrive/xyz.mp4: 384x640 24 persons, 14.0ms\n",
            "video 1/1 (frame 168/450) /content/drive/MyDrive/xyz.mp4: 384x640 25 persons, 11.7ms\n",
            "video 1/1 (frame 169/450) /content/drive/MyDrive/xyz.mp4: 384x640 22 persons, 19.4ms\n",
            "video 1/1 (frame 170/450) /content/drive/MyDrive/xyz.mp4: 384x640 23 persons, 35.3ms\n",
            "video 1/1 (frame 171/450) /content/drive/MyDrive/xyz.mp4: 384x640 22 persons, 33.9ms\n",
            "video 1/1 (frame 172/450) /content/drive/MyDrive/xyz.mp4: 384x640 18 persons, 35.6ms\n",
            "video 1/1 (frame 173/450) /content/drive/MyDrive/xyz.mp4: 384x640 20 persons, 35.4ms\n",
            "video 1/1 (frame 174/450) /content/drive/MyDrive/xyz.mp4: 384x640 20 persons, 41.5ms\n",
            "video 1/1 (frame 175/450) /content/drive/MyDrive/xyz.mp4: 384x640 20 persons, 37.5ms\n",
            "video 1/1 (frame 176/450) /content/drive/MyDrive/xyz.mp4: 384x640 19 persons, 56.1ms\n",
            "video 1/1 (frame 177/450) /content/drive/MyDrive/xyz.mp4: 384x640 19 persons, 45.7ms\n",
            "video 1/1 (frame 178/450) /content/drive/MyDrive/xyz.mp4: 384x640 20 persons, 10.0ms\n",
            "video 1/1 (frame 179/450) /content/drive/MyDrive/xyz.mp4: 384x640 18 persons, 51.8ms\n",
            "video 1/1 (frame 180/450) /content/drive/MyDrive/xyz.mp4: 384x640 18 persons, 17.1ms\n",
            "video 1/1 (frame 181/450) /content/drive/MyDrive/xyz.mp4: 384x640 20 persons, 19.9ms\n",
            "video 1/1 (frame 182/450) /content/drive/MyDrive/xyz.mp4: 384x640 21 persons, 12.8ms\n",
            "video 1/1 (frame 183/450) /content/drive/MyDrive/xyz.mp4: 384x640 20 persons, 23.8ms\n",
            "video 1/1 (frame 184/450) /content/drive/MyDrive/xyz.mp4: 384x640 17 persons, 11.8ms\n",
            "video 1/1 (frame 185/450) /content/drive/MyDrive/xyz.mp4: 384x640 22 persons, 33.9ms\n",
            "video 1/1 (frame 186/450) /content/drive/MyDrive/xyz.mp4: 384x640 20 persons, 50.7ms\n",
            "video 1/1 (frame 187/450) /content/drive/MyDrive/xyz.mp4: 384x640 21 persons, 50.3ms\n",
            "video 1/1 (frame 188/450) /content/drive/MyDrive/xyz.mp4: 384x640 26 persons, 32.8ms\n",
            "video 1/1 (frame 189/450) /content/drive/MyDrive/xyz.mp4: 384x640 21 persons, 42.6ms\n",
            "video 1/1 (frame 190/450) /content/drive/MyDrive/xyz.mp4: 384x640 19 persons, 11.9ms\n",
            "video 1/1 (frame 191/450) /content/drive/MyDrive/xyz.mp4: 384x640 21 persons, 11.7ms\n",
            "video 1/1 (frame 192/450) /content/drive/MyDrive/xyz.mp4: 384x640 19 persons, 11.5ms\n",
            "video 1/1 (frame 193/450) /content/drive/MyDrive/xyz.mp4: 384x640 21 persons, 11.7ms\n",
            "video 1/1 (frame 194/450) /content/drive/MyDrive/xyz.mp4: 384x640 19 persons, 11.5ms\n",
            "video 1/1 (frame 195/450) /content/drive/MyDrive/xyz.mp4: 384x640 17 persons, 10.9ms\n",
            "video 1/1 (frame 196/450) /content/drive/MyDrive/xyz.mp4: 384x640 22 persons, 11.4ms\n",
            "video 1/1 (frame 197/450) /content/drive/MyDrive/xyz.mp4: 384x640 21 persons, 11.3ms\n",
            "video 1/1 (frame 198/450) /content/drive/MyDrive/xyz.mp4: 384x640 22 persons, 11.7ms\n",
            "video 1/1 (frame 199/450) /content/drive/MyDrive/xyz.mp4: 384x640 20 persons, 11.2ms\n",
            "video 1/1 (frame 200/450) /content/drive/MyDrive/xyz.mp4: 384x640 15 persons, 11.5ms\n",
            "video 1/1 (frame 201/450) /content/drive/MyDrive/xyz.mp4: 384x640 16 persons, 11.6ms\n",
            "video 1/1 (frame 202/450) /content/drive/MyDrive/xyz.mp4: 384x640 14 persons, 12.4ms\n",
            "video 1/1 (frame 203/450) /content/drive/MyDrive/xyz.mp4: 384x640 16 persons, 11.4ms\n",
            "video 1/1 (frame 204/450) /content/drive/MyDrive/xyz.mp4: 384x640 17 persons, 11.7ms\n",
            "video 1/1 (frame 205/450) /content/drive/MyDrive/xyz.mp4: 384x640 18 persons, 10.7ms\n",
            "video 1/1 (frame 206/450) /content/drive/MyDrive/xyz.mp4: 384x640 17 persons, 11.4ms\n",
            "video 1/1 (frame 207/450) /content/drive/MyDrive/xyz.mp4: 384x640 19 persons, 11.5ms\n",
            "video 1/1 (frame 208/450) /content/drive/MyDrive/xyz.mp4: 384x640 18 persons, 26.3ms\n",
            "video 1/1 (frame 209/450) /content/drive/MyDrive/xyz.mp4: 384x640 19 persons, 22.4ms\n",
            "video 1/1 (frame 210/450) /content/drive/MyDrive/xyz.mp4: 384x640 17 persons, 21.7ms\n",
            "video 1/1 (frame 211/450) /content/drive/MyDrive/xyz.mp4: 384x640 18 persons, 23.1ms\n",
            "video 1/1 (frame 212/450) /content/drive/MyDrive/xyz.mp4: 384x640 18 persons, 11.6ms\n",
            "video 1/1 (frame 213/450) /content/drive/MyDrive/xyz.mp4: 384x640 16 persons, 10.0ms\n",
            "video 1/1 (frame 214/450) /content/drive/MyDrive/xyz.mp4: 384x640 13 persons, 11.2ms\n",
            "video 1/1 (frame 215/450) /content/drive/MyDrive/xyz.mp4: 384x640 12 persons, 11.7ms\n",
            "video 1/1 (frame 216/450) /content/drive/MyDrive/xyz.mp4: 384x640 16 persons, 11.5ms\n",
            "video 1/1 (frame 217/450) /content/drive/MyDrive/xyz.mp4: 384x640 16 persons, 11.5ms\n",
            "video 1/1 (frame 218/450) /content/drive/MyDrive/xyz.mp4: 384x640 18 persons, 11.4ms\n",
            "video 1/1 (frame 219/450) /content/drive/MyDrive/xyz.mp4: 384x640 15 persons, 11.7ms\n",
            "video 1/1 (frame 220/450) /content/drive/MyDrive/xyz.mp4: 384x640 18 persons, 11.6ms\n",
            "video 1/1 (frame 221/450) /content/drive/MyDrive/xyz.mp4: 384x640 18 persons, 11.6ms\n",
            "video 1/1 (frame 222/450) /content/drive/MyDrive/xyz.mp4: 384x640 18 persons, 11.5ms\n",
            "video 1/1 (frame 223/450) /content/drive/MyDrive/xyz.mp4: 384x640 20 persons, 11.5ms\n",
            "video 1/1 (frame 224/450) /content/drive/MyDrive/xyz.mp4: 384x640 19 persons, 11.6ms\n",
            "video 1/1 (frame 225/450) /content/drive/MyDrive/xyz.mp4: 384x640 19 persons, 11.5ms\n",
            "video 1/1 (frame 226/450) /content/drive/MyDrive/xyz.mp4: 384x640 19 persons, 35.5ms\n",
            "video 1/1 (frame 227/450) /content/drive/MyDrive/xyz.mp4: 384x640 17 persons, 11.6ms\n",
            "video 1/1 (frame 228/450) /content/drive/MyDrive/xyz.mp4: 384x640 19 persons, 11.4ms\n",
            "video 1/1 (frame 229/450) /content/drive/MyDrive/xyz.mp4: 384x640 18 persons, 12.0ms\n",
            "video 1/1 (frame 230/450) /content/drive/MyDrive/xyz.mp4: 384x640 20 persons, 11.5ms\n",
            "video 1/1 (frame 231/450) /content/drive/MyDrive/xyz.mp4: 384x640 18 persons, 11.3ms\n",
            "video 1/1 (frame 232/450) /content/drive/MyDrive/xyz.mp4: 384x640 17 persons, 45.6ms\n",
            "video 1/1 (frame 233/450) /content/drive/MyDrive/xyz.mp4: 384x640 20 persons, 12.7ms\n",
            "video 1/1 (frame 234/450) /content/drive/MyDrive/xyz.mp4: 384x640 20 persons, 12.0ms\n",
            "video 1/1 (frame 235/450) /content/drive/MyDrive/xyz.mp4: 384x640 18 persons, 11.9ms\n",
            "video 1/1 (frame 236/450) /content/drive/MyDrive/xyz.mp4: 384x640 17 persons, 12.1ms\n",
            "video 1/1 (frame 237/450) /content/drive/MyDrive/xyz.mp4: 384x640 20 persons, 11.9ms\n",
            "video 1/1 (frame 238/450) /content/drive/MyDrive/xyz.mp4: 384x640 19 persons, 12.0ms\n",
            "video 1/1 (frame 239/450) /content/drive/MyDrive/xyz.mp4: 384x640 19 persons, 12.6ms\n",
            "video 1/1 (frame 240/450) /content/drive/MyDrive/xyz.mp4: 384x640 20 persons, 23.8ms\n",
            "video 1/1 (frame 241/450) /content/drive/MyDrive/xyz.mp4: 384x640 21 persons, 18.8ms\n",
            "video 1/1 (frame 242/450) /content/drive/MyDrive/xyz.mp4: 384x640 22 persons, 13.9ms\n",
            "video 1/1 (frame 243/450) /content/drive/MyDrive/xyz.mp4: 384x640 23 persons, 15.8ms\n",
            "video 1/1 (frame 244/450) /content/drive/MyDrive/xyz.mp4: 384x640 20 persons, 13.9ms\n",
            "video 1/1 (frame 245/450) /content/drive/MyDrive/xyz.mp4: 384x640 21 persons, 14.0ms\n",
            "video 1/1 (frame 246/450) /content/drive/MyDrive/xyz.mp4: 384x640 22 persons, 13.6ms\n",
            "video 1/1 (frame 247/450) /content/drive/MyDrive/xyz.mp4: 384x640 21 persons, 12.2ms\n",
            "video 1/1 (frame 248/450) /content/drive/MyDrive/xyz.mp4: 384x640 21 persons, 12.0ms\n",
            "video 1/1 (frame 249/450) /content/drive/MyDrive/xyz.mp4: 384x640 22 persons, 11.8ms\n",
            "video 1/1 (frame 250/450) /content/drive/MyDrive/xyz.mp4: 384x640 22 persons, 11.9ms\n",
            "video 1/1 (frame 251/450) /content/drive/MyDrive/xyz.mp4: 384x640 26 persons, 12.4ms\n",
            "video 1/1 (frame 252/450) /content/drive/MyDrive/xyz.mp4: 384x640 23 persons, 12.0ms\n",
            "video 1/1 (frame 253/450) /content/drive/MyDrive/xyz.mp4: 384x640 20 persons, 12.9ms\n",
            "video 1/1 (frame 254/450) /content/drive/MyDrive/xyz.mp4: 384x640 22 persons, 11.8ms\n",
            "video 1/1 (frame 255/450) /content/drive/MyDrive/xyz.mp4: 384x640 27 persons, 12.3ms\n",
            "video 1/1 (frame 256/450) /content/drive/MyDrive/xyz.mp4: 384x640 24 persons, 12.0ms\n",
            "video 1/1 (frame 257/450) /content/drive/MyDrive/xyz.mp4: 384x640 21 persons, 11.8ms\n",
            "video 1/1 (frame 258/450) /content/drive/MyDrive/xyz.mp4: 384x640 24 persons, 11.6ms\n",
            "video 1/1 (frame 259/450) /content/drive/MyDrive/xyz.mp4: 384x640 22 persons, 11.7ms\n",
            "video 1/1 (frame 260/450) /content/drive/MyDrive/xyz.mp4: 384x640 21 persons, 11.7ms\n",
            "video 1/1 (frame 261/450) /content/drive/MyDrive/xyz.mp4: 384x640 23 persons, 12.2ms\n",
            "video 1/1 (frame 262/450) /content/drive/MyDrive/xyz.mp4: 384x640 21 persons, 11.5ms\n",
            "video 1/1 (frame 263/450) /content/drive/MyDrive/xyz.mp4: 384x640 22 persons, 11.4ms\n",
            "video 1/1 (frame 264/450) /content/drive/MyDrive/xyz.mp4: 384x640 21 persons, 11.8ms\n",
            "video 1/1 (frame 265/450) /content/drive/MyDrive/xyz.mp4: 384x640 21 persons, 11.8ms\n",
            "video 1/1 (frame 266/450) /content/drive/MyDrive/xyz.mp4: 384x640 21 persons, 11.5ms\n",
            "video 1/1 (frame 267/450) /content/drive/MyDrive/xyz.mp4: 384x640 22 persons, 11.5ms\n",
            "video 1/1 (frame 268/450) /content/drive/MyDrive/xyz.mp4: 384x640 23 persons, 11.6ms\n",
            "video 1/1 (frame 269/450) /content/drive/MyDrive/xyz.mp4: 384x640 25 persons, 11.8ms\n",
            "video 1/1 (frame 270/450) /content/drive/MyDrive/xyz.mp4: 384x640 24 persons, 11.9ms\n",
            "video 1/1 (frame 271/450) /content/drive/MyDrive/xyz.mp4: 384x640 21 persons, 15.7ms\n",
            "video 1/1 (frame 272/450) /content/drive/MyDrive/xyz.mp4: 384x640 20 persons, 11.7ms\n",
            "video 1/1 (frame 273/450) /content/drive/MyDrive/xyz.mp4: 384x640 21 persons, 12.1ms\n",
            "video 1/1 (frame 274/450) /content/drive/MyDrive/xyz.mp4: 384x640 20 persons, 11.7ms\n",
            "video 1/1 (frame 275/450) /content/drive/MyDrive/xyz.mp4: 384x640 20 persons, 11.9ms\n",
            "video 1/1 (frame 276/450) /content/drive/MyDrive/xyz.mp4: 384x640 21 persons, 12.1ms\n",
            "video 1/1 (frame 277/450) /content/drive/MyDrive/xyz.mp4: 384x640 22 persons, 20.6ms\n",
            "video 1/1 (frame 278/450) /content/drive/MyDrive/xyz.mp4: 384x640 23 persons, 26.9ms\n",
            "video 1/1 (frame 279/450) /content/drive/MyDrive/xyz.mp4: 384x640 21 persons, 19.9ms\n",
            "video 1/1 (frame 280/450) /content/drive/MyDrive/xyz.mp4: 384x640 21 persons, 34.8ms\n",
            "video 1/1 (frame 281/450) /content/drive/MyDrive/xyz.mp4: 384x640 22 persons, 9.0ms\n",
            "video 1/1 (frame 282/450) /content/drive/MyDrive/xyz.mp4: 384x640 21 persons, 11.3ms\n",
            "video 1/1 (frame 283/450) /content/drive/MyDrive/xyz.mp4: 384x640 22 persons, 12.1ms\n",
            "video 1/1 (frame 284/450) /content/drive/MyDrive/xyz.mp4: 384x640 24 persons, 11.5ms\n",
            "video 1/1 (frame 285/450) /content/drive/MyDrive/xyz.mp4: 384x640 24 persons, 11.6ms\n",
            "video 1/1 (frame 286/450) /content/drive/MyDrive/xyz.mp4: 384x640 22 persons, 11.5ms\n",
            "video 1/1 (frame 287/450) /content/drive/MyDrive/xyz.mp4: 384x640 22 persons, 13.3ms\n",
            "video 1/1 (frame 288/450) /content/drive/MyDrive/xyz.mp4: 384x640 23 persons, 12.2ms\n",
            "video 1/1 (frame 289/450) /content/drive/MyDrive/xyz.mp4: 384x640 21 persons, 11.7ms\n",
            "video 1/1 (frame 290/450) /content/drive/MyDrive/xyz.mp4: 384x640 22 persons, 12.3ms\n",
            "video 1/1 (frame 291/450) /content/drive/MyDrive/xyz.mp4: 384x640 26 persons, 12.3ms\n",
            "video 1/1 (frame 292/450) /content/drive/MyDrive/xyz.mp4: 384x640 26 persons, 22.4ms\n",
            "video 1/1 (frame 293/450) /content/drive/MyDrive/xyz.mp4: 384x640 24 persons, 11.9ms\n",
            "video 1/1 (frame 294/450) /content/drive/MyDrive/xyz.mp4: 384x640 24 persons, 11.6ms\n",
            "video 1/1 (frame 295/450) /content/drive/MyDrive/xyz.mp4: 384x640 23 persons, 11.6ms\n",
            "video 1/1 (frame 296/450) /content/drive/MyDrive/xyz.mp4: 384x640 25 persons, 11.8ms\n",
            "video 1/1 (frame 297/450) /content/drive/MyDrive/xyz.mp4: 384x640 22 persons, 11.8ms\n",
            "video 1/1 (frame 298/450) /content/drive/MyDrive/xyz.mp4: 384x640 19 persons, 11.8ms\n",
            "video 1/1 (frame 299/450) /content/drive/MyDrive/xyz.mp4: 384x640 21 persons, 12.1ms\n",
            "video 1/1 (frame 300/450) /content/drive/MyDrive/xyz.mp4: 384x640 18 persons, 11.5ms\n",
            "video 1/1 (frame 301/450) /content/drive/MyDrive/xyz.mp4: 384x640 21 persons, 11.7ms\n",
            "video 1/1 (frame 302/450) /content/drive/MyDrive/xyz.mp4: 384x640 21 persons, 11.9ms\n",
            "video 1/1 (frame 303/450) /content/drive/MyDrive/xyz.mp4: 384x640 19 persons, 11.7ms\n",
            "video 1/1 (frame 304/450) /content/drive/MyDrive/xyz.mp4: 384x640 20 persons, 11.7ms\n",
            "video 1/1 (frame 305/450) /content/drive/MyDrive/xyz.mp4: 384x640 22 persons, 11.8ms\n",
            "video 1/1 (frame 306/450) /content/drive/MyDrive/xyz.mp4: 384x640 23 persons, 12.3ms\n",
            "video 1/1 (frame 307/450) /content/drive/MyDrive/xyz.mp4: 384x640 19 persons, 15.2ms\n",
            "video 1/1 (frame 308/450) /content/drive/MyDrive/xyz.mp4: 384x640 18 persons, 19.8ms\n",
            "video 1/1 (frame 309/450) /content/drive/MyDrive/xyz.mp4: 384x640 20 persons, 11.9ms\n",
            "video 1/1 (frame 310/450) /content/drive/MyDrive/xyz.mp4: 384x640 21 persons, 11.7ms\n",
            "video 1/1 (frame 311/450) /content/drive/MyDrive/xyz.mp4: 384x640 21 persons, 11.8ms\n",
            "video 1/1 (frame 312/450) /content/drive/MyDrive/xyz.mp4: 384x640 23 persons, 18.2ms\n",
            "video 1/1 (frame 313/450) /content/drive/MyDrive/xyz.mp4: 384x640 24 persons, 20.0ms\n",
            "video 1/1 (frame 314/450) /content/drive/MyDrive/xyz.mp4: 384x640 26 persons, 25.9ms\n",
            "video 1/1 (frame 315/450) /content/drive/MyDrive/xyz.mp4: 384x640 26 persons, 21.7ms\n",
            "video 1/1 (frame 316/450) /content/drive/MyDrive/xyz.mp4: 384x640 21 persons, 19.8ms\n",
            "video 1/1 (frame 317/450) /content/drive/MyDrive/xyz.mp4: 384x640 23 persons, 27.7ms\n",
            "video 1/1 (frame 318/450) /content/drive/MyDrive/xyz.mp4: 384x640 21 persons, 13.6ms\n",
            "video 1/1 (frame 319/450) /content/drive/MyDrive/xyz.mp4: 384x640 21 persons, 11.9ms\n",
            "video 1/1 (frame 320/450) /content/drive/MyDrive/xyz.mp4: 384x640 27 persons, 11.5ms\n",
            "video 1/1 (frame 321/450) /content/drive/MyDrive/xyz.mp4: 384x640 18 persons, 11.7ms\n",
            "video 1/1 (frame 322/450) /content/drive/MyDrive/xyz.mp4: 384x640 19 persons, 15.0ms\n",
            "video 1/1 (frame 323/450) /content/drive/MyDrive/xyz.mp4: 384x640 18 persons, 16.0ms\n",
            "video 1/1 (frame 324/450) /content/drive/MyDrive/xyz.mp4: 384x640 22 persons, 11.9ms\n",
            "video 1/1 (frame 325/450) /content/drive/MyDrive/xyz.mp4: 384x640 22 persons, 11.7ms\n",
            "video 1/1 (frame 326/450) /content/drive/MyDrive/xyz.mp4: 384x640 21 persons, 11.5ms\n",
            "video 1/1 (frame 327/450) /content/drive/MyDrive/xyz.mp4: 384x640 20 persons, 11.8ms\n",
            "video 1/1 (frame 328/450) /content/drive/MyDrive/xyz.mp4: 384x640 21 persons, 11.7ms\n",
            "video 1/1 (frame 329/450) /content/drive/MyDrive/xyz.mp4: 384x640 23 persons, 11.7ms\n",
            "video 1/1 (frame 330/450) /content/drive/MyDrive/xyz.mp4: 384x640 23 persons, 11.6ms\n",
            "video 1/1 (frame 331/450) /content/drive/MyDrive/xyz.mp4: 384x640 22 persons, 11.2ms\n",
            "video 1/1 (frame 332/450) /content/drive/MyDrive/xyz.mp4: 384x640 26 persons, 12.3ms\n",
            "video 1/1 (frame 333/450) /content/drive/MyDrive/xyz.mp4: 384x640 25 persons, 11.5ms\n",
            "video 1/1 (frame 334/450) /content/drive/MyDrive/xyz.mp4: 384x640 23 persons, 11.6ms\n",
            "video 1/1 (frame 335/450) /content/drive/MyDrive/xyz.mp4: 384x640 24 persons, 11.5ms\n",
            "video 1/1 (frame 336/450) /content/drive/MyDrive/xyz.mp4: 384x640 27 persons, 15.3ms\n",
            "video 1/1 (frame 337/450) /content/drive/MyDrive/xyz.mp4: 384x640 20 persons, 11.7ms\n",
            "video 1/1 (frame 338/450) /content/drive/MyDrive/xyz.mp4: 384x640 18 persons, 12.5ms\n",
            "video 1/1 (frame 339/450) /content/drive/MyDrive/xyz.mp4: 384x640 19 persons, 11.7ms\n",
            "video 1/1 (frame 340/450) /content/drive/MyDrive/xyz.mp4: 384x640 17 persons, 11.9ms\n",
            "video 1/1 (frame 341/450) /content/drive/MyDrive/xyz.mp4: 384x640 22 persons, 11.9ms\n",
            "video 1/1 (frame 342/450) /content/drive/MyDrive/xyz.mp4: 384x640 18 persons, 11.5ms\n",
            "video 1/1 (frame 343/450) /content/drive/MyDrive/xyz.mp4: 384x640 16 persons, 11.6ms\n",
            "video 1/1 (frame 344/450) /content/drive/MyDrive/xyz.mp4: 384x640 18 persons, 14.7ms\n",
            "video 1/1 (frame 345/450) /content/drive/MyDrive/xyz.mp4: 384x640 17 persons, 12.0ms\n",
            "video 1/1 (frame 346/450) /content/drive/MyDrive/xyz.mp4: 384x640 20 persons, 12.3ms\n",
            "video 1/1 (frame 347/450) /content/drive/MyDrive/xyz.mp4: 384x640 20 persons, 11.6ms\n",
            "video 1/1 (frame 348/450) /content/drive/MyDrive/xyz.mp4: 384x640 23 persons, 11.7ms\n",
            "video 1/1 (frame 349/450) /content/drive/MyDrive/xyz.mp4: 384x640 22 persons, 12.2ms\n",
            "video 1/1 (frame 350/450) /content/drive/MyDrive/xyz.mp4: 384x640 20 persons, 20.9ms\n",
            "video 1/1 (frame 351/450) /content/drive/MyDrive/xyz.mp4: 384x640 19 persons, 20.4ms\n",
            "video 1/1 (frame 352/450) /content/drive/MyDrive/xyz.mp4: 384x640 22 persons, 26.8ms\n",
            "video 1/1 (frame 353/450) /content/drive/MyDrive/xyz.mp4: 384x640 22 persons, 20.8ms\n",
            "video 1/1 (frame 354/450) /content/drive/MyDrive/xyz.mp4: 384x640 26 persons, 11.8ms\n",
            "video 1/1 (frame 355/450) /content/drive/MyDrive/xyz.mp4: 384x640 21 persons, 11.9ms\n",
            "video 1/1 (frame 356/450) /content/drive/MyDrive/xyz.mp4: 384x640 21 persons, 24.2ms\n",
            "video 1/1 (frame 357/450) /content/drive/MyDrive/xyz.mp4: 384x640 17 persons, 11.9ms\n",
            "video 1/1 (frame 358/450) /content/drive/MyDrive/xyz.mp4: 384x640 20 persons, 11.6ms\n",
            "video 1/1 (frame 359/450) /content/drive/MyDrive/xyz.mp4: 384x640 21 persons, 14.5ms\n",
            "video 1/1 (frame 360/450) /content/drive/MyDrive/xyz.mp4: 384x640 22 persons, 15.7ms\n",
            "video 1/1 (frame 361/450) /content/drive/MyDrive/xyz.mp4: 384x640 22 persons, 11.8ms\n",
            "video 1/1 (frame 362/450) /content/drive/MyDrive/xyz.mp4: 384x640 20 persons, 11.6ms\n",
            "video 1/1 (frame 363/450) /content/drive/MyDrive/xyz.mp4: 384x640 19 persons, 11.5ms\n",
            "video 1/1 (frame 364/450) /content/drive/MyDrive/xyz.mp4: 384x640 19 persons, 11.5ms\n",
            "video 1/1 (frame 365/450) /content/drive/MyDrive/xyz.mp4: 384x640 17 persons, 14.6ms\n",
            "video 1/1 (frame 366/450) /content/drive/MyDrive/xyz.mp4: 384x640 19 persons, 11.8ms\n",
            "video 1/1 (frame 367/450) /content/drive/MyDrive/xyz.mp4: 384x640 23 persons, 11.5ms\n",
            "video 1/1 (frame 368/450) /content/drive/MyDrive/xyz.mp4: 384x640 20 persons, 11.5ms\n",
            "video 1/1 (frame 369/450) /content/drive/MyDrive/xyz.mp4: 384x640 20 persons, 14.9ms\n",
            "video 1/1 (frame 370/450) /content/drive/MyDrive/xyz.mp4: 384x640 20 persons, 11.5ms\n",
            "video 1/1 (frame 371/450) /content/drive/MyDrive/xyz.mp4: 384x640 22 persons, 11.6ms\n",
            "video 1/1 (frame 372/450) /content/drive/MyDrive/xyz.mp4: 384x640 20 persons, 11.6ms\n",
            "video 1/1 (frame 373/450) /content/drive/MyDrive/xyz.mp4: 384x640 22 persons, 11.6ms\n",
            "video 1/1 (frame 374/450) /content/drive/MyDrive/xyz.mp4: 384x640 19 persons, 13.5ms\n",
            "video 1/1 (frame 375/450) /content/drive/MyDrive/xyz.mp4: 384x640 20 persons, 13.7ms\n",
            "video 1/1 (frame 376/450) /content/drive/MyDrive/xyz.mp4: 384x640 18 persons, 12.5ms\n",
            "video 1/1 (frame 377/450) /content/drive/MyDrive/xyz.mp4: 384x640 18 persons, 16.8ms\n",
            "video 1/1 (frame 378/450) /content/drive/MyDrive/xyz.mp4: 384x640 16 persons, 12.5ms\n",
            "video 1/1 (frame 379/450) /content/drive/MyDrive/xyz.mp4: 384x640 16 persons, 12.9ms\n",
            "video 1/1 (frame 380/450) /content/drive/MyDrive/xyz.mp4: 384x640 15 persons, 12.7ms\n",
            "video 1/1 (frame 381/450) /content/drive/MyDrive/xyz.mp4: 384x640 18 persons, 12.5ms\n",
            "video 1/1 (frame 382/450) /content/drive/MyDrive/xyz.mp4: 384x640 21 persons, 15.8ms\n",
            "video 1/1 (frame 383/450) /content/drive/MyDrive/xyz.mp4: 384x640 19 persons, 11.7ms\n",
            "video 1/1 (frame 384/450) /content/drive/MyDrive/xyz.mp4: 384x640 21 persons, 11.6ms\n",
            "video 1/1 (frame 385/450) /content/drive/MyDrive/xyz.mp4: 384x640 19 persons, 20.8ms\n",
            "video 1/1 (frame 386/450) /content/drive/MyDrive/xyz.mp4: 384x640 21 persons, 21.9ms\n",
            "video 1/1 (frame 387/450) /content/drive/MyDrive/xyz.mp4: 384x640 23 persons, 28.9ms\n",
            "video 1/1 (frame 388/450) /content/drive/MyDrive/xyz.mp4: 384x640 22 persons, 14.8ms\n",
            "video 1/1 (frame 389/450) /content/drive/MyDrive/xyz.mp4: 384x640 18 persons, 13.0ms\n",
            "video 1/1 (frame 390/450) /content/drive/MyDrive/xyz.mp4: 384x640 17 persons, 11.5ms\n",
            "video 1/1 (frame 391/450) /content/drive/MyDrive/xyz.mp4: 384x640 18 persons, 11.3ms\n",
            "video 1/1 (frame 392/450) /content/drive/MyDrive/xyz.mp4: 384x640 18 persons, 13.0ms\n",
            "video 1/1 (frame 393/450) /content/drive/MyDrive/xyz.mp4: 384x640 21 persons, 18.0ms\n",
            "video 1/1 (frame 394/450) /content/drive/MyDrive/xyz.mp4: 384x640 19 persons, 12.9ms\n",
            "video 1/1 (frame 395/450) /content/drive/MyDrive/xyz.mp4: 384x640 19 persons, 12.8ms\n",
            "video 1/1 (frame 396/450) /content/drive/MyDrive/xyz.mp4: 384x640 21 persons, 13.2ms\n",
            "video 1/1 (frame 397/450) /content/drive/MyDrive/xyz.mp4: 384x640 24 persons, 12.2ms\n",
            "video 1/1 (frame 398/450) /content/drive/MyDrive/xyz.mp4: 384x640 23 persons, 12.2ms\n",
            "video 1/1 (frame 399/450) /content/drive/MyDrive/xyz.mp4: 384x640 24 persons, 14.7ms\n",
            "video 1/1 (frame 400/450) /content/drive/MyDrive/xyz.mp4: 384x640 21 persons, 11.4ms\n",
            "video 1/1 (frame 401/450) /content/drive/MyDrive/xyz.mp4: 384x640 18 persons, 12.2ms\n",
            "video 1/1 (frame 402/450) /content/drive/MyDrive/xyz.mp4: 384x640 18 persons, 12.0ms\n",
            "video 1/1 (frame 403/450) /content/drive/MyDrive/xyz.mp4: 384x640 18 persons, 12.0ms\n",
            "video 1/1 (frame 404/450) /content/drive/MyDrive/xyz.mp4: 384x640 18 persons, 12.0ms\n",
            "video 1/1 (frame 405/450) /content/drive/MyDrive/xyz.mp4: 384x640 18 persons, 12.1ms\n",
            "video 1/1 (frame 406/450) /content/drive/MyDrive/xyz.mp4: 384x640 17 persons, 11.9ms\n",
            "video 1/1 (frame 407/450) /content/drive/MyDrive/xyz.mp4: 384x640 18 persons, 12.0ms\n",
            "video 1/1 (frame 408/450) /content/drive/MyDrive/xyz.mp4: 384x640 18 persons, 11.7ms\n",
            "video 1/1 (frame 409/450) /content/drive/MyDrive/xyz.mp4: 384x640 19 persons, 12.0ms\n",
            "video 1/1 (frame 410/450) /content/drive/MyDrive/xyz.mp4: 384x640 19 persons, 12.0ms\n",
            "video 1/1 (frame 411/450) /content/drive/MyDrive/xyz.mp4: 384x640 24 persons, 12.1ms\n",
            "video 1/1 (frame 412/450) /content/drive/MyDrive/xyz.mp4: 384x640 22 persons, 11.8ms\n",
            "video 1/1 (frame 413/450) /content/drive/MyDrive/xyz.mp4: 384x640 23 persons, 11.8ms\n",
            "video 1/1 (frame 414/450) /content/drive/MyDrive/xyz.mp4: 384x640 23 persons, 11.8ms\n",
            "video 1/1 (frame 415/450) /content/drive/MyDrive/xyz.mp4: 384x640 25 persons, 12.0ms\n",
            "video 1/1 (frame 416/450) /content/drive/MyDrive/xyz.mp4: 384x640 23 persons, 12.0ms\n",
            "video 1/1 (frame 417/450) /content/drive/MyDrive/xyz.mp4: 384x640 20 persons, 11.8ms\n",
            "video 1/1 (frame 418/450) /content/drive/MyDrive/xyz.mp4: 384x640 21 persons, 11.9ms\n",
            "video 1/1 (frame 419/450) /content/drive/MyDrive/xyz.mp4: 384x640 21 persons, 11.6ms\n",
            "video 1/1 (frame 420/450) /content/drive/MyDrive/xyz.mp4: 384x640 21 persons, 14.0ms\n",
            "video 1/1 (frame 421/450) /content/drive/MyDrive/xyz.mp4: 384x640 21 persons, 14.0ms\n",
            "video 1/1 (frame 422/450) /content/drive/MyDrive/xyz.mp4: 384x640 21 persons, 14.4ms\n",
            "video 1/1 (frame 423/450) /content/drive/MyDrive/xyz.mp4: 384x640 22 persons, 15.8ms\n",
            "video 1/1 (frame 424/450) /content/drive/MyDrive/xyz.mp4: 384x640 21 persons, 10.2ms\n",
            "video 1/1 (frame 425/450) /content/drive/MyDrive/xyz.mp4: 384x640 24 persons, 14.6ms\n",
            "video 1/1 (frame 426/450) /content/drive/MyDrive/xyz.mp4: 384x640 26 persons, 11.5ms\n",
            "video 1/1 (frame 427/450) /content/drive/MyDrive/xyz.mp4: 384x640 24 persons, 11.3ms\n",
            "video 1/1 (frame 428/450) /content/drive/MyDrive/xyz.mp4: 384x640 23 persons, 12.2ms\n",
            "video 1/1 (frame 429/450) /content/drive/MyDrive/xyz.mp4: 384x640 23 persons, 11.4ms\n",
            "video 1/1 (frame 430/450) /content/drive/MyDrive/xyz.mp4: 384x640 23 persons, 11.6ms\n",
            "video 1/1 (frame 431/450) /content/drive/MyDrive/xyz.mp4: 384x640 22 persons, 30.0ms\n",
            "video 1/1 (frame 432/450) /content/drive/MyDrive/xyz.mp4: 384x640 24 persons, 11.5ms\n",
            "video 1/1 (frame 433/450) /content/drive/MyDrive/xyz.mp4: 384x640 22 persons, 12.0ms\n",
            "video 1/1 (frame 434/450) /content/drive/MyDrive/xyz.mp4: 384x640 23 persons, 11.6ms\n",
            "video 1/1 (frame 435/450) /content/drive/MyDrive/xyz.mp4: 384x640 21 persons, 11.7ms\n",
            "video 1/1 (frame 436/450) /content/drive/MyDrive/xyz.mp4: 384x640 22 persons, 11.4ms\n",
            "video 1/1 (frame 437/450) /content/drive/MyDrive/xyz.mp4: 384x640 21 persons, 11.7ms\n",
            "video 1/1 (frame 438/450) /content/drive/MyDrive/xyz.mp4: 384x640 23 persons, 11.6ms\n",
            "video 1/1 (frame 439/450) /content/drive/MyDrive/xyz.mp4: 384x640 21 persons, 11.5ms\n",
            "video 1/1 (frame 440/450) /content/drive/MyDrive/xyz.mp4: 384x640 23 persons, 11.7ms\n",
            "video 1/1 (frame 441/450) /content/drive/MyDrive/xyz.mp4: 384x640 20 persons, 11.9ms\n",
            "video 1/1 (frame 442/450) /content/drive/MyDrive/xyz.mp4: 384x640 22 persons, 11.6ms\n",
            "video 1/1 (frame 443/450) /content/drive/MyDrive/xyz.mp4: 384x640 20 persons, 11.6ms\n",
            "video 1/1 (frame 444/450) /content/drive/MyDrive/xyz.mp4: 384x640 21 persons, 11.8ms\n",
            "video 1/1 (frame 445/450) /content/drive/MyDrive/xyz.mp4: 384x640 16 persons, 11.5ms\n",
            "video 1/1 (frame 446/450) /content/drive/MyDrive/xyz.mp4: 384x640 18 persons, 11.9ms\n",
            "video 1/1 (frame 447/450) /content/drive/MyDrive/xyz.mp4: 384x640 20 persons, 11.7ms\n",
            "video 1/1 (frame 448/450) /content/drive/MyDrive/xyz.mp4: 384x640 25 persons, 11.7ms\n",
            "video 1/1 (frame 449/450) /content/drive/MyDrive/xyz.mp4: 384x640 26 persons, 11.8ms\n",
            "video 1/1 (frame 450/450) /content/drive/MyDrive/xyz.mp4: 384x640 25 persons, 11.8ms\n",
            "Speed: 4.7ms preprocess, 21.8ms inference, 3.9ms postprocess per image at shape (1, 3, 384, 640)\n"
          ]
        }
      ]
    },
    {
      "cell_type": "code",
      "source": [
        "import cv2\n",
        "import os\n",
        "\n",
        "def visualize_predictions(video_path, results):\n",
        "    # Open the video\n",
        "    cap = cv2.VideoCapture(video_path)\n",
        "\n",
        "    # Ensure video is opened successfully\n",
        "    if not cap.isOpened():\n",
        "        print(f\"Error: Could not open video file {video_path}\")\n",
        "        return None\n",
        "\n",
        "    # Create a video writer to save the output\n",
        "    width = int(cap.get(cv2.CAP_PROP_FRAME_WIDTH))\n",
        "    height = int(cap.get(cv2.CAP_PROP_FRAME_HEIGHT))\n",
        "    fps = cap.get(cv2.CAP_PROP_FPS)\n",
        "\n",
        "    # Output path in Google Drive\n",
        "    output_path = '/content/drive/MyDrive/output_annotated_video.mp4'\n",
        "\n",
        "    # Ensure the directory exists\n",
        "    os.makedirs(os.path.dirname(output_path), exist_ok=True)\n",
        "\n",
        "    # Use H.264 codec for better compatibility\n",
        "    fourcc = cv2.VideoWriter_fourcc(*'avc1')\n",
        "    out = cv2.VideoWriter(output_path,\n",
        "                          fourcc,\n",
        "                          fps,\n",
        "                          (width, height))\n",
        "\n",
        "    # Validate output video writer\n",
        "    if not out.isOpened():\n",
        "        print(\"Error: Could not create video writer\")\n",
        "        cap.release()\n",
        "        return None\n",
        "\n",
        "    # Frame index\n",
        "    frame_idx = 0\n",
        "\n",
        "    while cap.isOpened():\n",
        "        ret, frame = cap.read()\n",
        "        if not ret:\n",
        "            break\n",
        "\n",
        "        # Safely get predictions for this frame\n",
        "        if frame_idx < len(results):\n",
        "            frame_result = results[frame_idx]\n",
        "\n",
        "            # Check if the result has a .boxes attribute (common in Ultralytics models)\n",
        "            if hasattr(frame_result, 'boxes'):\n",
        "                # Iterate through detected boxes\n",
        "                for box in frame_result.boxes:\n",
        "                    # Get bounding box coordinates\n",
        "                    xyxy = box.xyxy[0].cpu().numpy()\n",
        "                    x1, y1, x2, y2 = map(int, xyxy)\n",
        "\n",
        "                    # Draw rectangle\n",
        "                    cv2.rectangle(frame, (x1, y1), (x2, y2), (0, 255, 0), 2)\n",
        "\n",
        "            # Write the frame\n",
        "            out.write(frame)\n",
        "\n",
        "        frame_idx += 1\n",
        "\n",
        "    # Release resources\n",
        "    cap.release()\n",
        "    out.release()\n",
        "\n",
        "    print(f\"Video saved as '{output_path}'\")\n",
        "    return output_path\n",
        "\n",
        "# Call the function with your video path and predictions\n",
        "output_video_path = visualize_predictions('/content/drive/MyDrive/xyz.mp4', results)"
      ],
      "metadata": {
        "colab": {
          "base_uri": "https://localhost:8080/"
        },
        "id": "6rf7eaQgFuY6",
        "outputId": "bd2bdc01-05c5-4d62-ba64-616e5c4d1fc8"
      },
      "execution_count": null,
      "outputs": [
        {
          "output_type": "stream",
          "name": "stdout",
          "text": [
            "Error: Could not create video writer\n"
          ]
        }
      ]
    },
    {
      "cell_type": "code",
      "source": [
        "import os\n",
        "\n",
        "# Check if the file exists and its size\n",
        "if os.path.exists('output_video.mp4'):\n",
        "    print(f\"File size: {os.path.getsize('output_video.mp4')} bytes\")\n",
        "else:\n",
        "    print(\"File was not created\")"
      ],
      "metadata": {
        "colab": {
          "base_uri": "https://localhost:8080/"
        },
        "id": "lwPl7byoGwWv",
        "outputId": "b80c8656-77e8-4c5c-f756-35169d2a7d71"
      },
      "execution_count": null,
      "outputs": [
        {
          "output_type": "stream",
          "name": "stdout",
          "text": [
            "File was not created\n"
          ]
        }
      ]
    },
    {
      "cell_type": "code",
      "source": [
        "from google.colab import files\n",
        "files.download('/content/output_video.mp4')"
      ],
      "metadata": {
        "colab": {
          "base_uri": "https://localhost:8080/",
          "height": 280
        },
        "id": "sNq014cLP5yB",
        "outputId": "9dffcd84-f871-44f1-e500-23c0e347643c"
      },
      "execution_count": null,
      "outputs": [
        {
          "output_type": "error",
          "ename": "FileNotFoundError",
          "evalue": "Cannot find file: /content/output_video.mp4",
          "traceback": [
            "\u001b[0;31m---------------------------------------------------------------------------\u001b[0m",
            "\u001b[0;31mFileNotFoundError\u001b[0m                         Traceback (most recent call last)",
            "\u001b[0;32m<ipython-input-40-dd5e99465e16>\u001b[0m in \u001b[0;36m<cell line: 2>\u001b[0;34m()\u001b[0m\n\u001b[1;32m      1\u001b[0m \u001b[0;32mfrom\u001b[0m \u001b[0mgoogle\u001b[0m\u001b[0;34m.\u001b[0m\u001b[0mcolab\u001b[0m \u001b[0;32mimport\u001b[0m \u001b[0mfiles\u001b[0m\u001b[0;34m\u001b[0m\u001b[0;34m\u001b[0m\u001b[0m\n\u001b[0;32m----> 2\u001b[0;31m \u001b[0mfiles\u001b[0m\u001b[0;34m.\u001b[0m\u001b[0mdownload\u001b[0m\u001b[0;34m(\u001b[0m\u001b[0;34m'/content/output_video.mp4'\u001b[0m\u001b[0;34m)\u001b[0m\u001b[0;34m\u001b[0m\u001b[0;34m\u001b[0m\u001b[0m\n\u001b[0m",
            "\u001b[0;32m/usr/local/lib/python3.10/dist-packages/google/colab/files.py\u001b[0m in \u001b[0;36mdownload\u001b[0;34m(filename)\u001b[0m\n\u001b[1;32m    231\u001b[0m   \u001b[0;32mif\u001b[0m \u001b[0;32mnot\u001b[0m \u001b[0m_os\u001b[0m\u001b[0;34m.\u001b[0m\u001b[0mpath\u001b[0m\u001b[0;34m.\u001b[0m\u001b[0mexists\u001b[0m\u001b[0;34m(\u001b[0m\u001b[0mfilename\u001b[0m\u001b[0;34m)\u001b[0m\u001b[0;34m:\u001b[0m\u001b[0;34m\u001b[0m\u001b[0;34m\u001b[0m\u001b[0m\n\u001b[1;32m    232\u001b[0m     \u001b[0mmsg\u001b[0m \u001b[0;34m=\u001b[0m \u001b[0;34m'Cannot find file: {}'\u001b[0m\u001b[0;34m.\u001b[0m\u001b[0mformat\u001b[0m\u001b[0;34m(\u001b[0m\u001b[0mfilename\u001b[0m\u001b[0;34m)\u001b[0m\u001b[0;34m\u001b[0m\u001b[0;34m\u001b[0m\u001b[0m\n\u001b[0;32m--> 233\u001b[0;31m     \u001b[0;32mraise\u001b[0m \u001b[0mFileNotFoundError\u001b[0m\u001b[0;34m(\u001b[0m\u001b[0mmsg\u001b[0m\u001b[0;34m)\u001b[0m  \u001b[0;31m# pylint: disable=undefined-variable\u001b[0m\u001b[0;34m\u001b[0m\u001b[0;34m\u001b[0m\u001b[0m\n\u001b[0m\u001b[1;32m    234\u001b[0m \u001b[0;34m\u001b[0m\u001b[0m\n\u001b[1;32m    235\u001b[0m   \u001b[0mcomm_manager\u001b[0m \u001b[0;34m=\u001b[0m \u001b[0m_IPython\u001b[0m\u001b[0;34m.\u001b[0m\u001b[0mget_ipython\u001b[0m\u001b[0;34m(\u001b[0m\u001b[0;34m)\u001b[0m\u001b[0;34m.\u001b[0m\u001b[0mkernel\u001b[0m\u001b[0;34m.\u001b[0m\u001b[0mcomm_manager\u001b[0m\u001b[0;34m\u001b[0m\u001b[0;34m\u001b[0m\u001b[0m\n",
            "\u001b[0;31mFileNotFoundError\u001b[0m: Cannot find file: /content/output_video.mp4"
          ]
        }
      ]
    },
    {
      "cell_type": "code",
      "source": [
        "import locale\n",
        "locale.getpreferredencoding = lambda: \"UTF-8\""
      ],
      "metadata": {
        "id": "o9jFZAi4f3aG"
      },
      "execution_count": null,
      "outputs": []
    },
    {
      "cell_type": "code",
      "source": [
        "!pip install supervision -q"
      ],
      "metadata": {
        "colab": {
          "base_uri": "https://localhost:8080/"
        },
        "id": "2bk0YBqrfpMa",
        "outputId": "f0020e21-de76-49e4-b89c-4f0b1a6a49b3"
      },
      "execution_count": null,
      "outputs": [
        {
          "output_type": "stream",
          "name": "stdout",
          "text": [
            "\u001b[?25l   \u001b[90m━━━━━━━━━━━━━━━━━━━━━━━━━━━━━━━━━━━━━━━━\u001b[0m \u001b[32m0.0/181.5 kB\u001b[0m \u001b[31m?\u001b[0m eta \u001b[36m-:--:--\u001b[0m\r\u001b[2K   \u001b[90m━━━━━━━━━━━━━━━━━━━━━━━━━━━━━━━━━━━━━━━━\u001b[0m \u001b[32m181.5/181.5 kB\u001b[0m \u001b[31m9.5 MB/s\u001b[0m eta \u001b[36m0:00:00\u001b[0m\n",
            "\u001b[?25h"
          ]
        }
      ]
    },
    {
      "cell_type": "code",
      "source": [
        "import numpy as np\n",
        "import supervision as sv\n",
        "from supervision import VideoInfo\n",
        "\n",
        "polygon = np.array([\n",
        "    [1725, 1550],\n",
        "    [2725, 1550],\n",
        "    [3500, 2160],\n",
        "    [1250, 2160]\n",
        "])\n",
        "\n",
        "zone = sv.PolygonZone(polygon=polygon)\n",
        "box_annotator = sv.BoundingBoxAnnotator(thickness=4)\n",
        "label_annotator = sv.LabelAnnotator(text_thickness=4, text_scale=2)\n",
        "zone_annotator = sv.PolygonZoneAnnotator(\n",
        "    zone=zone, color=sv.Color.WHITE, thickness=6, text_thickness=6, text_scale=4\n",
        ")\n",
        "\n",
        "# Define frame processing function\n",
        "def process_frame(frame: np.ndarray) -> np.ndarray:\n",
        "    # Perform object detection\n",
        "    results = model(frame, imgsz=1280)[0]\n",
        "    detections = sv.Detections.from_ultralytics(results)\n",
        "\n",
        "    # Filter for people class (class_id == 0 in COCO dataset)\n",
        "    detections = detections[detections.class_id == 0]\n",
        "\n",
        "    # Trigger zone for live tracking\n",
        "    zone.trigger(detections=detections)\n",
        "\n",
        "    # Annotate frame\n",
        "    labels = [\n",
        "        f\"{model.names[class_id]} {confidence:0.2f}\"\n",
        "        for _, _, confidence, class_id, _, _ in detections\n",
        "    ]\n",
        "    frame = box_annotator.annotate(scene=frame, detections=detections)\n",
        "    frame = label_annotator.annotate(scene=frame, detections=detections, labels=labels)\n",
        "    frame = zone_annotator.annotate(scene=frame)\n",
        "\n",
        "    return frame\n",
        "\n",
        "# Load video frames (replace 'your_video_path.mp4' with the actual path)\n",
        "video_path = \"your_video_path.mp4\"\n",
        "video_info = VideoInfo.from_video_path(video_path)\n",
        "\n",
        "# Process video\n",
        "sv.process_video(\n",
        "    source_path=video_path,\n",
        "    target_path=\"output_with_live_tracking.mp4\",\n",
        "    callback=process_frame\n",
        ")"
      ],
      "metadata": {
        "id": "IKz9LKeGQXkA",
        "colab": {
          "base_uri": "https://localhost:8080/",
          "height": 369
        },
        "outputId": "9cc3d569-70fb-4695-f1b4-77b873e96477"
      },
      "execution_count": null,
      "outputs": [
        {
          "output_type": "stream",
          "name": "stderr",
          "text": [
            "SupervisionWarnings: BoundingBoxAnnotator is deprecated: `BoundingBoxAnnotator` is deprecated and has been renamed to `BoxAnnotator`. `BoundingBoxAnnotator` will be removed in supervision-0.26.0.\n"
          ]
        },
        {
          "output_type": "error",
          "ename": "Exception",
          "evalue": "Could not open video at your_video_path.mp4",
          "traceback": [
            "\u001b[0;31m---------------------------------------------------------------------------\u001b[0m",
            "\u001b[0;31mException\u001b[0m                                 Traceback (most recent call last)",
            "\u001b[0;32m<ipython-input-29-35a997f56c52>\u001b[0m in \u001b[0;36m<cell line: 44>\u001b[0;34m()\u001b[0m\n\u001b[1;32m     42\u001b[0m \u001b[0;31m# Load video frames (replace 'your_video_path.mp4' with the actual path)\u001b[0m\u001b[0;34m\u001b[0m\u001b[0;34m\u001b[0m\u001b[0m\n\u001b[1;32m     43\u001b[0m \u001b[0mvideo_path\u001b[0m \u001b[0;34m=\u001b[0m \u001b[0;34m\"your_video_path.mp4\"\u001b[0m\u001b[0;34m\u001b[0m\u001b[0;34m\u001b[0m\u001b[0m\n\u001b[0;32m---> 44\u001b[0;31m \u001b[0mvideo_info\u001b[0m \u001b[0;34m=\u001b[0m \u001b[0mVideoInfo\u001b[0m\u001b[0;34m.\u001b[0m\u001b[0mfrom_video_path\u001b[0m\u001b[0;34m(\u001b[0m\u001b[0mvideo_path\u001b[0m\u001b[0;34m)\u001b[0m\u001b[0;34m\u001b[0m\u001b[0;34m\u001b[0m\u001b[0m\n\u001b[0m\u001b[1;32m     45\u001b[0m \u001b[0;34m\u001b[0m\u001b[0m\n\u001b[1;32m     46\u001b[0m \u001b[0;31m# Process video\u001b[0m\u001b[0;34m\u001b[0m\u001b[0;34m\u001b[0m\u001b[0m\n",
            "\u001b[0;32m/usr/local/lib/python3.10/dist-packages/supervision/utils/video.py\u001b[0m in \u001b[0;36mfrom_video_path\u001b[0;34m(cls, video_path)\u001b[0m\n\u001b[1;32m     46\u001b[0m         \u001b[0mvideo\u001b[0m \u001b[0;34m=\u001b[0m \u001b[0mcv2\u001b[0m\u001b[0;34m.\u001b[0m\u001b[0mVideoCapture\u001b[0m\u001b[0;34m(\u001b[0m\u001b[0mvideo_path\u001b[0m\u001b[0;34m)\u001b[0m\u001b[0;34m\u001b[0m\u001b[0;34m\u001b[0m\u001b[0m\n\u001b[1;32m     47\u001b[0m         \u001b[0;32mif\u001b[0m \u001b[0;32mnot\u001b[0m \u001b[0mvideo\u001b[0m\u001b[0;34m.\u001b[0m\u001b[0misOpened\u001b[0m\u001b[0;34m(\u001b[0m\u001b[0;34m)\u001b[0m\u001b[0;34m:\u001b[0m\u001b[0;34m\u001b[0m\u001b[0;34m\u001b[0m\u001b[0m\n\u001b[0;32m---> 48\u001b[0;31m             \u001b[0;32mraise\u001b[0m \u001b[0mException\u001b[0m\u001b[0;34m(\u001b[0m\u001b[0;34mf\"Could not open video at {video_path}\"\u001b[0m\u001b[0;34m)\u001b[0m\u001b[0;34m\u001b[0m\u001b[0;34m\u001b[0m\u001b[0m\n\u001b[0m\u001b[1;32m     49\u001b[0m \u001b[0;34m\u001b[0m\u001b[0m\n\u001b[1;32m     50\u001b[0m         \u001b[0mwidth\u001b[0m \u001b[0;34m=\u001b[0m \u001b[0mint\u001b[0m\u001b[0;34m(\u001b[0m\u001b[0mvideo\u001b[0m\u001b[0;34m.\u001b[0m\u001b[0mget\u001b[0m\u001b[0;34m(\u001b[0m\u001b[0mcv2\u001b[0m\u001b[0;34m.\u001b[0m\u001b[0mCAP_PROP_FRAME_WIDTH\u001b[0m\u001b[0;34m)\u001b[0m\u001b[0;34m)\u001b[0m\u001b[0;34m\u001b[0m\u001b[0;34m\u001b[0m\u001b[0m\n",
            "\u001b[0;31mException\u001b[0m: Could not open video at your_video_path.mp4"
          ]
        }
      ]
    },
    {
      "cell_type": "code",
      "source": [],
      "metadata": {
        "id": "gEkFr5LNdo23"
      },
      "execution_count": null,
      "outputs": []
    }
  ]
}